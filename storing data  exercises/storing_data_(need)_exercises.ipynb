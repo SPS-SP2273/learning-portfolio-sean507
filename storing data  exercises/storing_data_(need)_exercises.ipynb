{
 "cells": [
  {
   "cell_type": "markdown",
   "id": "123456",
   "metadata": {},
   "source": [
    "<div style=\"text-align:left;font-size:2em\"><span style=\"font-weight:bolder;font-size:1.25em\">SP2273 | Learning Portfolio</span><br><br><span style=\"font-weight:bold;color:darkred\">Storing Data (Need) Exercises</span></div>"
   ]
  },
  {
   "cell_type": "markdown",
   "id": "b038bb12",
   "metadata": {},
   "source": [
    "#### Similarities between List and Array\n",
    "\n",
    "1. Both list and array stores values in the form of elements\n",
    "1. Both uses [] and commas to separate elements\n",
    "\n",
    "#### Differences between List and Array\n",
    "\n",
    "1. A nested list can contain different number of elements but the nested arrays must contain the same number of elements\n",
    "1. When adding, multiplying, squaring the list by a number, the mathematical operations operate on the list itself. On the other hand, the mathematical operations work on the (mathematical elements) within the array\n",
    "\n",
    "#### What is a dictionary?\n",
    "\n",
    "1. A dictionary stores assigns a key to a value by the following relationship \"key\":\"value\""
   ]
  },
  {
   "cell_type": "code",
   "execution_count": 9,
   "id": "bcbfbb5d",
   "metadata": {},
   "outputs": [
    {
     "name": "stdout",
     "output_type": "stream",
     "text": [
      "a1\n",
      "c3\n",
      "e5\n",
      "g7\n",
      "i9\n"
     ]
    }
   ],
   "source": [
    "py_list = [\"a1\", \"b2\", \"c3\", \"d4\", \"e5\", \"f6\", \"g7\", \"h8\", \"i9\", \"j10\"]\n",
    "print(py_list[0])   # Prints 'a1'\n",
    "print(py_list[2])   # Prints 'c3'\n",
    "print(py_list[4])   # Prints 'e5'\n",
    "print(py_list[6])    # Prints 'g7'\n",
    "print(py_list[8])   # Prints 'i9'"
   ]
  },
  {
   "cell_type": "code",
   "execution_count": 1,
   "id": "710b1e15",
   "metadata": {},
   "outputs": [
    {
     "name": "stdout",
     "output_type": "stream",
     "text": [
      "Boron\n",
      "Boron\n"
     ]
    }
   ],
   "source": [
    "elements = ['Hydrogen',\n",
    "            'Helium', 'Lithium',\n",
    "            'Beryllium', 'Boron', 'Carbon',\n",
    "            'Nitrogen', 'Oxygen',\n",
    "            'Fluorine',\n",
    "            'Neon']\n",
    "\n",
    "print(elements[4])\n",
    "print(elements[4-len(elements)])"
   ]
  },
  {
   "cell_type": "code",
   "execution_count": 2,
   "id": "731c80f8",
   "metadata": {},
   "outputs": [
    {
     "name": "stdout",
     "output_type": "stream",
     "text": [
      "9\n"
     ]
    }
   ],
   "source": [
    "import numpy as np\n",
    "numbers=[45, 60, 1, 30, 96, 1, 96, 57, 16, 1,\n",
    "        99, 62, 86, 43, 42, 60, 59, 1, 1, 35,\n",
    "        83, 47, 34, 28, 68, 23, 22, 92, 1, 79,\n",
    "        1, 29, 94, 72, 46, 47, 1, 74, 32, 20,\n",
    "        8, 37, 35, 1, 89, 29, 86, 19, 43, 61]    \n",
    "\n",
    "numbers_array = np.array(numbers)\n",
    "new_array = numbers_array == 1\n",
    "print(new_array.sum())"
   ]
  },
  {
   "cell_type": "code",
   "execution_count": 7,
   "id": "39bae0ca",
   "metadata": {},
   "outputs": [
    {
     "name": "stdout",
     "output_type": "stream",
     "text": [
      "a1\n",
      "c3\n",
      "e5\n",
      "g7\n",
      "i9\n"
     ]
    }
   ],
   "source": [
    "for i in range(len(py_list)):\n",
    "    if not(i % 2): #if i%2 == 0 (0=false, non-zero = true)\n",
    "        print(py_list[i])"
   ]
  },
  {
   "cell_type": "code",
   "execution_count": 6,
   "id": "3251d19a",
   "metadata": {},
   "outputs": [
    {
     "name": "stdout",
     "output_type": "stream",
     "text": [
      "b9\n",
      "d7\n",
      "f5\n",
      "h3\n",
      "j1\n"
     ]
    }
   ],
   "source": [
    "newpy_list = [\"a10\", \"b9\", \"c8\", \"d7\", \"e6\", \"f5\", \"g4\", \"h3\", \"i2\", \"j1\"]\n",
    "\n",
    "for i in newpy_list:\n",
    "    \n",
    "    letter, number = i[0], int(i[1:])\n",
    "    \n",
    "    if number %2 !=0:\n",
    "        print(i)\n",
    "\n"
   ]
  }
 ],
 "metadata": {
  "kernelspec": {
   "display_name": "Python 3 (ipykernel)",
   "language": "python",
   "name": "python3"
  },
  "language_info": {
   "codemirror_mode": {
    "name": "ipython",
    "version": 3
   },
   "file_extension": ".py",
   "mimetype": "text/x-python",
   "name": "python",
   "nbconvert_exporter": "python",
   "pygments_lexer": "ipython3",
   "version": "3.11.5"
  },
  "toc": {
   "base_numbering": 1,
   "nav_menu": {},
   "number_sections": true,
   "sideBar": true,
   "skip_h1_title": false,
   "title_cell": "Table of Contents",
   "title_sidebar": "Contents",
   "toc_cell": false,
   "toc_position": {},
   "toc_section_display": true,
   "toc_window_display": false
  },
  "vscode": {
   "interpreter": {
    "hash": "31f2aee4e71d21fbe5cf8b01ff0e069b9275f58929596ceb00d14d90e3e16cd6"
   }
  }
 },
 "nbformat": 4,
 "nbformat_minor": 5
}
