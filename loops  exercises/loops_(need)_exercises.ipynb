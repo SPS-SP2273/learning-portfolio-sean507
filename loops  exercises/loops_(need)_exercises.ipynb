{
 "cells": [
  {
   "cell_type": "markdown",
   "id": "123456",
   "metadata": {},
   "source": [
    "<div style=\"text-align:left;font-size:2em\"><span style=\"font-weight:bolder;font-size:1.25em\">SP2273 | Learning Portfolio</span><br><br><span style=\"font-weight:bold;color:darkred\">Loops (Need) Exercises</span></div>"
   ]
  },
  {
   "cell_type": "code",
   "execution_count": 23,
   "id": "0c0da1a7",
   "metadata": {},
   "outputs": [
    {
     "name": "stdout",
     "output_type": "stream",
     "text": [
      "0°C -> 32.0°F\n",
      "5°C -> 39.0°F\n",
      "10°C -> 46.0°F\n",
      "15°C -> 53.0°F\n",
      "20°C -> 60.0°F\n",
      "25°C -> 67.0°F\n",
      "30°C -> 74.0°F\n",
      "35°C -> 81.0°F\n",
      "40°C -> 88.0°F\n",
      "45°C -> 95.0°F\n",
      "50°C -> 102.0°F\n"
     ]
    }
   ],
   "source": [
    "temperatures_celsius = [\n",
    "    0, 5, 10, 15, 20, 25,\n",
    "    30, 35, 40, 45, 50\n",
    "]\n",
    "\n",
    "degree_sign = u'\\N{DEGREE SIGN}'\n",
    "\n",
    "for i in temperatures_celsius:\n",
    "    \n",
    "    t = i * 1.4 + 32\n",
    "    print(f'{i}{degree_sign}C -> {t}{degree_sign}F')"
   ]
  },
  {
   "cell_type": "code",
   "execution_count": 14,
   "id": "62c16d08",
   "metadata": {},
   "outputs": [
    {
     "name": "stdout",
     "output_type": "stream",
     "text": [
      "A1\tA2\tA3\t\n",
      "\n",
      "B1\tB2\tB3\t\n",
      "\n",
      "C1\tC2\tC3\t\n",
      "\n"
     ]
    }
   ],
   "source": [
    "for letter in ['A', 'B', 'C']:\n",
    "    for number in [1, 2, 3]:\n",
    "        print(f'{letter}{number}', end ='\\t')\n",
    "    print('\\n')"
   ]
  },
  {
   "cell_type": "code",
   "execution_count": 8,
   "id": "12ca04ae",
   "metadata": {},
   "outputs": [
    {
     "name": "stdout",
     "output_type": "stream",
     "text": [
      "1 :\t1\t2\t3\t4\t5\t\n",
      "\n",
      "2 :\t2\t4\t6\t8\t10\t\n",
      "\n",
      "3 :\t3\t6\t9\t12\t15\t\n",
      "\n",
      "4 :\t4\t8\t12\t16\t20\t\n",
      "\n",
      "5 :\t5\t10\t15\t20\t25\t\n",
      "\n"
     ]
    }
   ],
   "source": [
    "for number in [1,2,3,4,5]:\n",
    "    \n",
    "    print(f'{number} :', end = '\\t' )\n",
    "    \n",
    "    for number_2 in [1,2,3,4,5]:\n",
    "        \n",
    "        product = number * number_2\n",
    "        \n",
    "        print(f'{product}', end = '\\t' )\n",
    "              \n",
    "    print('\\n')"
   ]
  },
  {
   "cell_type": "code",
   "execution_count": 18,
   "id": "31db61df",
   "metadata": {},
   "outputs": [
    {
     "name": "stdout",
     "output_type": "stream",
     "text": [
      "1 : 1   2   3   4   5   \n",
      "2 : 2   4   6   8   10  \n",
      "3 : 3   6   9   12  15  \n",
      "4 : 4   8   12  16  20  \n",
      "5 : 5   10  15  20  25  \n"
     ]
    }
   ],
   "source": [
    "for number in [1,2,3,4,5]:\n",
    "    \n",
    "    print(f'{number} :', end = \" \")\n",
    "    \n",
    "    for number_2 in [1,2,3,4,5]:\n",
    "        \n",
    "        product = number * number_2\n",
    "        \n",
    "        if product < 10:  \n",
    "            print(f'{product}', end='   ')  \n",
    "        else:\n",
    "            print(f'{product}', end='  ')\n",
    "        \n",
    "    print()\n",
    "              "
   ]
  },
  {
   "cell_type": "code",
   "execution_count": 47,
   "id": "4f3e3219",
   "metadata": {},
   "outputs": [
    {
     "name": "stdout",
     "output_type": "stream",
     "text": [
      "What is your size of multiplication table? 4\n",
      "1:\t1\t2\t3\t4\t\n",
      "\n",
      "2:\t2\t4\t6\t8\t\n",
      "\n",
      "3:\t3\t6\t9\t12\t\n",
      "\n",
      "4:\t4\t8\t12\t16\t\n",
      "\n"
     ]
    }
   ],
   "source": [
    "#yay.\n",
    "\n",
    "table = int(input(\"What is your size of multiplication table? \"))\n",
    "\n",
    "for number in range(table):\n",
    "    number +=1\n",
    "    print(f'{number}:', end = '\\t' )\n",
    "    \n",
    "    for number_2 in range(table):\n",
    "    \n",
    "        number_2 +=1\n",
    "        \n",
    "        product = number * number_2\n",
    "        \n",
    "        print(f'{product}', end = '\\t' )\n",
    "              \n",
    "    print('\\n')\n",
    "  "
   ]
  },
  {
   "cell_type": "code",
   "execution_count": 52,
   "id": "4ecc08ae",
   "metadata": {},
   "outputs": [
    {
     "name": "stdout",
     "output_type": "stream",
     "text": [
      "What is your size of multiplication table? 12\n",
      "1:\t1\t2\t3\t4\t5\t6\t7\t8\t9\t10\t11\t12\t\n",
      "\n",
      "2:\t2\t4\t6\t8\t10\t12\t14\t16\t18\t20\t22\t24\t\n",
      "\n",
      "3:\t3\t6\t9\t12\t15\t18\t21\t24\t27\t30\t33\t36\t\n",
      "\n",
      "4:\t4\t8\t12\t16\t20\t24\t28\t32\t36\t40\t44\t48\t\n",
      "\n",
      "5:\t5\t10\t15\t20\t25\t30\t35\t40\t45\t50\t55\t60\t\n",
      "\n",
      "6:\t6\t12\t18\t24\t30\t36\t42\t48\t54\t60\t66\t72\t\n",
      "\n",
      "7:\t7\t14\t21\t28\t35\t42\t49\t56\t63\t70\t77\t84\t\n",
      "\n",
      "8:\t8\t16\t24\t32\t40\t48\t56\t64\t72\t80\t88\t96\t\n",
      "\n",
      "9:\t9\t18\t27\t36\t45\t54\t63\t72\t81\t90\t99\t108\t\n",
      "\n",
      "10:\t10\t20\t30\t40\t50\t60\t70\t80\t90\t100\t110\t120\t\n",
      "\n",
      "11:\t11\t22\t33\t44\t55\t66\t77\t88\t99\t110\t121\t132\t\n",
      "\n",
      "12:\t12\t24\t36\t48\t60\t72\t84\t96\t108\t120\t132\t144\t\n",
      "\n"
     ]
    }
   ],
   "source": [
    "#yay.\n",
    "\n",
    "table = int(input(\"What is your size of multiplication table? \"))\n",
    "\n",
    "for number in range(table):\n",
    "    \n",
    "    number +=1\n",
    "    print(f'{number}:', end = '\\t' )\n",
    "    \n",
    "    for number_2 in range(table):\n",
    "    \n",
    "        number_2 +=1\n",
    "        \n",
    "        product = number * number_2\n",
    "        \n",
    "        print(f'{product}', end = '\\t' )\n",
    "              \n",
    "    print('\\n')\n",
    "  "
   ]
  }
 ],
 "metadata": {
  "kernelspec": {
   "display_name": "Python 3 (ipykernel)",
   "language": "python",
   "name": "python3"
  },
  "language_info": {
   "codemirror_mode": {
    "name": "ipython",
    "version": 3
   },
   "file_extension": ".py",
   "mimetype": "text/x-python",
   "name": "python",
   "nbconvert_exporter": "python",
   "pygments_lexer": "ipython3",
   "version": "3.11.5"
  },
  "toc": {
   "base_numbering": 1,
   "nav_menu": {},
   "number_sections": true,
   "sideBar": true,
   "skip_h1_title": false,
   "title_cell": "Table of Contents",
   "title_sidebar": "Contents",
   "toc_cell": false,
   "toc_position": {},
   "toc_section_display": true,
   "toc_window_display": false
  },
  "vscode": {
   "interpreter": {
    "hash": "31f2aee4e71d21fbe5cf8b01ff0e069b9275f58929596ceb00d14d90e3e16cd6"
   }
  }
 },
 "nbformat": 4,
 "nbformat_minor": 5
}
