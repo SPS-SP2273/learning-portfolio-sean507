{
 "cells": [
  {
   "cell_type": "markdown",
   "id": "123456",
   "metadata": {},
   "source": [
    "<div style=\"text-align:left;font-size:2em\"><span style=\"font-weight:bolder;font-size:1.25em\">SP2273 | Learning Portfolio</span><br><br><span style=\"font-weight:bold;color:darkred\">Functions (Need) Exercises</span></div>"
   ]
  },
  {
   "cell_type": "code",
   "execution_count": 1,
   "id": "db436bec",
   "metadata": {},
   "outputs": [],
   "source": [
    "def greeting(name):\n",
    "    if name == 'Batman':\n",
    "        return 'Hello Batman! So, nice to meet you!'\n",
    "    return f'Hello {name}!'"
   ]
  },
  {
   "cell_type": "code",
   "execution_count": 3,
   "id": "bd47f35b",
   "metadata": {},
   "outputs": [
    {
     "data": {
      "text/plain": [
       "'Hello elmo!'"
      ]
     },
     "execution_count": 3,
     "metadata": {},
     "output_type": "execute_result"
    }
   ],
   "source": [
    "greeting('elmo')"
   ]
  },
  {
   "cell_type": "markdown",
   "id": "aa8a6474",
   "metadata": {},
   "source": [
    "There are 2 return functions used in the code. The first return is within the if statement, where it will be executed when the condition in the if statement is met.\n",
    "\n",
    "If condition is not met, the code will ignore the return statement within the if statement and run the second return which is to return any arugment 'name' input by the user when they execute the function greeting. In this case, the 2nd return kind of acts as the else statement."
   ]
  },
  {
   "cell_type": "code",
   "execution_count": 27,
   "id": "cd498b3b",
   "metadata": {},
   "outputs": [],
   "source": [
    "def calculate_bmi(weight,height):\n",
    "    BMI = weight / (height ** 2)\n",
    "    if BMI < 18.5:\n",
    "        return f'BMI is {BMI:.2f}. you underweight boi'\n",
    "    \n",
    "    elif BMI >= 18.5 and  BMI < 25:\n",
    "        return f'BMI is {BMI:.2f}. you normal boi'\n",
    "    \n",
    "    elif BMI >= 25 and  BMI < 30:\n",
    "        return f'BMI is {BMI:.2f}. you getting a lil overweight boi'\n",
    "    \n",
    "    elif BMI >= 30:\n",
    "        return f'BMI is {BMI:.2f}. you OBESE AF boi'\n",
    "  "
   ]
  },
  {
   "cell_type": "code",
   "execution_count": 31,
   "id": "ca56bac2",
   "metadata": {},
   "outputs": [
    {
     "data": {
      "text/plain": [
       "'BMI is 58.04. you OBESE AF boi'"
      ]
     },
     "execution_count": 31,
     "metadata": {},
     "output_type": "execute_result"
    }
   ],
   "source": [
    "calculate_bmi(73.2,1.1230)"
   ]
  },
  {
   "cell_type": "code",
   "execution_count": 3,
   "id": "1ae444a5",
   "metadata": {},
   "outputs": [],
   "source": [
    "#cleaner code after consulting chatGPT\n",
    "def calculate_bmi(weight,height):\n",
    "    \n",
    "    BMI = weight / (height ** 2)\n",
    "    \n",
    "    if BMI < 18.5:\n",
    "        category = \"underweight\"\n",
    "        \n",
    "    elif BMI < 25:\n",
    "        category = \"normal\"\n",
    "\n",
    "    elif BMI < 30:\n",
    "        category = \"overweight\"\n",
    "\n",
    "    else:\n",
    "        category = \"OBESE AF\"\n",
    "        \n",
    "    return f'BMI is {BMI:.2f}. you {category} boi'\n",
    "  "
   ]
  },
  {
   "cell_type": "code",
   "execution_count": 6,
   "id": "64689c52",
   "metadata": {},
   "outputs": [
    {
     "name": "stdout",
     "output_type": "stream",
     "text": [
      "weight34.6\n",
      "height1.68\n"
     ]
    },
    {
     "data": {
      "text/plain": [
       "'BMI is 12.26. you underweight boi'"
      ]
     },
     "execution_count": 6,
     "metadata": {},
     "output_type": "execute_result"
    }
   ],
   "source": [
    "x = float(input(\"weight\"))\n",
    "y = float(input(\"height\"))\n",
    "\n",
    "calculate_bmi(x,y)"
   ]
  }
 ],
 "metadata": {
  "kernelspec": {
   "display_name": "Python 3 (ipykernel)",
   "language": "python",
   "name": "python3"
  },
  "language_info": {
   "codemirror_mode": {
    "name": "ipython",
    "version": 3
   },
   "file_extension": ".py",
   "mimetype": "text/x-python",
   "name": "python",
   "nbconvert_exporter": "python",
   "pygments_lexer": "ipython3",
   "version": "3.11.5"
  },
  "toc": {
   "base_numbering": 1,
   "nav_menu": {},
   "number_sections": true,
   "sideBar": true,
   "skip_h1_title": false,
   "title_cell": "Table of Contents",
   "title_sidebar": "Contents",
   "toc_cell": false,
   "toc_position": {},
   "toc_section_display": true,
   "toc_window_display": false
  },
  "vscode": {
   "interpreter": {
    "hash": "31f2aee4e71d21fbe5cf8b01ff0e069b9275f58929596ceb00d14d90e3e16cd6"
   }
  }
 },
 "nbformat": 4,
 "nbformat_minor": 5
}
