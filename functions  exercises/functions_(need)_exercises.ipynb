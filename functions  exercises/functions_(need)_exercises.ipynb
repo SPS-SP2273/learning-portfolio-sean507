{
 "cells": [
  {
   "cell_type": "markdown",
   "id": "123456",
   "metadata": {},
   "source": [
    "<div style=\"text-align:left;font-size:2em\"><span style=\"font-weight:bolder;font-size:1.25em\">SP2273 | Learning Portfolio</span><br><br><span style=\"font-weight:bold;color:darkred\">Functions (Need) Exercises</span></div>"
   ]
  },
  {
   "cell_type": "code",
   "execution_count": 2,
   "id": "db436bec",
   "metadata": {},
   "outputs": [],
   "source": [
    "def greeting(name):\n",
    "    if name == 'Batman':\n",
    "        return 'Hello Batman! So, nice to meet you!'\n",
    "    return f'Hello {name}!'"
   ]
  },
  {
   "cell_type": "code",
   "execution_count": 3,
   "id": "bd47f35b",
   "metadata": {},
   "outputs": [
    {
     "data": {
      "text/plain": [
       "'Hello elmo!'"
      ]
     },
     "execution_count": 3,
     "metadata": {},
     "output_type": "execute_result"
    }
   ],
   "source": [
    "greeting('elmo')"
   ]
  },
  {
   "cell_type": "markdown",
   "id": "aa8a6474",
   "metadata": {},
   "source": [
    "There are 2 return functions used in the code. The first return is within the if statement, where it will be executed when the condition in the if statement is met.\n",
    "\n",
    "If condition is not met, the code will ignore the return statement within the if statement and run the second return which is to return any arugment 'name' input by the user when they execute the function greeting. In this case, the 2nd return kind of acts as the else statement."
   ]
  },
  {
   "cell_type": "code",
   "execution_count": 3,
   "id": "2b293496",
   "metadata": {},
   "outputs": [
    {
     "data": {
      "text/plain": [
       "'Hello Batman! So, nice to meet you!'"
      ]
     },
     "execution_count": 3,
     "metadata": {},
     "output_type": "execute_result"
    }
   ],
   "source": [
    "greeting('Batman')"
   ]
  },
  {
   "cell_type": "markdown",
   "id": "9b9a7466",
   "metadata": {},
   "source": [
    "*Why is it the case where the name is Batman, it only returns 'Hello Batman! So, nice to meet you' and not both 'Hello Batman! So, nice to meet you' and 'Hello Batman!'?*\n",
    "\n",
    "The function terminates once a return statement is encountered. Hence, when the condition name == 'Batman' is met, the return statement within the if statement is executed, and the function stops at this point. So it never reaches the 2nd return statement\n"
   ]
  },
  {
   "cell_type": "code",
   "execution_count": 12,
   "id": "cd498b3b",
   "metadata": {},
   "outputs": [],
   "source": [
    "def calculate_bmi(weight,height):\n",
    "    \n",
    "    if height or weight < 0:\n",
    "        \n",
    "        return f'Invalid input. Height or weight cannot be negative'\n",
    "    \n",
    "    BMI = weight / (height ** 2)\n",
    "    \n",
    "    if BMI > 0 and BMI < 18.5:\n",
    "        return f'BMI is {BMI:.2f}. you underweight boi'\n",
    "    \n",
    "    elif BMI >= 18.5 and  BMI < 25:\n",
    "        return f'BMI is {BMI:.2f}. you normal boi'\n",
    "    \n",
    "    elif BMI >= 25 and  BMI < 30:\n",
    "        return f'BMI is {BMI:.2f}. you getting a lil overweight boi'\n",
    "    \n",
    "    elif BMI >= 30:\n",
    "        return f'BMI is {BMI:.2f}. you OBESE AF boi'"
   ]
  },
  {
   "cell_type": "code",
   "execution_count": 31,
   "id": "ca56bac2",
   "metadata": {},
   "outputs": [
    {
     "data": {
      "text/plain": [
       "'BMI is 58.04. you OBESE AF boi'"
      ]
     },
     "execution_count": 31,
     "metadata": {},
     "output_type": "execute_result"
    }
   ],
   "source": [
    "calculate_bmi(73.2,1.1230)"
   ]
  },
  {
   "cell_type": "code",
   "execution_count": 7,
   "id": "1a00406a",
   "metadata": {},
   "outputs": [
    {
     "data": {
      "text/plain": [
       "'Invalid input. BMI cannot be negative'"
      ]
     },
     "execution_count": 7,
     "metadata": {},
     "output_type": "execute_result"
    }
   ],
   "source": [
    "calculate_bmi(-73.2,1.23)"
   ]
  },
  {
   "cell_type": "code",
   "execution_count": 10,
   "id": "3e2807d3",
   "metadata": {},
   "outputs": [
    {
     "data": {
      "text/plain": [
       "'Invalid input. BMI cannot be negative'"
      ]
     },
     "execution_count": 10,
     "metadata": {},
     "output_type": "execute_result"
    }
   ],
   "source": [
    "calculate_bmi(73.2,-1.23)"
   ]
  },
  {
   "cell_type": "code",
   "execution_count": null,
   "id": "1ae444a5",
   "metadata": {},
   "outputs": [],
   "source": [
    "#cleaner code after consulting chatGPT\n",
    "def calculate_bmi(weight,height):\n",
    "    \n",
    "    BMI = weight / (height ** 2)\n",
    "    \n",
    "    if BMI < 18.5:\n",
    "        category = \"underweight\"\n",
    "        \n",
    "    elif BMI < 25:\n",
    "        category = \"normal\"\n",
    "\n",
    "    elif BMI < 30:\n",
    "        category = \"overweight\"\n",
    "\n",
    "    else:\n",
    "        category = \"OBESE AF\"\n",
    "        \n",
    "    return f'BMI is {BMI:.2f}. you {category} boi'\n",
    "  "
   ]
  },
  {
   "cell_type": "code",
   "execution_count": 16,
   "id": "529e551d",
   "metadata": {},
   "outputs": [],
   "source": [
    "def calculate_bmi2(weight,height):\n",
    "    \n",
    "    BMI = weight / (height ** 2)\n",
    "    \n",
    "    if BMI < 18.5:\n",
    "        category = \"underweight\"\n",
    "        return f'BMI is {BMI:.2f}. you underweight boi'\n",
    "        \n",
    "    elif BMI < 25:\n",
    "        category = \"normal\"\n",
    "        return f'BMI is {BMI:.2f}. you normal boi'\n",
    "\n",
    "    elif BMI < 30:\n",
    "        return f'BMI is {BMI:.2f}. you getting a lil overweight boi'\n",
    "        \n",
    "    return f'BMI is {BMI:.2f}. you OBESE AF boi'\n",
    "  "
   ]
  },
  {
   "cell_type": "code",
   "execution_count": 17,
   "id": "5ee8b5fb",
   "metadata": {},
   "outputs": [
    {
     "data": {
      "text/plain": [
       "'BMI is 41.67. you OBESE AF boi'"
      ]
     },
     "execution_count": 17,
     "metadata": {},
     "output_type": "execute_result"
    }
   ],
   "source": [
    "calculate_bmi2(60,1.20)"
   ]
  },
  {
   "cell_type": "code",
   "execution_count": 14,
   "id": "64689c52",
   "metadata": {},
   "outputs": [
    {
     "name": "stdout",
     "output_type": "stream",
     "text": [
      "weight: 123\n",
      "height: -34\n"
     ]
    },
    {
     "data": {
      "text/plain": [
       "'Invalid input. Height or weight cannot be negative'"
      ]
     },
     "execution_count": 14,
     "metadata": {},
     "output_type": "execute_result"
    }
   ],
   "source": [
    "x = float(input(\"weight: \"))\n",
    "y = float(input(\"height: \"))\n",
    "\n",
    "calculate_bmi(x,y)"
   ]
  }
 ],
 "metadata": {
  "kernelspec": {
   "display_name": "Python 3 (ipykernel)",
   "language": "python",
   "name": "python3"
  },
  "language_info": {
   "codemirror_mode": {
    "name": "ipython",
    "version": 3
   },
   "file_extension": ".py",
   "mimetype": "text/x-python",
   "name": "python",
   "nbconvert_exporter": "python",
   "pygments_lexer": "ipython3",
   "version": "3.11.5"
  },
  "toc": {
   "base_numbering": 1,
   "nav_menu": {},
   "number_sections": true,
   "sideBar": true,
   "skip_h1_title": false,
   "title_cell": "Table of Contents",
   "title_sidebar": "Contents",
   "toc_cell": false,
   "toc_position": {},
   "toc_section_display": true,
   "toc_window_display": false
  },
  "vscode": {
   "interpreter": {
    "hash": "31f2aee4e71d21fbe5cf8b01ff0e069b9275f58929596ceb00d14d90e3e16cd6"
   }
  }
 },
 "nbformat": 4,
 "nbformat_minor": 5
}
