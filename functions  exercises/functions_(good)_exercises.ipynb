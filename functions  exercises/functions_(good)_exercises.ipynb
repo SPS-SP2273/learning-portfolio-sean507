{
 "cells": [
  {
   "cell_type": "markdown",
   "id": "123456",
   "metadata": {},
   "source": [
    "<div style=\"text-align:left;font-size:2em\"><span style=\"font-weight:bolder;font-size:1.25em\">SP2273 | Learning Portfolio</span><br><br><span style=\"font-weight:bold;color:darkred\">Functions (Good) Exercises</span></div>"
   ]
  },
  {
   "cell_type": "code",
   "execution_count": 22,
   "id": "da5e6d68",
   "metadata": {},
   "outputs": [],
   "source": [
    "def convert_celsius(temperature_celsius,target_scale = 'Fahrenheit'):\n",
    "    #temperature_celsius = input(\"Input temperature in celsius: \")\n",
    "    #target_scale = input(\"Input unit to convert: (Kelvin or Fahrenheit) \")\n",
    "    \n",
    "    if target_scale == \"Kelvin\":\n",
    "        results = temperature_celsius + 273.15\n",
    "        \n",
    "    elif target_scale == \"Fahrenheit\":\n",
    "        results = temperature_celsius * 9/5 + 32 \n",
    "    \n",
    "    else:\n",
    "        \n",
    "        print(f\" {target_scale} is invalid. Try again\")\n",
    "    \n",
    "    return results\n"
   ]
  },
  {
   "cell_type": "code",
   "execution_count": 24,
   "id": "bcfa898e",
   "metadata": {},
   "outputs": [
    {
     "data": {
      "text/plain": [
       "77.0"
      ]
     },
     "execution_count": 24,
     "metadata": {},
     "output_type": "execute_result"
    }
   ],
   "source": [
    "convert_celsius(25, 'Fahrenheit')"
   ]
  },
  {
   "cell_type": "code",
   "execution_count": 23,
   "id": "e7dfc4a1",
   "metadata": {},
   "outputs": [],
   "source": [
    "def convert_fahrenheit(temperature_fahrenheit,target_scale = \"Celsius\"):\n",
    "    \n",
    "    if target_scale == \"Kelvin\":\n",
    "        \n",
    "        results = (temperature_fahrenheit - 32) * 5/9 + 273.15\n",
    "    \n",
    "    elif target_scale == \"Celsius\":\n",
    "        \n",
    "        results = (temperature_fahrenheit -32) * 5/9 \n",
    "    \n",
    "    else:\n",
    "            \n",
    "        print(f\" {target_scale} is invalid. Try again\")\n",
    "    \n",
    "    return results\n"
   ]
  },
  {
   "cell_type": "code",
   "execution_count": 25,
   "id": "9732a3d5",
   "metadata": {},
   "outputs": [
    {
     "data": {
      "text/plain": [
       "269.26111111111106"
      ]
     },
     "execution_count": 25,
     "metadata": {},
     "output_type": "execute_result"
    }
   ],
   "source": [
    "convert_fahrenheit(25,'Kelvin')"
   ]
  },
  {
   "cell_type": "code",
   "execution_count": 51,
   "id": "77a534b1",
   "metadata": {},
   "outputs": [],
   "source": [
    "#not very clean oops.\n",
    "\n",
    "def convert_temperature(temperature,source_scale,target_scale):\n",
    "    \n",
    "    if source_scale == \"Celsius\":\n",
    "        \n",
    "        if target_scale == \"Celsius\":\n",
    "            \n",
    "            return temperature\n",
    "        \n",
    "        return convert_celsius(temperature,target_scale)\n",
    "    \n",
    "    elif source_scale == \"Fahrenheit\":\n",
    "        \n",
    "        if target_scale == \"Fahrenheit\":\n",
    "            \n",
    "            return temperature\n",
    "        \n",
    "        return convert_fahrenheit(temperature,target_scale)\n",
    "    \n",
    "    elif source_scale == \"Kelvin\":\n",
    "        \n",
    "        if target_scale == \"Kelvin\":\n",
    "            \n",
    "            return temperature\n",
    "        \n",
    "        if target_scale == \"Celsius\":\n",
    "            \n",
    "            return temperature - 273.15\n",
    "    \n",
    "        elif target_scale == \"Fahrenheit\":\n",
    "        \n",
    "            return (temperature - 273.15) * 9/5 + 32\n",
    "    \n",
    "    else:\n",
    "        raise ValueError(\"Invalid source scale. Please specify 'Celsius', 'Fahrenheit', or 'Kelvin'.\")\n",
    "    "
   ]
  },
  {
   "cell_type": "code",
   "execution_count": 50,
   "id": "6f3551cb",
   "metadata": {},
   "outputs": [
    {
     "data": {
      "text/plain": [
       "30"
      ]
     },
     "execution_count": 50,
     "metadata": {},
     "output_type": "execute_result"
    }
   ],
   "source": [
    "convert_temperature(30,\"Celsius\",\"Celsius\")"
   ]
  },
  {
   "cell_type": "code",
   "execution_count": 33,
   "id": "fcf17ef7",
   "metadata": {},
   "outputs": [],
   "source": [
    "def convert_kelvin(temperature_kelvin,target_scale):\n",
    "    \n",
    "    if target_scale == \"Celsius\":\n",
    "            \n",
    "        return temperature_kelvin - 273.15\n",
    "    \n",
    "    elif target_scale == \"Fahrenheit\":\n",
    "        \n",
    "        return (temperature_kelvin - 273.15) * 9/5 + 32\n",
    "    "
   ]
  },
  {
   "cell_type": "code",
   "execution_count": 56,
   "id": "70516b7b",
   "metadata": {},
   "outputs": [],
   "source": [
    "#much cleaner.\n",
    "\n",
    "\n",
    "def convert_temperature2(temperature, source_scale, target_scale):\n",
    "    \n",
    "    dic = {'Celsius': convert_celsius, 'Kelvin': convert_kelvin, 'Fahrenheit': convert_fahrenheit}\n",
    "    \n",
    "    if source_scale not in dic.keys() or target_scale not in dic.keys(): # To test if the source and target scale are valid\n",
    "        return 'Invalid target scale. Please choose \"Celsius\", \"Fahrenheit\", or \"Kelvin\".'\n",
    "    \n",
    "    if source_scale == target_scale: # Just return temperature if the scale is the same\n",
    "        \n",
    "        ans = str(temperature) + \". what you doing boi\"\n",
    "        \n",
    "        return  ans\n",
    "    \n",
    "    return dic[source_scale](temperature, target_scale) # Else, return the convert function by calling the value using the key.\n",
    "                                                        # dic[source_scale] gives you the function and you need the two arguments"
   ]
  },
  {
   "cell_type": "code",
   "execution_count": 57,
   "id": "42a715fe",
   "metadata": {},
   "outputs": [
    {
     "data": {
      "text/plain": [
       "'273.15. what you doing boi'"
      ]
     },
     "execution_count": 57,
     "metadata": {},
     "output_type": "execute_result"
    }
   ],
   "source": [
    "convert_temperature2(273.15,\"Kelvin\",\"Kelvin\")"
   ]
  }
 ],
 "metadata": {
  "kernelspec": {
   "display_name": "Python 3 (ipykernel)",
   "language": "python",
   "name": "python3"
  },
  "language_info": {
   "codemirror_mode": {
    "name": "ipython",
    "version": 3
   },
   "file_extension": ".py",
   "mimetype": "text/x-python",
   "name": "python",
   "nbconvert_exporter": "python",
   "pygments_lexer": "ipython3",
   "version": "3.11.5"
  },
  "toc": {
   "base_numbering": 1,
   "nav_menu": {},
   "number_sections": true,
   "sideBar": true,
   "skip_h1_title": false,
   "title_cell": "Table of Contents",
   "title_sidebar": "Contents",
   "toc_cell": false,
   "toc_position": {},
   "toc_section_display": true,
   "toc_window_display": false
  },
  "vscode": {
   "interpreter": {
    "hash": "31f2aee4e71d21fbe5cf8b01ff0e069b9275f58929596ceb00d14d90e3e16cd6"
   }
  }
 },
 "nbformat": 4,
 "nbformat_minor": 5
}
