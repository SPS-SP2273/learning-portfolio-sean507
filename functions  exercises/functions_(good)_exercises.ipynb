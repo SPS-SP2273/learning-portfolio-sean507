{
 "cells": [
  {
   "cell_type": "markdown",
   "id": "123456",
   "metadata": {},
   "source": [
    "<div style=\"text-align:left;font-size:2em\"><span style=\"font-weight:bolder;font-size:1.25em\">SP2273 | Learning Portfolio</span><br><br><span style=\"font-weight:bold;color:darkred\">Functions (Good) Exercises</span></div>"
   ]
  },
  {
   "cell_type": "code",
   "execution_count": 36,
   "id": "da5e6d68",
   "metadata": {},
   "outputs": [],
   "source": [
    "def convert_celsius(temperature_celsius,target_scale = 'Fahrenheit'):\n",
    "    #temperature_celsius = input(\"Input temperature in celsius: \")\n",
    "    #target_scale = input(\"Input unit to convert: (Kelvin or Fahrenheit) \")\n",
    "    \n",
    "    if target_scale == \"Kelvin\":\n",
    "        results = temperature_celsius + 273.15\n",
    "        \n",
    "    elif target_scale == \"Fahrenheit\":\n",
    "        results = temperature_celsius * 9/5 + 32 \n",
    "    \n",
    "    else:\n",
    "        \n",
    "        print(f\" {target_scale} is invalid. Try again\")\n",
    "    \n",
    "    return results\n"
   ]
  },
  {
   "cell_type": "code",
   "execution_count": 37,
   "id": "bcfa898e",
   "metadata": {},
   "outputs": [
    {
     "data": {
      "text/plain": [
       "77.0"
      ]
     },
     "execution_count": 37,
     "metadata": {},
     "output_type": "execute_result"
    }
   ],
   "source": [
    "convert_celsius(25, 'Fahrenheit')"
   ]
  },
  {
   "cell_type": "code",
   "execution_count": 32,
   "id": "e7dfc4a1",
   "metadata": {},
   "outputs": [],
   "source": [
    "def convert_fahrenheit(temperature_fahrenheit,target_scale = \"Celsius\"):\n",
    "    \n",
    "    if target_scale == \"Kelvin\":\n",
    "        \n",
    "        results = (temperature_fahrenheit - 32) * 5/9 + 273.15\n",
    "    \n",
    "    elif target_scale == \"Celsius\":\n",
    "        \n",
    "        results = (temperature_fahrenheit -32) * 5/9 \n",
    "    \n",
    "    else:\n",
    "            \n",
    "        print(f\" {target_scale} is invalid. Try again\")\n",
    "    \n",
    "    return results\n"
   ]
  },
  {
   "cell_type": "code",
   "execution_count": 38,
   "id": "9732a3d5",
   "metadata": {},
   "outputs": [
    {
     "data": {
      "text/plain": [
       "269.26111111111106"
      ]
     },
     "execution_count": 38,
     "metadata": {},
     "output_type": "execute_result"
    }
   ],
   "source": [
    "convert_fahrenheit(25,'Kelvin')"
   ]
  },
  {
   "cell_type": "code",
   "execution_count": 55,
   "id": "77a534b1",
   "metadata": {},
   "outputs": [],
   "source": [
    "def convert_temperature(temperature,source_scale,target_scale):\n",
    "    \n",
    "    if source_scale == \"Celsius\":\n",
    "        \n",
    "        return convert_celsius(temperature,target_scale)\n",
    "    \n",
    "    elif source_scale == \"Fahrenheit\":\n",
    "        \n",
    "        return convert_fahrenheit(temperature,target_scale)\n",
    "    \n",
    "    elif source_scale == \"Kelvin\":\n",
    "        \n",
    "        if target_scale == \"Celsius\":\n",
    "            \n",
    "            return temperature - 273.15\n",
    "    \n",
    "        elif target_scale == \"Fahrenheit\":\n",
    "        \n",
    "            return (temperature - 273.15) * 9/5 + 32\n",
    "            \n",
    "    else:\n",
    "        raise ValueError(\"Invalid source scale. Please specify 'Celsius', 'Fahrenheit', or 'Kelvin'.\")\n",
    "    "
   ]
  },
  {
   "cell_type": "code",
   "execution_count": 56,
   "id": "67dd7385",
   "metadata": {},
   "outputs": [
    {
     "data": {
      "text/plain": [
       "-459.66999999999996"
      ]
     },
     "execution_count": 56,
     "metadata": {},
     "output_type": "execute_result"
    }
   ],
   "source": [
    "convert_temperature(0,\"Kelvin\",\"Fahrenheit\")"
   ]
  },
  {
   "cell_type": "code",
   "execution_count": null,
   "id": "6f3551cb",
   "metadata": {},
   "outputs": [],
   "source": []
  }
 ],
 "metadata": {
  "kernelspec": {
   "display_name": "Python 3 (ipykernel)",
   "language": "python",
   "name": "python3"
  },
  "language_info": {
   "codemirror_mode": {
    "name": "ipython",
    "version": 3
   },
   "file_extension": ".py",
   "mimetype": "text/x-python",
   "name": "python",
   "nbconvert_exporter": "python",
   "pygments_lexer": "ipython3",
   "version": "3.11.5"
  },
  "toc": {
   "base_numbering": 1,
   "nav_menu": {},
   "number_sections": true,
   "sideBar": true,
   "skip_h1_title": false,
   "title_cell": "Table of Contents",
   "title_sidebar": "Contents",
   "toc_cell": false,
   "toc_position": {},
   "toc_section_display": true,
   "toc_window_display": false
  },
  "vscode": {
   "interpreter": {
    "hash": "31f2aee4e71d21fbe5cf8b01ff0e069b9275f58929596ceb00d14d90e3e16cd6"
   }
  }
 },
 "nbformat": 4,
 "nbformat_minor": 5
}
