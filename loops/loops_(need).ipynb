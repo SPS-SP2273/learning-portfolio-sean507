{
 "cells": [
  {
   "cell_type": "markdown",
   "id": "123456",
   "metadata": {},
   "source": [
    "<div style=\"text-align:left;font-size:2em\"><span style=\"font-weight:bolder;font-size:1.25em\">SP2273 | Learning Portfolio</span><br><br><span style=\"font-weight:bold;color:darkred\">Loops (Need)</span></div>"
   ]
  },
  {
   "cell_type": "markdown",
   "id": "f1e4447b",
   "metadata": {},
   "source": [
    "# What to expect in this chapter"
   ]
  },
  {
   "cell_type": "markdown",
   "id": "a1c870e6",
   "metadata": {},
   "source": [
    "# 1 The for iterator"
   ]
  },
  {
   "cell_type": "code",
   "execution_count": 3,
   "id": "cfcec072",
   "metadata": {},
   "outputs": [
    {
     "name": "stdout",
     "output_type": "stream",
     "text": [
      "Natasha Romanoff is a Marvel superhero!\n",
      "Tony Stark is a Marvel superhero!\n",
      "Stephen Strange is a Marvel superhero!\n"
     ]
    }
   ],
   "source": [
    "#this is slow af\n",
    "real_names = [\"Natasha Romanoff\", \"Tony Stark\", \"Stephen Strange\"]\n",
    "\n",
    "name=real_names[0]\n",
    "print(f\"{name} is a Marvel superhero!\")\n",
    "\n",
    "name=real_names[1]\n",
    "print(f\"{name} is a Marvel superhero!\")\n",
    "\n",
    "name=real_names[2]\n",
    "print(f\"{name} is a Marvel superhero!\")"
   ]
  },
  {
   "cell_type": "markdown",
   "id": "f7e13b6d",
   "metadata": {},
   "source": [
    "## 1.1 for with a list"
   ]
  },
  {
   "cell_type": "code",
   "execution_count": 6,
   "id": "48948a0d",
   "metadata": {},
   "outputs": [
    {
     "name": "stdout",
     "output_type": "stream",
     "text": [
      "NATASHA ROMANOFF is a superhero!\n",
      "--------------------------------------------------\n",
      "TONY STARK is a superhero!\n",
      "--------------------------------------------------\n",
      "STEPHEN STRANGE is a superhero!\n",
      "--------------------------------------------------\n",
      "gg\n"
     ]
    }
   ],
   "source": [
    "real_names = [\"Natasha Romanoff\", \"Tony Stark\", \"Stephen Strange\"]\n",
    "\n",
    "for i in real_names:\n",
    "    print(f\"{i.upper()} is a superhero!\")\n",
    "    print('-'*50)\n",
    "\n",
    "print(\"gg\")\n",
    "\n",
    "#it goes through the list and assigns i the value of each element of the list.\n",
    "#it then runs the code-block using this value of name.\n",
    "#just like if statement, need \":\" and tab "
   ]
  },
  {
   "cell_type": "markdown",
   "id": "c51e7d3a",
   "metadata": {},
   "source": [
    "## 1.2 for with enumerate"
   ]
  },
  {
   "cell_type": "code",
   "execution_count": 28,
   "id": "786e9cc8",
   "metadata": {},
   "outputs": [],
   "source": [
    "super_names = [\"Black Widow\", \"Iron Man\", \"Doctor Strange\"]\n",
    "real_names = [\"Natasha Romanoff\", \"Tony Stark\", \"Stephen Strange\"]\n",
    "status = [\"dead\",\"dead\",\"alive\"]"
   ]
  },
  {
   "cell_type": "code",
   "execution_count": 7,
   "id": "47b022d3",
   "metadata": {},
   "outputs": [
    {
     "name": "stdout",
     "output_type": "stream",
     "text": [
      "0: NATASHA ROMANOFF is a superhero!\n",
      "1: TONY STARK is a superhero!\n",
      "2: STEPHEN STRANGE is a superhero!\n"
     ]
    }
   ],
   "source": [
    "count = 0 \n",
    "for i in real_names:\n",
    "    print(f\"{count}: {i.upper()} is a superhero!\")\n",
    "    count += 1"
   ]
  },
  {
   "cell_type": "code",
   "execution_count": 20,
   "id": "033b7592",
   "metadata": {},
   "outputs": [
    {
     "name": "stdout",
     "output_type": "stream",
     "text": [
      "0: NATASHA ROMANOFF is a superhero!\n",
      "1: TONY STARK is a superhero!\n",
      "2: STEPHEN STRANGE is a superhero!\n"
     ]
    }
   ],
   "source": [
    "for count,i in enumerate(real_names): #enumerate keeps count #use count\n",
    "    print(f\"{count}: {i.upper()} is a superhero!\")"
   ]
  },
  {
   "cell_type": "code",
   "execution_count": 30,
   "id": "39cb9594",
   "metadata": {},
   "outputs": [
    {
     "name": "stdout",
     "output_type": "stream",
     "text": [
      "0:NATASHA ROMANOFF is Black Widow!\n",
      "1:TONY STARK is Iron Man!\n",
      "2:STEPHEN STRANGE is Doctor Strange!\n"
     ]
    }
   ],
   "source": [
    "for count,i in enumerate(real_names): \n",
    "    superhero_name = super_names[count] #super_names[0] first, then  #super_names[1]...\n",
    "    print(f\"{count}:{i.upper()} is {superhero_name}!\")"
   ]
  },
  {
   "cell_type": "code",
   "execution_count": 29,
   "id": "a63a8ddb",
   "metadata": {},
   "outputs": [
    {
     "name": "stdout",
     "output_type": "stream",
     "text": [
      "0:NATASHA ROMANOFF is Black Widow and dead!\n",
      "1:TONY STARK is Iron Man and dead!\n",
      "2:STEPHEN STRANGE is Doctor Strange and alive!\n"
     ]
    }
   ],
   "source": [
    "for count,i in enumerate(real_names): \n",
    "    superhero_name = super_names[count]\n",
    "    status_now = status[count]\n",
    "    print(f\"{count}:{i.upper()} is {superhero_name} and {status_now}!\")"
   ]
  },
  {
   "cell_type": "markdown",
   "id": "397f2999",
   "metadata": {},
   "source": [
    "## 1.3 for with range"
   ]
  },
  {
   "cell_type": "code",
   "execution_count": 31,
   "id": "524e064d",
   "metadata": {},
   "outputs": [
    {
     "name": "stdout",
     "output_type": "stream",
     "text": [
      "0\n",
      "1\n",
      "2\n",
      "3\n",
      "4\n"
     ]
    }
   ],
   "source": [
    "for i in range(5): #python starts from 0 and ends at 5-1 = 4\n",
    "    print(i)"
   ]
  },
  {
   "cell_type": "code",
   "execution_count": 33,
   "id": "e479f921",
   "metadata": {},
   "outputs": [
    {
     "name": "stdout",
     "output_type": "stream",
     "text": [
      "5\n",
      "6\n",
      "7\n",
      "8\n",
      "9\n"
     ]
    }
   ],
   "source": [
    "for i in range(5, 10): #python starts from 5 and ends at 10-1 = 9\n",
    "    print(i)"
   ]
  },
  {
   "cell_type": "code",
   "execution_count": 36,
   "id": "3d3e15e1",
   "metadata": {},
   "outputs": [
    {
     "name": "stdout",
     "output_type": "stream",
     "text": [
      "Natasha Romanoff is Black Widow and dead!\n",
      "Tony Stark is Iron Man and dead!\n",
      "Stephen Strange is Doctor Strange and alive!\n"
     ]
    }
   ],
   "source": [
    "for i in range(len(real_names)): #len(real_names) = 3\n",
    "    real_name = real_names[i]  #i starts from 0(1st element), end with 2(3rd element)\n",
    "    superhero_name = super_names[i]\n",
    "    status_now = status[i]\n",
    "    print(f\"{real_name} is {superhero_name} and {status_now}!\")"
   ]
  },
  {
   "cell_type": "markdown",
   "id": "7579b132",
   "metadata": {},
   "source": [
    "# 2 while"
   ]
  }
 ],
 "metadata": {
  "kernelspec": {
   "display_name": "Python 3 (ipykernel)",
   "language": "python",
   "name": "python3"
  },
  "language_info": {
   "codemirror_mode": {
    "name": "ipython",
    "version": 3
   },
   "file_extension": ".py",
   "mimetype": "text/x-python",
   "name": "python",
   "nbconvert_exporter": "python",
   "pygments_lexer": "ipython3",
   "version": "3.11.5"
  },
  "toc": {
   "base_numbering": 1,
   "nav_menu": {},
   "number_sections": true,
   "sideBar": true,
   "skip_h1_title": false,
   "title_cell": "Table of Contents",
   "title_sidebar": "Contents",
   "toc_cell": false,
   "toc_position": {},
   "toc_section_display": true,
   "toc_window_display": false
  },
  "vscode": {
   "interpreter": {
    "hash": "31f2aee4e71d21fbe5cf8b01ff0e069b9275f58929596ceb00d14d90e3e16cd6"
   }
  }
 },
 "nbformat": 4,
 "nbformat_minor": 5
}
