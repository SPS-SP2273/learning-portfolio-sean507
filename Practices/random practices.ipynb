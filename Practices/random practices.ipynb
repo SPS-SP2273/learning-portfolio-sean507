{
 "cells": [
  {
   "cell_type": "code",
   "execution_count": 9,
   "id": "7b548d92",
   "metadata": {},
   "outputs": [
    {
     "name": "stdout",
     "output_type": "stream",
     "text": [
      "Enter number of friends coming : 4\n",
      "Enter name of friends coming : trica\n",
      "Enter name of friends coming : hontee\n",
      "Enter name of friends coming : rorenzel\n",
      "Enter name of friends coming : lithoong\n",
      "Hi trica!, see you later alligator!\n",
      "Hi hontee!, see you later alligator!\n",
      "Hi rorenzel!, see you later alligator!\n",
      "Hi lithoong!, see you later alligator!\n"
     ]
    }
   ],
   "source": [
    "# creating an empty list\n",
    "lst = []\n",
    "\n",
    "# number of elements as input\n",
    "n = int(input(\"Enter number of friends coming : \"))\n",
    "\n",
    "# iterating till the range\n",
    "for i in range(n):\n",
    "    ele = input(\"Enter name of friends coming : \")\n",
    "    # adding the element\n",
    "    lst.append(ele) \n",
    "    \n",
    "for n in lst:\n",
    "    print(f'Hi {n}!, see you later alligator!')\n",
    "\n"
   ]
  },
  {
   "cell_type": "code",
   "execution_count": 11,
   "id": "fa22524e",
   "metadata": {},
   "outputs": [
    {
     "name": "stdout",
     "output_type": "stream",
     "text": [
      "21\n"
     ]
    }
   ],
   "source": [
    "n=6\n",
    "\n",
    "current_sum = 0\n",
    "\n",
    "for i in range(n+1): \n",
    "    \n",
    "    current_sum += i #6 + 5 + 4 + 3 + 2 + 1\n",
    "    \n",
    "print(current_sum) "
   ]
  },
  {
   "cell_type": "code",
   "execution_count": 43,
   "id": "5b7a5ff3",
   "metadata": {},
   "outputs": [
    {
     "name": "stdout",
     "output_type": "stream",
     "text": [
      "Enter number 144\n",
      "n \t output so far \n",
      "-- \t -------------\n",
      "144\t144\n",
      "72\t144, 72\n",
      "36\t144, 72, 36\n",
      "18\t144, 72, 36, 18\n",
      "9\t144, 72, 36, 18, 9\n",
      "28\t144, 72, 36, 18, 9, 28\n",
      "14\t144, 72, 36, 18, 9, 28, 14\n",
      "7\t144, 72, 36, 18, 9, 28, 14, 7\n",
      "22\t144, 72, 36, 18, 9, 28, 14, 7, 22\n",
      "11\t144, 72, 36, 18, 9, 28, 14, 7, 22, 11\n",
      "34\t144, 72, 36, 18, 9, 28, 14, 7, 22, 11, 34\n",
      "17\t144, 72, 36, 18, 9, 28, 14, 7, 22, 11, 34, 17\n",
      "52\t144, 72, 36, 18, 9, 28, 14, 7, 22, 11, 34, 17, 52\n",
      "26\t144, 72, 36, 18, 9, 28, 14, 7, 22, 11, 34, 17, 52, 26\n",
      "13\t144, 72, 36, 18, 9, 28, 14, 7, 22, 11, 34, 17, 52, 26, 13\n",
      "40\t144, 72, 36, 18, 9, 28, 14, 7, 22, 11, 34, 17, 52, 26, 13, 40\n",
      "20\t144, 72, 36, 18, 9, 28, 14, 7, 22, 11, 34, 17, 52, 26, 13, 40, 20\n",
      "10\t144, 72, 36, 18, 9, 28, 14, 7, 22, 11, 34, 17, 52, 26, 13, 40, 20, 10\n",
      "5\t144, 72, 36, 18, 9, 28, 14, 7, 22, 11, 34, 17, 52, 26, 13, 40, 20, 10, 5\n",
      "16\t144, 72, 36, 18, 9, 28, 14, 7, 22, 11, 34, 17, 52, 26, 13, 40, 20, 10, 5, 16\n",
      "8\t144, 72, 36, 18, 9, 28, 14, 7, 22, 11, 34, 17, 52, 26, 13, 40, 20, 10, 5, 16, 8\n",
      "4\t144, 72, 36, 18, 9, 28, 14, 7, 22, 11, 34, 17, 52, 26, 13, 40, 20, 10, 5, 16, 8, 4\n",
      "2\t144, 72, 36, 18, 9, 28, 14, 7, 22, 11, 34, 17, 52, 26, 13, 40, 20, 10, 5, 16, 8, 4, 2\n",
      "1\t144, 72, 36, 18, 9, 28, 14, 7, 22, 11, 34, 17, 52, 26, 13, 40, 20, 10, 5, 16, 8, 4, 2, 1\n"
     ]
    }
   ],
   "source": [
    "#Collatz 3n+1 sequence\n",
    "\n",
    "n = int(input(\"Enter number \"))\n",
    "\n",
    "sequence = [n]\n",
    "\n",
    "print(\"n \\t output so far \\n-- \\t -------------\") #creating the first 2 rows\n",
    "\n",
    "while n != 1:\n",
    "    \n",
    "    print(f\"{n}\\t{', '.join(map(str, sequence))}\") #print sequence, tab, seive out elements in current list\n",
    "    \n",
    "    if n % 2 == 0:\n",
    "        n = n // 2 \n",
    "    else:\n",
    "        n=n*3+1 \n",
    "    \n",
    "    sequence.append(n)\n",
    "\n",
    "print(f\"{n}\\t{', '.join(map(str, sequence))}\")    "
   ]
  },
  {
   "cell_type": "code",
   "execution_count": 39,
   "id": "2c307c6d",
   "metadata": {},
   "outputs": [
    {
     "name": "stdout",
     "output_type": "stream",
     "text": [
      "4\n"
     ]
    }
   ],
   "source": [
    "n = 3029 \n",
    "count = 0 \n",
    "\n",
    "while n != 0:\n",
    "    count = count + 1\n",
    "    n = n // 10 \n",
    "print(count)"
   ]
  },
  {
   "cell_type": "code",
   "execution_count": 42,
   "id": "8628e329",
   "metadata": {},
   "outputs": [
    {
     "data": {
      "text/plain": [
       "0"
      ]
     },
     "execution_count": 42,
     "metadata": {},
     "output_type": "execute_result"
    }
   ],
   "source": []
  }
 ],
 "metadata": {
  "kernelspec": {
   "display_name": "Python 3 (ipykernel)",
   "language": "python",
   "name": "python3"
  },
  "language_info": {
   "codemirror_mode": {
    "name": "ipython",
    "version": 3
   },
   "file_extension": ".py",
   "mimetype": "text/x-python",
   "name": "python",
   "nbconvert_exporter": "python",
   "pygments_lexer": "ipython3",
   "version": "3.11.5"
  }
 },
 "nbformat": 4,
 "nbformat_minor": 5
}
