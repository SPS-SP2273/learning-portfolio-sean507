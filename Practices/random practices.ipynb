{
 "cells": [
  {
   "cell_type": "code",
   "execution_count": 9,
   "id": "7b548d92",
   "metadata": {},
   "outputs": [
    {
     "name": "stdout",
     "output_type": "stream",
     "text": [
      "Enter number of friends coming : 4\n",
      "Enter name of friends coming : trica\n",
      "Enter name of friends coming : hontee\n",
      "Enter name of friends coming : rorenzel\n",
      "Enter name of friends coming : lithoong\n",
      "Hi trica!, see you later alligator!\n",
      "Hi hontee!, see you later alligator!\n",
      "Hi rorenzel!, see you later alligator!\n",
      "Hi lithoong!, see you later alligator!\n"
     ]
    }
   ],
   "source": [
    "# creating an empty list\n",
    "lst = []\n",
    "\n",
    "# number of elements as input\n",
    "n = int(input(\"Enter number of friends coming : \"))\n",
    "\n",
    "# iterating till the range\n",
    "for i in range(n):\n",
    "    ele = input(\"Enter name of friends coming : \")\n",
    "    # adding the element\n",
    "    lst.append(ele) \n",
    "    \n",
    "for n in lst:\n",
    "    print(f'Hi {n}!, see you later alligator!')\n",
    "\n"
   ]
  },
  {
   "cell_type": "code",
   "execution_count": 11,
   "id": "fa22524e",
   "metadata": {},
   "outputs": [
    {
     "name": "stdout",
     "output_type": "stream",
     "text": [
      "21\n"
     ]
    }
   ],
   "source": [
    "n=6\n",
    "\n",
    "current_sum = 0\n",
    "\n",
    "for i in range(n+1): \n",
    "    \n",
    "    current_sum += i #6 + 5 + 4 + 3 + 2 + 1\n",
    "    \n",
    "print(current_sum) "
   ]
  },
  {
   "cell_type": "code",
   "execution_count": 43,
   "id": "5b7a5ff3",
   "metadata": {},
   "outputs": [
    {
     "name": "stdout",
     "output_type": "stream",
     "text": [
      "Enter number 144\n",
      "n \t output so far \n",
      "-- \t -------------\n",
      "144\t144\n",
      "72\t144, 72\n",
      "36\t144, 72, 36\n",
      "18\t144, 72, 36, 18\n",
      "9\t144, 72, 36, 18, 9\n",
      "28\t144, 72, 36, 18, 9, 28\n",
      "14\t144, 72, 36, 18, 9, 28, 14\n",
      "7\t144, 72, 36, 18, 9, 28, 14, 7\n",
      "22\t144, 72, 36, 18, 9, 28, 14, 7, 22\n",
      "11\t144, 72, 36, 18, 9, 28, 14, 7, 22, 11\n",
      "34\t144, 72, 36, 18, 9, 28, 14, 7, 22, 11, 34\n",
      "17\t144, 72, 36, 18, 9, 28, 14, 7, 22, 11, 34, 17\n",
      "52\t144, 72, 36, 18, 9, 28, 14, 7, 22, 11, 34, 17, 52\n",
      "26\t144, 72, 36, 18, 9, 28, 14, 7, 22, 11, 34, 17, 52, 26\n",
      "13\t144, 72, 36, 18, 9, 28, 14, 7, 22, 11, 34, 17, 52, 26, 13\n",
      "40\t144, 72, 36, 18, 9, 28, 14, 7, 22, 11, 34, 17, 52, 26, 13, 40\n",
      "20\t144, 72, 36, 18, 9, 28, 14, 7, 22, 11, 34, 17, 52, 26, 13, 40, 20\n",
      "10\t144, 72, 36, 18, 9, 28, 14, 7, 22, 11, 34, 17, 52, 26, 13, 40, 20, 10\n",
      "5\t144, 72, 36, 18, 9, 28, 14, 7, 22, 11, 34, 17, 52, 26, 13, 40, 20, 10, 5\n",
      "16\t144, 72, 36, 18, 9, 28, 14, 7, 22, 11, 34, 17, 52, 26, 13, 40, 20, 10, 5, 16\n",
      "8\t144, 72, 36, 18, 9, 28, 14, 7, 22, 11, 34, 17, 52, 26, 13, 40, 20, 10, 5, 16, 8\n",
      "4\t144, 72, 36, 18, 9, 28, 14, 7, 22, 11, 34, 17, 52, 26, 13, 40, 20, 10, 5, 16, 8, 4\n",
      "2\t144, 72, 36, 18, 9, 28, 14, 7, 22, 11, 34, 17, 52, 26, 13, 40, 20, 10, 5, 16, 8, 4, 2\n",
      "1\t144, 72, 36, 18, 9, 28, 14, 7, 22, 11, 34, 17, 52, 26, 13, 40, 20, 10, 5, 16, 8, 4, 2, 1\n"
     ]
    }
   ],
   "source": [
    "#Collatz 3n+1 sequence\n",
    "\n",
    "n = int(input(\"Enter number \"))\n",
    "\n",
    "sequence = [n]\n",
    "\n",
    "print(\"n \\t output so far \\n-- \\t -------------\") #creating the first 2 rows\n",
    "\n",
    "while n != 1:\n",
    "    \n",
    "    print(f\"{n}\\t{', '.join(map(str, sequence))}\") #print sequence, tab, seive out elements in current list\n",
    "    \n",
    "    if n % 2 == 0:\n",
    "        n = n // 2 \n",
    "    else:\n",
    "        n=n*3+1 \n",
    "    \n",
    "    sequence.append(n)\n",
    "\n",
    "print(f\"{n}\\t{', '.join(map(str, sequence))}\")    "
   ]
  },
  {
   "cell_type": "code",
   "execution_count": 39,
   "id": "2c307c6d",
   "metadata": {},
   "outputs": [
    {
     "name": "stdout",
     "output_type": "stream",
     "text": [
      "4\n"
     ]
    }
   ],
   "source": [
    "#number of digits in the number\n",
    "n = 3029 \n",
    "count = 0 \n",
    "\n",
    "while n != 0:\n",
    "    count = count + 1\n",
    "    n = n // 10 \n",
    "print(count)"
   ]
  },
  {
   "cell_type": "code",
   "execution_count": 5,
   "id": "8628e329",
   "metadata": {},
   "outputs": [
    {
     "name": "stdout",
     "output_type": "stream",
     "text": [
      "Enter a day number (0-6): 2\n",
      "The day is: Tuesday\n"
     ]
    }
   ],
   "source": [
    "def get_day_name(day_number):\n",
    "    days_of_week = [\"Sunday\", \"Monday\", \"Tuesday\", \"Wednesday\", \"Thursday\", \"Friday\", \"Saturday\"]\n",
    "\n",
    "    if 0 <= day_number <= 6:\n",
    "        return days_of_week[day_number]\n",
    "    else:\n",
    "        return \"Invalid day number. Please enter a number between 0 and 6.\"\n",
    "\n",
    "# Get user input\n",
    "try:\n",
    "    day_number = int(input(\"Enter a day number (0-6): \"))\n",
    "    day_name = get_day_name(day_number)\n",
    "    print(f\"The day is: {day_name}\")\n",
    "\n",
    "except ValueError:\n",
    "    print(\"Invalid input. Please enter a valid integer.\")\n"
   ]
  },
  {
   "cell_type": "code",
   "execution_count": 9,
   "id": "0b772400",
   "metadata": {},
   "outputs": [
    {
     "name": "stdout",
     "output_type": "stream",
     "text": [
      "12 \t 144\n",
      "10 \t 100\n",
      "32 \t 1024\n",
      "3 \t 9\n",
      "66 \t 4356\n",
      "17 \t 289\n",
      "42 \t 1764\n",
      "99 \t 9801\n",
      "20 \t 400\n"
     ]
    }
   ],
   "source": [
    "#b. Write a loop that prints each number and its square on a new line.\n",
    "\n",
    "numbers = [12, 10, 32, 3, 66, 17, 42, 99, 20]\n",
    "\n",
    "for i in numbers:\n",
    "    \n",
    "    square = i ** 2\n",
    "    print(i, \"\\t\", square)"
   ]
  },
  {
   "cell_type": "code",
   "execution_count": 15,
   "id": "9717d318",
   "metadata": {},
   "outputs": [
    {
     "name": "stdout",
     "output_type": "stream",
     "text": [
      "301\n"
     ]
    }
   ],
   "source": [
    "#Write a loop that adds all the numbers from the list into a variable called total.\n",
    "\n",
    "total = 0\n",
    "\n",
    "for i in numbers:\n",
    "    total += i\n",
    "print(total)"
   ]
  },
  {
   "cell_type": "code",
   "execution_count": 17,
   "id": "122b2f7f",
   "metadata": {},
   "outputs": [
    {
     "name": "stdout",
     "output_type": "stream",
     "text": [
      "1074879590400\n"
     ]
    }
   ],
   "source": [
    "#d. Print the product of all the numbers in the list. (product means all multiplied together)\n",
    "\n",
    "product = 1\n",
    "\n",
    "for i in numbers:\n",
    "    product *= i\n",
    "print(product)"
   ]
  },
  {
   "cell_type": "code",
   "execution_count": 1,
   "id": "51234fe9",
   "metadata": {},
   "outputs": [],
   "source": [
    "import turtle\n",
    "\n",
    "window = turtle.Screen() \n",
    "window.bgcolor(\"white\") \n",
    "tess = turtle.Turtle() \n",
    "tess.shape(\"turtle\") \n",
    "tess.color(\"black\")\n",
    "tess.penup()\n",
    "size = 20\n",
    "speed = 1\n",
    "\n",
    "for _ in range(30):\n",
    "    tess.stamp()\n",
    "    size = size + 3\n",
    "    tess.forward(size)\n",
    "    tess.right(24)\n",
    "    speed += 1\n",
    "    tess.speed(speed)\n",
    "\n",
    "window.mainloop()"
   ]
  },
  {
   "cell_type": "code",
   "execution_count": 12,
   "id": "2de7c123",
   "metadata": {},
   "outputs": [
    {
     "name": "stdout",
     "output_type": "stream",
     "text": [
      "Enter number of dice: 2\n",
      "┌─────────┐\n",
      "│  ●      │\n",
      "│    ●    │\n",
      "│      ●  │\n",
      "└─────────┘\n",
      "┌─────────┐\n",
      "│         │\n",
      "│    ●    │\n",
      "│         │\n",
      "└─────────┘\n",
      "Total sum is 4\n"
     ]
    }
   ],
   "source": [
    "import random\n",
    "\n",
    "dice_art = {\n",
    "    1: (\"┌─────────┐\",\n",
    "        \"│         │\",\n",
    "        \"│    ●    │\",\n",
    "        \"│         │\",\n",
    "        \"└─────────┘\"),\n",
    "    2: (\"┌─────────┐\",\n",
    "        \"│  ●      │\",\n",
    "        \"│         │\",\n",
    "        \"│      ●  │\",\n",
    "        \"└─────────┘\"),\n",
    "    3: (\"┌─────────┐\",\n",
    "        \"│  ●      │\",\n",
    "        \"│    ●    │\",\n",
    "        \"│      ●  │\",\n",
    "        \"└─────────┘\"),\n",
    "    4: (\"┌─────────┐\",\n",
    "        \"│  ●   ●  │\",\n",
    "        \"│         │\",\n",
    "        \"│  ●   ●  │\",\n",
    "        \"└─────────┘\"),\n",
    "    5: (\"┌─────────┐\",\n",
    "        \"│  ●   ●  │\",\n",
    "        \"│    ●    │\",\n",
    "        \"│  ●   ●  │\",\n",
    "        \"└─────────┘\"),\n",
    "    6: (\"┌─────────┐\",\n",
    "        \"│  ●   ●  │\",\n",
    "        \"│  ●   ●  │\",\n",
    "        \"│  ●   ●  │\",\n",
    "        \"└─────────┘\")\n",
    "}\n",
    "\n",
    "dice_number = int(input(\"Enter number of dice: \"))\n",
    "\n",
    "total = 0\n",
    "\n",
    "for dice in range(dice_number):\n",
    "    \n",
    "    number = random.randint(1,6)\n",
    "    \n",
    "    for line in dice_art[number]:\n",
    "    \n",
    "        print(line)\n",
    "\n",
    "    total += number\n",
    "\n",
    "print(f\"Total sum is {total}\")"
   ]
  },
  {
   "cell_type": "code",
   "execution_count": 28,
   "id": "2d9a6ca4",
   "metadata": {},
   "outputs": [
    {
     "name": "stdout",
     "output_type": "stream",
     "text": [
      "Enter number of dice: 3\n",
      "Shaking dice...\n",
      "Shaking dice...\n",
      "Shaking dice...\n",
      "[5, 1, 6]\n",
      "┌─────────┐ ┌─────────┐ ┌─────────┐ \n",
      "│  ●   ●  │ │         │ │  ●   ●  │ \n",
      "│    ●    │ │    ●    │ │  ●   ●  │ \n",
      "│  ●   ●  │ │         │ │  ●   ●  │ \n",
      "└─────────┘ └─────────┘ └─────────┘ \n",
      "Total sum is 12\n"
     ]
    }
   ],
   "source": [
    "import random\n",
    "import time\n",
    "\n",
    "dice_art = {\n",
    "    1: (\"┌─────────┐\",\n",
    "        \"│         │\",\n",
    "        \"│    ●    │\",\n",
    "        \"│         │\",\n",
    "        \"└─────────┘\"),\n",
    "    2: (\"┌─────────┐\",\n",
    "        \"│  ●      │\",\n",
    "        \"│         │\",\n",
    "        \"│      ●  │\",\n",
    "        \"└─────────┘\"),\n",
    "    3: (\"┌─────────┐\",\n",
    "        \"│  ●      │\",\n",
    "        \"│    ●    │\",\n",
    "        \"│      ●  │\",\n",
    "        \"└─────────┘\"),\n",
    "    4: (\"┌─────────┐\",\n",
    "        \"│  ●   ●  │\",\n",
    "        \"│         │\",\n",
    "        \"│  ●   ●  │\",\n",
    "        \"└─────────┘\"),\n",
    "    5: (\"┌─────────┐\",\n",
    "        \"│  ●   ●  │\",\n",
    "        \"│    ●    │\",\n",
    "        \"│  ●   ●  │\",\n",
    "        \"└─────────┘\"),\n",
    "    6: (\"┌─────────┐\",\n",
    "        \"│  ●   ●  │\",\n",
    "        \"│  ●   ●  │\",\n",
    "        \"│  ●   ●  │\",\n",
    "        \"└─────────┘\")\n",
    "}\n",
    "\n",
    "\n",
    "dice_number = int(input(\"Enter number of dice: \"))\n",
    "\n",
    "total = 0\n",
    "lst = []\n",
    "\n",
    "\n",
    "for i in range(dice_number):\n",
    "    print(\"Shaking dice...\")\n",
    "    time.sleep(1)\n",
    "\n",
    "for dice in range(dice_number):\n",
    "    \n",
    "    lst.append(random.randint(1,6))\n",
    "\n",
    "print(lst)\n",
    "\n",
    "\n",
    "for dice in lst:\n",
    "    \n",
    "    total += dice\n",
    "    \n",
    "for line in range(5):\n",
    "    \n",
    "    for dice in lst:\n",
    "              \n",
    "        print(dice_art[dice][line], end = \" \")\n",
    "\n",
    "    print()\n",
    "    \n",
    "print(f\"Total sum is {total}\")"
   ]
  },
  {
   "cell_type": "code",
   "execution_count": 64,
   "id": "c6b071d1",
   "metadata": {},
   "outputs": [
    {
     "name": "stdout",
     "output_type": "stream",
     "text": [
      " 0 |  1 |  2 | \n",
      "---  ---  ---  \n",
      " 0 |  1 |  2 | \n",
      "---  ---  ---  \n",
      " 0 |  1 |  2 | \n"
     ]
    }
   ],
   "source": [
    "\n",
    "board = [\"0\",\"1\",\"2\",\n",
    "         \"3\",\"4\",\"5\",\n",
    "         \"6\",\"7\",\"8\",]\n",
    "\n",
    "\n",
    "def tic_tac_toe_board():\n",
    "    \n",
    "    for i in range(5):\n",
    "        \n",
    "        if not i%2 == 0:\n",
    "            \n",
    "            print(\"---  \"*3)\n",
    "        \n",
    "        else:\n",
    "            count = 3\n",
    "            for j in range(count-3,count):\n",
    "                print(\"\",board[j],\"|\",end = \" \")\n",
    "                count +=3\n",
    "                \n",
    "            print()\n",
    "            print(\"---  \"*3)\n",
    "            \n",
    "tic_tac_toe_board()"
   ]
  },
  {
   "cell_type": "code",
   "execution_count": null,
   "id": "323fc835",
   "metadata": {},
   "outputs": [
    {
     "name": "stdout",
     "output_type": "stream",
     "text": [
      " --- --- ---\n",
      "  1 | 2 | 3 |\n",
      " --- --- ---\n",
      "  4 | 5 | 6 |\n",
      " --- --- ---\n",
      "  7 | 8 | 9 |\n",
      " --- --- ---\n",
      "\n",
      "Which square number would you like to place?(1-9): 1\n",
      "Input X or O: X\n",
      " --- --- ---\n",
      "  X | 2 | 3 |\n",
      " --- --- ---\n",
      "  4 | 5 | 6 |\n",
      " --- --- ---\n",
      "  7 | 8 | 9 |\n",
      " --- --- ---\n",
      "\n",
      "Which square number would you like to place?(1-9): 2\n",
      "Input X or O: X\n",
      " --- --- ---\n",
      "  X | X | 3 |\n",
      " --- --- ---\n",
      "  4 | 5 | 6 |\n",
      " --- --- ---\n",
      "  7 | 8 | 9 |\n",
      " --- --- ---\n",
      "\n",
      "Which square number would you like to place?(1-9): 3\n",
      "Input X or O: X\n",
      " --- --- ---\n",
      "  X | X | X |\n",
      " --- --- ---\n",
      "  4 | 5 | 6 |\n",
      " --- --- ---\n",
      "  7 | 8 | 9 |\n",
      " --- --- ---\n",
      "\n"
     ]
    }
   ],
   "source": [
    "\n",
    "board = [\"1\",\"2\",\"3\",\n",
    "         \"4\",\"5\",\"6\",\n",
    "         \"7\",\"8\",\"9\"]\n",
    "\n",
    "\n",
    "def tic_tac_toe_board():\n",
    "        \n",
    "    results = \" ---\"*3 + \"\\n\"\n",
    "\n",
    "    count = 3\n",
    "    \n",
    "    while count<10:\n",
    "    \n",
    "        results += \" \"\n",
    "\n",
    "        for i in range(count-3,count):\n",
    "                    \n",
    "            results += \" \" + board[i] + \" |\" \n",
    "        \n",
    "        count +=3\n",
    "            \n",
    "        results += \"\\n\"\n",
    "        results += \" ---\"*3 + \"\\n\"\n",
    "        \n",
    "    return results\n",
    "\n",
    "\n",
    "def user_input():\n",
    "    \n",
    "    print(tic_tac_toe_board())\n",
    "    \n",
    "    position = int(input(\"Which square number would you like to place?(1-9): \"))\n",
    "    symbol = input(\"Input X or O: \")\n",
    "    \n",
    "    if board[position-1].isnumeric():\n",
    "        board[position-1] = symbol\n",
    "        print(tic_tac_toe_board())\n",
    "        \n",
    "    else: \n",
    "        print(\"Invalid position. Try again \")\n",
    "    \n",
    "    user_input()\n",
    "    \n",
    "    \n",
    "def check_win():\n",
    "    \n",
    " #Rows\n",
    "    i = 0\n",
    "\n",
    "    while i < 7:\n",
    "        \n",
    "        if board[i] == board[i+1] == board[i+2]:\n",
    "        \n",
    "            print (\"Win\")\n",
    "            break\n",
    "        \n",
    "            i += 3\n",
    "\n",
    "    else:\n",
    "        return \"None\"\n",
    "   \n",
    " #Columns\n",
    " \n",
    "    j = 0\n",
    "    \n",
    "    while j < 3:\n",
    "        \n",
    "        if board[j] == board[j+3] == board[j+6]:\n",
    "        \n",
    "            print(\"Win\")\n",
    "            break\n",
    "        \n",
    "        j += 1\n",
    "\n",
    "    else:\n",
    "        print(\"None\")\n",
    "   \n",
    "\n",
    " #Diagonals\n",
    "\n",
    "    if board[0] == board[4] == board[8]:\n",
    "\n",
    "        print(\"Win\")\n",
    "\n",
    "    elif board[2] == board[4] == board[6]:\n",
    "\n",
    "        print(\"Win\")\n",
    "\n",
    "    else:\n",
    "        print(\"None\")\n",
    "\n",
    "        \n",
    "        \n",
    "def play_game():\n",
    "   \n",
    "    while True:\n",
    "        \n",
    "        tic_tac_toe_board()\n",
    "        user_input()\n",
    "        check_win()\n",
    "\n",
    "play_game()"
   ]
  },
  {
   "cell_type": "code",
   "execution_count": 166,
   "id": "8706c96c",
   "metadata": {},
   "outputs": [
    {
     "name": "stdout",
     "output_type": "stream",
     "text": [
      "None\n"
     ]
    }
   ],
   "source": [
    "\n",
    "board = [\"1\",\"2\",\"X\",\n",
    "         \"O\",\"X\",\"X\",\n",
    "         \"0\",\"X\",\"X\",]\n",
    "i = 0\n",
    "\n",
    "while i < 7:\n",
    "        \n",
    "    if board[i] == board[i+1] == board[i+2]:\n",
    "        \n",
    "        print(\"Win\")\n",
    "        break\n",
    "        \n",
    "    i += 3\n",
    "    \n",
    "else:\n",
    "    \n",
    "    print(\"None\")\n",
    "    "
   ]
  },
  {
   "cell_type": "code",
   "execution_count": 177,
   "id": "d3833112",
   "metadata": {},
   "outputs": [
    {
     "name": "stdout",
     "output_type": "stream",
     "text": [
      "None\n"
     ]
    }
   ],
   "source": [
    "\n",
    "board = [\"1\",\"0\",\"X\",\n",
    "         \"O\",\"X\",\"Z\",\n",
    "         \"0\",\"X\",\"X\",] \n",
    "    \n",
    "j = 0\n",
    "    \n",
    "while j < 3:\n",
    "        \n",
    "    if board[j] == board[j+3] == board[j+6]:\n",
    "        \n",
    "        print(\"Win\")\n",
    "        break\n",
    "        \n",
    "    j += 1\n",
    "\n",
    "else:\n",
    "    print(\"None\")\n",
    "   "
   ]
  },
  {
   "cell_type": "code",
   "execution_count": 183,
   "id": "c6aa20a4",
   "metadata": {},
   "outputs": [
    {
     "name": "stdout",
     "output_type": "stream",
     "text": [
      "Win\n"
     ]
    }
   ],
   "source": [
    "\n",
    "board = [\"K\",\"0\",\"X\",\n",
    "         \"O\",\"X\",\"Z\",\n",
    "         \"X\",\"X\",\"X\",] \n",
    "    \n",
    "\n",
    "if board[0] == board[4] == board[8]:\n",
    "    \n",
    "    print(\"Win\")\n",
    "\n",
    "elif board[2] == board[4] == board[6]:\n",
    "      \n",
    "    print(\"Win\")\n",
    "\n",
    "else:\n",
    "    print(\"None\")"
   ]
  },
  {
   "cell_type": "code",
   "execution_count": null,
   "id": "048a83b5",
   "metadata": {},
   "outputs": [],
   "source": []
  }
 ],
 "metadata": {
  "kernelspec": {
   "display_name": "Python 3 (ipykernel)",
   "language": "python",
   "name": "python3"
  },
  "language_info": {
   "codemirror_mode": {
    "name": "ipython",
    "version": 3
   },
   "file_extension": ".py",
   "mimetype": "text/x-python",
   "name": "python",
   "nbconvert_exporter": "python",
   "pygments_lexer": "ipython3",
   "version": "3.11.5"
  }
 },
 "nbformat": 4,
 "nbformat_minor": 5
}
