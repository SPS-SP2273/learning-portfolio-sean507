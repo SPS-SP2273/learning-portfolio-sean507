{
 "cells": [
  {
   "cell_type": "markdown",
   "id": "123456",
   "metadata": {},
   "source": [
    "<div style=\"text-align:left;font-size:2em\"><span style=\"font-weight:bolder;font-size:1.25em\">SP2273 | Learning Portfolio</span><br><br><span style=\"font-weight:bold;color:darkred\">Using Jupyter (Need), Exercises</span></div>"
   ]
  },
  {
   "cell_type": "markdown",
   "id": "872679c6",
   "metadata": {},
   "source": [
    "## Quadratic Equations"
   ]
  },
  {
   "cell_type": "markdown",
   "id": "6877036c",
   "metadata": {},
   "source": [
    "### Introduction"
   ]
  },
  {
   "cell_type": "markdown",
   "id": "e4dd0438",
   "metadata": {},
   "source": [
    "![](https://upload.wikimedia.org/wikipedia/commons/thumb/f/f8/Polynomialdeg2.svg/300px-Polynomialdeg2.svg.png)\n",
    "\n",
    "*(Image from the [Wikipedia page on Quadratic equations](https://en.wikipedia.org/wiki/Quadratic_equation))*\n",
    "\n",
    "The general form of a quadratic equation is:\n",
    "\n",
    "$$\n",
    "ax^2 + bx + c = 0 \n",
    "$$"
   ]
  },
  {
   "cell_type": "markdown",
   "id": "67787edc",
   "metadata": {},
   "source": [
    "### Solutions"
   ]
  },
  {
   "cell_type": "markdown",
   "id": "e2b02f4c",
   "metadata": {},
   "source": [
    "Provided $ a\\ne 0 $ , we can use an elementary algebraic method called [completing the square](https://en.wikipedia.org/wiki/Completing_the_square) to show that a quadratic equation has the following solution:\n",
    "\n",
    "$$ x = \\dfrac{-b \\pm \\sqrt{b^2-4ac}}{2a} $$\n"
   ]
  },
  {
   "cell_type": "markdown",
   "id": "0939c880",
   "metadata": {},
   "source": [
    "### Discriminant"
   ]
  },
  {
   "cell_type": "markdown",
   "id": "1e8ef5bd",
   "metadata": {},
   "source": [
    "The quantity $ \\Delta  = b^2 - 4ac$ is called the **discriminant** of the equation and decides the nature of its solutions. The table below shows the various possibilities.\n",
    "\n",
    "|Discriminant|               Roots                |    \n",
    "| :----------------------------| -----------------------------------:|    \n",
    "| $\\Delta=b^2-4ac=0$| A single solution of $-b / 2a$     |   \n",
    "| $\\Delta=b^2-4ac\\gt0$|  Two distinct solutions             |   \n",
    "| $\\Delta=b^2-4ac\\lt0$| No real solutions; both are complex.|  \n"
   ]
  },
  {
   "cell_type": "markdown",
   "id": "05741ee5",
   "metadata": {},
   "source": [
    "1. What is a Git **repository**?\n",
    "   \n",
    "   - A Git respository is a central storage location for managing and tracking changes in files and directories.\n",
    "    \n",
    "1. What does Git keep track of? \n",
    "\n",
    "    - Git keeps tracks of changes in the files in our repository.\n",
    "\n",
    "1. What is a commit?\n",
    "    - A commit specifies what file changes you want to be recorded and attaches a brief description of these changes. \n",
    "1. What is a push?\n",
    "    - A push uploads your commits, whhich are initially recorded locally on your device, into the cloud.\n",
    "1. What is a pull?\n",
    "    - A pull downloads and save changes from the cloud to our local machine.\n",
    "1. What is the difference between GitHub and GitHub Desktop?\n",
    "    - GitHub is a cloud-based hosting platform that enables developers to manage their Git repositories. GitHub Desktop is an application that lets users interact better with GitHub through a GUI"
   ]
  },
  {
   "cell_type": "code",
   "execution_count": null,
   "id": "c3ead3f4",
   "metadata": {},
   "outputs": [],
   "source": []
  }
 ],
 "metadata": {
  "kernelspec": {
   "display_name": "Python 3 (ipykernel)",
   "language": "python",
   "name": "python3"
  },
  "language_info": {
   "codemirror_mode": {
    "name": "ipython",
    "version": 3
   },
   "file_extension": ".py",
   "mimetype": "text/x-python",
   "name": "python",
   "nbconvert_exporter": "python",
   "pygments_lexer": "ipython3",
   "version": "3.11.5"
  },
  "toc": {
   "base_numbering": 1,
   "nav_menu": {},
   "number_sections": true,
   "sideBar": true,
   "skip_h1_title": false,
   "title_cell": "Table of Contents",
   "title_sidebar": "Contents",
   "toc_cell": false,
   "toc_position": {},
   "toc_section_display": true,
   "toc_window_display": false
  },
  "vscode": {
   "interpreter": {
    "hash": "31f2aee4e71d21fbe5cf8b01ff0e069b9275f58929596ceb00d14d90e3e16cd6"
   }
  }
 },
 "nbformat": 4,
 "nbformat_minor": 5
}
