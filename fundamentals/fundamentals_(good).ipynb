{
 "cells": [
  {
   "cell_type": "markdown",
   "id": "123456",
   "metadata": {},
   "source": [
    "<div style=\"text-align:left;font-size:2em\"><span style=\"font-weight:bolder;font-size:1.25em\">SP2273 | Learning Portfolio</span><br><br><span style=\"font-weight:bold;color:darkred\">Fundamentals (Good)</span></div>"
   ]
  },
  {
   "cell_type": "markdown",
   "id": "f6588285",
   "metadata": {},
   "source": [
    "# What to expect in this chapter"
   ]
  },
  {
   "cell_type": "markdown",
   "id": "e0aef70a",
   "metadata": {},
   "source": [
    "# 1 There is more to if"
   ]
  },
  {
   "cell_type": "code",
   "execution_count": 9,
   "id": "530e0a74",
   "metadata": {},
   "outputs": [
    {
     "name": "stdout",
     "output_type": "stream",
     "text": [
      "Who are you?3\n",
      "Hello Trash!\n",
      "Who are you?2\n",
      "Hello Trash!\n",
      "Who are you?robin\n",
      "Hello Loser!\n"
     ]
    }
   ],
   "source": [
    "count = 0\n",
    "\n",
    "while count < 3:\n",
    "\n",
    "    name = input('Who are you?')\n",
    "\n",
    "    if (name.lower() == 'batman'): #trying to make it not case sensitive\n",
    "\n",
    "        print('Hello Hero | Batman!')\n",
    "        \n",
    "        count += 1\n",
    "\n",
    "    elif(name.upper() == 'ROBIN'): #trying to make it not case sensitive\n",
    "\n",
    "        print('Hello Loser!')\n",
    "        \n",
    "        count += 1\n",
    "\n",
    "    else: \n",
    "\n",
    "        print('Hello Trash!')\n",
    "        \n",
    "        count += 1\n",
    "\n"
   ]
  },
  {
   "cell_type": "markdown",
   "id": "a4ad3ab2",
   "metadata": {},
   "source": [
    "# 2 Asking questions"
   ]
  },
  {
   "cell_type": "code",
   "execution_count": 25,
   "id": "7563d1d6",
   "metadata": {},
   "outputs": [
    {
     "name": "stdout",
     "output_type": "stream",
     "text": [
      "name a fruitapple \n",
      "name a vegetablepotato\n",
      "Average\n"
     ]
    }
   ],
   "source": [
    "fruits = ['apple', 'banana', 'pineapple', 'jackfruit']\n",
    "vegetables = ['celery', 'potato', 'broccoli', 'kale']\n",
    "\n",
    "fruit = input('name a fruit')\n",
    "vegetable = input('name a vegetable')\n",
    "\n",
    "if (fruit in fruits) and (vegetable in vegetables) : #can't seem to work? results only produce average\n",
    "\n",
    "    print('Smart boy')\n",
    "    \n",
    "elif (fruit in fruits) or (vegetable in vegetables):\n",
    "\n",
    "    print('Average')\n",
    "            \n",
    "else: \n",
    "\n",
    "    print('Hello Trash!')\n",
    "        "
   ]
  },
  {
   "cell_type": "code",
   "execution_count": 26,
   "id": "66b8fd88",
   "metadata": {},
   "outputs": [
    {
     "data": {
      "text/plain": [
       "False"
      ]
     },
     "execution_count": 26,
     "metadata": {},
     "output_type": "execute_result"
    }
   ],
   "source": [
    "'apples' > 'oranges' #This comparison works because English letters are internally represented as numbers. For example, 'a' is 97 and 'o' is 111."
   ]
  },
  {
   "cell_type": "code",
   "execution_count": 28,
   "id": "bca2e876",
   "metadata": {},
   "outputs": [
    {
     "data": {
      "text/plain": [
       "True"
      ]
     },
     "execution_count": 28,
     "metadata": {},
     "output_type": "execute_result"
    }
   ],
   "source": [
    "'apples' <'oranges' #This comparison works because English letters are internally represented as numbers. For example, 'a' is 97 and 'o' is 111."
   ]
  },
  {
   "cell_type": "markdown",
   "id": "bdb8e726",
   "metadata": {},
   "source": [
    "# 3 Remember"
   ]
  },
  {
   "cell_type": "markdown",
   "id": "a8266172",
   "metadata": {},
   "source": [
    "## 3.1 Asking Math questions"
   ]
  },
  {
   "cell_type": "markdown",
   "id": "b17fae49",
   "metadata": {},
   "source": [
    "1. Equals?\t==\n",
    "1. Not equal? !=\n",
    "1. Less than?\t<\n",
    "1. Greater than? >\n",
    "1. Less than or equal?\t<=\n",
    "1. Greater than or equal? >="
   ]
  },
  {
   "cell_type": "markdown",
   "id": "d6b9935b",
   "metadata": {},
   "source": [
    "# 4 Python stores information in different formats or types"
   ]
  },
  {
   "cell_type": "code",
   "execution_count": 30,
   "id": "832de798",
   "metadata": {},
   "outputs": [
    {
     "name": "stdout",
     "output_type": "stream",
     "text": [
      "1 <class 'int'>\n",
      "2 <class 'int'>\n"
     ]
    }
   ],
   "source": [
    "#1. Integer: remove decimal points completely\n",
    "\n",
    "x = int(1.234)\n",
    "y = int(2.834)\n",
    "\n",
    "print(x, type(x))\n",
    "print(y, type(y))"
   ]
  },
  {
   "cell_type": "code",
   "execution_count": 42,
   "id": "a6fed29b",
   "metadata": {},
   "outputs": [
    {
     "name": "stdout",
     "output_type": "stream",
     "text": [
      "1234 <class 'str'>\n",
      "46 <class 'int'>\n",
      "12 <class 'str'>\n"
     ]
    }
   ],
   "source": [
    "#2. String: as an english word. \n",
    "\n",
    "x = str(12)\n",
    "y = str(34)\n",
    "z = x + y # When you define number as strings, they concatenate instead of sum\n",
    "\n",
    "print(z,type(z))\n",
    "\n",
    "\n",
    "a = 12 # By default,numbers are float or int\n",
    "b = 34\n",
    "c = a + b \n",
    "\n",
    "print(c,type(c))\n",
    "\n",
    "m = '12' # When adding quotation marks, it reads as a string\n",
    "print(m,type(m))\n"
   ]
  },
  {
   "cell_type": "code",
   "execution_count": 36,
   "id": "fa05e5b7",
   "metadata": {},
   "outputs": [
    {
     "name": "stdout",
     "output_type": "stream",
     "text": [
      "1.234 <class 'float'>\n",
      "1.0 <class 'float'>\n"
     ]
    }
   ],
   "source": [
    "#3. Float: as a decimal number\n",
    "\n",
    "x = float(1.234)\n",
    "print(x, type(x))\n",
    "\n",
    "y = float(1)\n",
    "print(y, type(y))"
   ]
  },
  {
   "cell_type": "code",
   "execution_count": 40,
   "id": "bb50f493",
   "metadata": {},
   "outputs": [
    {
     "name": "stdout",
     "output_type": "stream",
     "text": [
      "(1.234+0j) <class 'complex'>\n",
      "(1.234+2j) <class 'complex'>\n"
     ]
    }
   ],
   "source": [
    "#4. Complex: As a complex number (complex). This will include an imaginary part of the number.\n",
    "\n",
    "x = complex(1.234)\n",
    "print(x, type(x))\n",
    "\n",
    "y = complex(1.234 + 2j)\n",
    "print(y, type(y))"
   ]
  },
  {
   "cell_type": "markdown",
   "id": "a7b46492",
   "metadata": {},
   "source": [
    "# 5 Never compare floats directly"
   ]
  },
  {
   "cell_type": "markdown",
   "id": "1d4b8c84",
   "metadata": {},
   "source": [
    "## 5.1 The Problem"
   ]
  },
  {
   "cell_type": "code",
   "execution_count": 45,
   "id": "ff1cb16a",
   "metadata": {},
   "outputs": [
    {
     "name": "stdout",
     "output_type": "stream",
     "text": [
      "0.1 <class 'float'>\n",
      "0.3 <class 'float'>\n"
     ]
    },
    {
     "data": {
      "text/plain": [
       "False"
      ]
     },
     "execution_count": 45,
     "metadata": {},
     "output_type": "execute_result"
    }
   ],
   "source": [
    "a = 0.1\n",
    "a3 = 0.3\n",
    "print(a, type(a))\n",
    "print(a3, type(a3))\n",
    "a * 3 == a3\n",
    "\n",
    "#In Python, as in many programming languages, floating-point numbers are stored using a fixed number of binary digits (bits). \n",
    "#This fixed precision can result in rounding errors when representing certain decimal numbers.\n",
    "#The variable a is assigned the value 0.1, and a3 is assigned the value 0.3. However, when you multiply a by 3 (a * 3), the result is 0.30000000000000004, not exactly 0.3. \n",
    "#This small discrepancy is due to the limited precision of floating-point representation."
   ]
  },
  {
   "cell_type": "markdown",
   "id": "6c1864e9",
   "metadata": {},
   "source": [
    "## 5.2 A solution"
   ]
  },
  {
   "cell_type": "code",
   "execution_count": 46,
   "id": "5fba8504",
   "metadata": {},
   "outputs": [
    {
     "name": "stdout",
     "output_type": "stream",
     "text": [
      "True\n"
     ]
    }
   ],
   "source": [
    "#In general, when comparing floating-point numbers for equality, it's a good practice to use a tolerance or a small epsilon value to account for potential rounding errors. \n",
    "\n",
    "epsilon = 1e-10\n",
    "print(abs(a * 3 - a3) < epsilon) #abs is a built-in function that returns the absolute value of a number. "
   ]
  },
  {
   "cell_type": "code",
   "execution_count": 48,
   "id": "05bf7b33",
   "metadata": {},
   "outputs": [
    {
     "data": {
      "text/plain": [
       "True"
      ]
     },
     "execution_count": 48,
     "metadata": {},
     "output_type": "execute_result"
    }
   ],
   "source": [
    "import numpy as np\n",
    "\n",
    "np.isclose(a * 3, a3)"
   ]
  },
  {
   "cell_type": "markdown",
   "id": "9218d779",
   "metadata": {},
   "source": [
    "# 6 Combining English and variables"
   ]
  },
  {
   "cell_type": "markdown",
   "id": "52283298",
   "metadata": {},
   "source": [
    "## 6.1 Structure of f-strings"
   ]
  },
  {
   "cell_type": "code",
   "execution_count": 50,
   "id": "6e4d31fa",
   "metadata": {},
   "outputs": [
    {
     "name": "stdout",
     "output_type": "stream",
     "text": [
      "What is namealice\n",
      "Hello, my name is alice and I am 30 years old.\n"
     ]
    }
   ],
   "source": [
    "# an f-string, also known as a formatted string literal, is a way to embed expressions inside string literals, using curly braces {} to enclose the expressions. \n",
    "#F-strings provide a concise and convenient syntax for string formatting.\n",
    "\n",
    "name = input(\"What is name\")\n",
    "age = 30\n",
    "\n",
    "# Using f-string to create a formatted string\n",
    "message = f\"Hello, my name is {name} and I am {age} years old.\"\n",
    "\n",
    "print(message)"
   ]
  },
  {
   "cell_type": "code",
   "execution_count": 56,
   "id": "0365385c",
   "metadata": {},
   "outputs": [
    {
     "name": "stdout",
     "output_type": "stream",
     "text": [
      "Hello, my name isAliceand I am30years old.\n"
     ]
    }
   ],
   "source": [
    "name = \"Alice\"\n",
    "age = 30\n",
    "\n",
    "# If I don't use f-string, troublesome and ugly af\n",
    "message = \"Hello, my name is\" + name + \"and I am\" + str(age) + \"years old.\"\n",
    "\n",
    "print(message)"
   ]
  },
  {
   "cell_type": "code",
   "execution_count": 59,
   "id": "5321c614",
   "metadata": {},
   "outputs": [
    {
     "name": "stdout",
     "output_type": "stream",
     "text": [
      "The value of 10 cubed is 1000!\n"
     ]
    }
   ],
   "source": [
    "x = 10\n",
    "print(f\"The value of {x} cubed is {x**3}!\")"
   ]
  },
  {
   "cell_type": "code",
   "execution_count": 52,
   "id": "9ed02d7e",
   "metadata": {},
   "outputs": [
    {
     "name": "stdout",
     "output_type": "stream",
     "text": [
      "Which number do you think can be square-rooted nicely? 3\n",
      "You suck at math bro try again\n",
      "Which number do you think can be square-rooted nicely? 12\n",
      "You suck at math bro try again\n",
      "Which number do you think can be square-rooted nicely? 81\n",
      "9\n",
      "Finally after 2 tries)\n"
     ]
    }
   ],
   "source": [
    "import numpy as np  \n",
    "\n",
    "count = 0\n",
    "suck = 0\n",
    "\n",
    "while count < 1:\n",
    "    \n",
    "    number = input('Which number do you think can be square-rooted nicely? ')\n",
    "\n",
    "    try:\n",
    "        number = float(number)\n",
    "        root = np.sqrt(number)\n",
    "\n",
    "        if root.is_integer():\n",
    "    \n",
    "            print(int(root))\n",
    "            count += 1\n",
    "\n",
    "            if suck < 1:\n",
    "            \n",
    "                print (\"Good Job\")\n",
    "            \n",
    "            else:\n",
    "            \n",
    "                print (f\"Finally after {suck} tries\") # Using f-string to create a formatted string reduces the need for concat (which was what i did previously)\n",
    "                \n",
    "        else:\n",
    "            print(\"You suck at math bro try again\")\n",
    "            suck += 1\n",
    "\n",
    "    except ValueError:\n",
    "    \n",
    "        print('Wtf I asked for a number right? Dumbass')\n",
    "        suck += 1\n"
   ]
  },
  {
   "cell_type": "code",
   "execution_count": 58,
   "id": "388b3156",
   "metadata": {},
   "outputs": [
    {
     "name": "stdout",
     "output_type": "stream",
     "text": [
      "                                                                    Bruce Wayne is Batman.\n"
     ]
    }
   ],
   "source": [
    "text = 'Bruce Wayne is Batman.'\n",
    "print(f'{text:>90}')      # A block of 30 characters;\n",
    "                          # aligned right\n",
    "                          # why though"
   ]
  },
  {
   "cell_type": "code",
   "execution_count": 66,
   "id": "2803e296",
   "metadata": {},
   "outputs": [
    {
     "name": "stdout",
     "output_type": "stream",
     "text": [
      "The cube of pi to 10 decimal places is 31.0062766803\n"
     ]
    }
   ],
   "source": [
    "#{X:.ZW} where X: number, Z: Number of decimal places, W: Specifies the type of variable (f:float, d:int,s:string)\n",
    "\n",
    "print(f'The cube of pi to 10 decimal places is {np.pi**3:.10f}') "
   ]
  },
  {
   "cell_type": "code",
   "execution_count": 65,
   "id": "076f987b",
   "metadata": {},
   "outputs": [
    {
     "name": "stdout",
     "output_type": "stream",
     "text": [
      "                         apple\n"
     ]
    }
   ],
   "source": [
    "#{X:>0Y.ZW} where X: string, : Number of decimal places, W: Specifies the type of variable (f:float, d:int,s:string)\n",
    "\n",
    "print(f'{\"apple\":>30}')"
   ]
  },
  {
   "cell_type": "markdown",
   "id": "c4a6aab5",
   "metadata": {},
   "source": [
    "# 7 Escape sequences"
   ]
  },
  {
   "cell_type": "code",
   "execution_count": 78,
   "id": "9a123919",
   "metadata": {},
   "outputs": [
    {
     "name": "stdout",
     "output_type": "stream",
     "text": [
      "Line 1\n",
      "\tLine 2\n",
      "\t\tLine 3\n",
      "Never gonna give you up\n",
      "Never gonna let you down\n",
      "Attack\t on\ttitan\n"
     ]
    }
   ],
   "source": [
    "#\\n is break line; \\t is tab\n",
    "print('Line 1\\n\\tLine 2\\n\\t\\tLine 3') \n",
    "print(\"Never gonna give you up\\nNever gonna let you down\") \n",
    "print(\"Attack\\t on\\ttitan\") "
   ]
  },
  {
   "cell_type": "code",
   "execution_count": 70,
   "id": "b46ae2cc",
   "metadata": {},
   "outputs": [
    {
     "name": "stdout",
     "output_type": "stream",
     "text": [
      "Mary's Milk\n"
     ]
    }
   ],
   "source": [
    "#was wondering if we could print \" ' \" right? Here you have it \\'\n",
    "print(\"Mary\\'s Milk\")"
   ]
  },
  {
   "cell_type": "code",
   "execution_count": 79,
   "id": "203d5c91",
   "metadata": {},
   "outputs": [
    {
     "name": "stdout",
     "output_type": "stream",
     "text": [
      "G\\eto\n",
      "Go\\jo\n"
     ]
    }
   ],
   "source": [
    "#\\\\ to print backslash\n",
    "print(\"G\\\\eto\")\n",
    "print(\"Go\\\\jo\")"
   ]
  },
  {
   "cell_type": "markdown",
   "id": "3945f201",
   "metadata": {},
   "source": [
    "# 8 Computers read = from Right to Left!"
   ]
  },
  {
   "cell_type": "code",
   "execution_count": 85,
   "id": "01268c9d",
   "metadata": {},
   "outputs": [
    {
     "name": "stdout",
     "output_type": "stream",
     "text": [
      "40\n",
      "42\n",
      "44\n",
      "46\n",
      "48\n",
      "50\n",
      "52\n",
      "54\n",
      "56\n",
      "58\n"
     ]
    }
   ],
   "source": [
    "y = 40\n",
    "\n",
    "while (y < 60):\n",
    "    \n",
    "    print(y)\n",
    "    y = y + 2\n"
   ]
  },
  {
   "cell_type": "markdown",
   "id": "e7ad3dd0",
   "metadata": {},
   "source": [
    "# 9 Shorter and Cleaner Code"
   ]
  },
  {
   "cell_type": "code",
   "execution_count": 91,
   "id": "60dda0a0",
   "metadata": {},
   "outputs": [
    {
     "name": "stdout",
     "output_type": "stream",
     "text": [
      "4\n",
      "2.0\n",
      "0.0\n"
     ]
    }
   ],
   "source": [
    "y = 2\n",
    "\n",
    "y *= 2\n",
    "\n",
    "print (y)\n",
    "\n",
    "y /= 2 \n",
    "\n",
    "print (y)\n",
    "\n",
    "y -= 2 \n",
    "\n",
    "print (y)\n"
   ]
  },
  {
   "cell_type": "markdown",
   "id": "e3e940cc",
   "metadata": {},
   "source": [
    "# 10 Python can be a prima-donna."
   ]
  },
  {
   "cell_type": "markdown",
   "id": "994c771b",
   "metadata": {},
   "source": [
    "# 11 Best Practices for Scientific Computing"
   ]
  },
  {
   "cell_type": "markdown",
   "id": "5454d0d6",
   "metadata": {},
   "source": [
    "# 12 Looking for help"
   ]
  },
  {
   "cell_type": "markdown",
   "id": "6bfee980",
   "metadata": {},
   "source": [
    "## References"
   ]
  },
  {
   "cell_type": "markdown",
   "id": "fe25ec9e",
   "metadata": {},
   "source": [
    "## Footnotes"
   ]
  }
 ],
 "metadata": {
  "kernelspec": {
   "display_name": "Python 3 (ipykernel)",
   "language": "python",
   "name": "python3"
  },
  "language_info": {
   "codemirror_mode": {
    "name": "ipython",
    "version": 3
   },
   "file_extension": ".py",
   "mimetype": "text/x-python",
   "name": "python",
   "nbconvert_exporter": "python",
   "pygments_lexer": "ipython3",
   "version": "3.11.5"
  },
  "toc": {
   "base_numbering": 1,
   "nav_menu": {},
   "number_sections": true,
   "sideBar": true,
   "skip_h1_title": false,
   "title_cell": "Table of Contents",
   "title_sidebar": "Contents",
   "toc_cell": false,
   "toc_position": {},
   "toc_section_display": true,
   "toc_window_display": false
  },
  "vscode": {
   "interpreter": {
    "hash": "31f2aee4e71d21fbe5cf8b01ff0e069b9275f58929596ceb00d14d90e3e16cd6"
   }
  }
 },
 "nbformat": 4,
 "nbformat_minor": 5
}
