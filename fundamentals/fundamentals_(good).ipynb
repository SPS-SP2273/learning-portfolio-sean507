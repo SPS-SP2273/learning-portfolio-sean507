{
 "cells": [
  {
   "cell_type": "markdown",
   "id": "123456",
   "metadata": {},
   "source": [
    "<div style=\"text-align:left;font-size:2em\"><span style=\"font-weight:bolder;font-size:1.25em\">SP2273 | Learning Portfolio</span><br><br><span style=\"font-weight:bold;color:darkred\">Fundamentals (Good)</span></div>"
   ]
  },
  {
   "cell_type": "markdown",
   "id": "f6588285",
   "metadata": {},
   "source": [
    "# What to expect in this chapter"
   ]
  },
  {
   "cell_type": "markdown",
   "id": "e0aef70a",
   "metadata": {},
   "source": [
    "# 1 There is more to if"
   ]
  },
  {
   "cell_type": "code",
   "execution_count": 9,
   "id": "149e248c",
   "metadata": {},
   "outputs": [
    {
     "name": "stdout",
     "output_type": "stream",
     "text": [
      "Who are you?3\n",
      "Hello Trash!\n",
      "Who are you?2\n",
      "Hello Trash!\n",
      "Who are you?robin\n",
      "Hello Loser!\n"
     ]
    }
   ],
   "source": [
    "count = 0\n",
    "\n",
    "while count < 3:\n",
    "\n",
    "    name = input('Who are you?')\n",
    "\n",
    "    if (name.lower() == 'batman'): #trying to make it not case sensitive\n",
    "\n",
    "        print('Hello Hero | Batman!')\n",
    "        \n",
    "        count += 1\n",
    "\n",
    "    elif(name.upper() == 'ROBIN'): #trying to make it not case sensitive\n",
    "\n",
    "        print('Hello Loser!')\n",
    "        \n",
    "        count += 1\n",
    "\n",
    "    else: \n",
    "\n",
    "        print('Hello Trash!')\n",
    "        \n",
    "        count += 1\n",
    "\n"
   ]
  },
  {
   "cell_type": "markdown",
   "id": "a4ad3ab2",
   "metadata": {},
   "source": [
    "# 2 Asking questions"
   ]
  },
  {
   "cell_type": "code",
   "execution_count": 25,
   "id": "823e6d08",
   "metadata": {},
   "outputs": [
    {
     "name": "stdout",
     "output_type": "stream",
     "text": [
      "name a fruitapple \n",
      "name a vegetablepotato\n",
      "Average\n"
     ]
    }
   ],
   "source": [
    "fruits = ['apple', 'banana', 'pineapple', 'jackfruit']\n",
    "vegetables = ['celery', 'potato', 'broccoli', 'kale']\n",
    "\n",
    "fruit = input('name a fruit')\n",
    "vegetable = input('name a vegetable')\n",
    "\n",
    "if (fruit in fruits) and (vegetable in vegetables) : #can't seem to work? results only produce average\n",
    "\n",
    "    print('Smart boy')\n",
    "    \n",
    "elif (fruit in fruits) or (vegetable in vegetables):\n",
    "\n",
    "    print('Average')\n",
    "            \n",
    "else: \n",
    "\n",
    "    print('Hello Trash!')\n",
    "        "
   ]
  },
  {
   "cell_type": "code",
   "execution_count": 26,
   "id": "f8802dce",
   "metadata": {},
   "outputs": [
    {
     "data": {
      "text/plain": [
       "False"
      ]
     },
     "execution_count": 26,
     "metadata": {},
     "output_type": "execute_result"
    }
   ],
   "source": [
    "'apples' > 'oranges' #This comparison works because English letters are internally represented as numbers. For example, 'a' is 97 and 'o' is 111."
   ]
  },
  {
   "cell_type": "code",
   "execution_count": 28,
   "id": "82a4a5cb",
   "metadata": {},
   "outputs": [
    {
     "data": {
      "text/plain": [
       "True"
      ]
     },
     "execution_count": 28,
     "metadata": {},
     "output_type": "execute_result"
    }
   ],
   "source": [
    "'apples' <'oranges' #This comparison works because English letters are internally represented as numbers. For example, 'a' is 97 and 'o' is 111."
   ]
  },
  {
   "cell_type": "markdown",
   "id": "bdb8e726",
   "metadata": {},
   "source": [
    "# 3 Remember"
   ]
  },
  {
   "cell_type": "markdown",
   "id": "a8266172",
   "metadata": {},
   "source": [
    "## 3.1 Asking Math questions"
   ]
  },
  {
   "cell_type": "markdown",
   "id": "8e296ff6",
   "metadata": {},
   "source": [
    "1. Equals?\t==\n",
    "1. Not equal? !=\n",
    "1. Less than?\t<\n",
    "1. Greater than? >\n",
    "1. Less than or equal?\t<=\n",
    "1. Greater than or equal? >="
   ]
  },
  {
   "cell_type": "markdown",
   "id": "d6b9935b",
   "metadata": {},
   "source": [
    "# 4 Python stores information in different formats or types"
   ]
  },
  {
   "cell_type": "code",
   "execution_count": 30,
   "id": "fddcbede",
   "metadata": {},
   "outputs": [
    {
     "name": "stdout",
     "output_type": "stream",
     "text": [
      "1 <class 'int'>\n",
      "2 <class 'int'>\n"
     ]
    }
   ],
   "source": [
    "#1. Integer: remove decimal points completely\n",
    "\n",
    "x = int(1.234)\n",
    "y = int(2.834)\n",
    "\n",
    "print(x, type(x))\n",
    "print(y, type(y))"
   ]
  },
  {
   "cell_type": "code",
   "execution_count": 42,
   "id": "91110da5",
   "metadata": {},
   "outputs": [
    {
     "name": "stdout",
     "output_type": "stream",
     "text": [
      "1234 <class 'str'>\n",
      "46 <class 'int'>\n",
      "12 <class 'str'>\n"
     ]
    }
   ],
   "source": [
    "#2. String: as an english word. \n",
    "\n",
    "x = str(12)\n",
    "y = str(34)\n",
    "z = x + y # When you define number as strings, they concatenate instead of sum\n",
    "\n",
    "print(z,type(z))\n",
    "\n",
    "\n",
    "a = 12 # By default,numbers are float or int\n",
    "b = 34\n",
    "c = a + b \n",
    "\n",
    "print(c,type(c))\n",
    "\n",
    "m = '12' # When adding quotation marks, it reads as a string\n",
    "print(m,type(m))\n"
   ]
  },
  {
   "cell_type": "code",
   "execution_count": 36,
   "id": "7ad771dc",
   "metadata": {},
   "outputs": [
    {
     "name": "stdout",
     "output_type": "stream",
     "text": [
      "1.234 <class 'float'>\n",
      "1.0 <class 'float'>\n"
     ]
    }
   ],
   "source": [
    "#3. Float: as a decimal number\n",
    "\n",
    "x = float(1.234)\n",
    "print(x, type(x))\n",
    "\n",
    "y = float(1)\n",
    "print(y, type(y))"
   ]
  },
  {
   "cell_type": "code",
   "execution_count": 40,
   "id": "43a8ab91",
   "metadata": {},
   "outputs": [
    {
     "name": "stdout",
     "output_type": "stream",
     "text": [
      "(1.234+0j) <class 'complex'>\n",
      "(1.234+2j) <class 'complex'>\n"
     ]
    }
   ],
   "source": [
    "#4. Complex: As a complex number (complex). This will include an imaginary part of the number.\n",
    "\n",
    "x = complex(1.234)\n",
    "print(x, type(x))\n",
    "\n",
    "y = complex(1.234 + 2j)\n",
    "print(y, type(y))"
   ]
  },
  {
   "cell_type": "markdown",
   "id": "a7b46492",
   "metadata": {},
   "source": [
    "# 5 Never compare floats directly"
   ]
  },
  {
   "cell_type": "markdown",
   "id": "1d4b8c84",
   "metadata": {},
   "source": [
    "## 5.1 The Problem"
   ]
  },
  {
   "cell_type": "code",
   "execution_count": 45,
   "id": "8bcd880e",
   "metadata": {},
   "outputs": [
    {
     "name": "stdout",
     "output_type": "stream",
     "text": [
      "0.1 <class 'float'>\n",
      "0.3 <class 'float'>\n"
     ]
    },
    {
     "data": {
      "text/plain": [
       "False"
      ]
     },
     "execution_count": 45,
     "metadata": {},
     "output_type": "execute_result"
    }
   ],
   "source": [
    "a = 0.1\n",
    "a3 = 0.3\n",
    "print(a, type(a))\n",
    "print(a3, type(a3))\n",
    "a * 3 == a3\n",
    "\n",
    "#In Python, as in many programming languages, floating-point numbers are stored using a fixed number of binary digits (bits). \n",
    "#This fixed precision can result in rounding errors when representing certain decimal numbers.\n",
    "#The variable a is assigned the value 0.1, and a3 is assigned the value 0.3. However, when you multiply a by 3 (a * 3), the result is 0.30000000000000004, not exactly 0.3. \n",
    "#This small discrepancy is due to the limited precision of floating-point representation."
   ]
  },
  {
   "cell_type": "markdown",
   "id": "6c1864e9",
   "metadata": {},
   "source": [
    "## 5.2 A solution"
   ]
  },
  {
   "cell_type": "code",
   "execution_count": 46,
   "id": "2c32ff4f",
   "metadata": {},
   "outputs": [
    {
     "name": "stdout",
     "output_type": "stream",
     "text": [
      "True\n"
     ]
    }
   ],
   "source": [
    "#In general, when comparing floating-point numbers for equality, it's a good practice to use a tolerance or a small epsilon value to account for potential rounding errors. \n",
    "\n",
    "epsilon = 1e-10\n",
    "print(abs(a * 3 - a3) < epsilon) #abs is a built-in function that returns the absolute value of a number. "
   ]
  },
  {
   "cell_type": "code",
   "execution_count": 48,
   "id": "9fe55197",
   "metadata": {},
   "outputs": [
    {
     "data": {
      "text/plain": [
       "True"
      ]
     },
     "execution_count": 48,
     "metadata": {},
     "output_type": "execute_result"
    }
   ],
   "source": [
    "import numpy as np\n",
    "\n",
    "np.isclose(a * 3, a3)"
   ]
  },
  {
   "cell_type": "markdown",
   "id": "9218d779",
   "metadata": {},
   "source": [
    "# 6 Combining English and variables"
   ]
  },
  {
   "cell_type": "markdown",
   "id": "52283298",
   "metadata": {},
   "source": [
    "## 6.1 Structure of f-strings"
   ]
  },
  {
   "cell_type": "code",
   "execution_count": 50,
   "id": "1f59caaf",
   "metadata": {},
   "outputs": [
    {
     "name": "stdout",
     "output_type": "stream",
     "text": [
      "What is namealice\n",
      "Hello, my name is alice and I am 30 years old.\n"
     ]
    }
   ],
   "source": [
    "# an f-string, also known as a formatted string literal, is a way to embed expressions inside string literals, using curly braces {} to enclose the expressions. \n",
    "#F-strings provide a concise and convenient syntax for string formatting.\n",
    "\n",
    "name = input(\"What is name\")\n",
    "age = 30\n",
    "\n",
    "# Using f-string to create a formatted string\n",
    "message = f\"Hello, my name is {name} and I am {age} years old.\"\n",
    "\n",
    "print(message)"
   ]
  },
  {
   "cell_type": "code",
   "execution_count": 56,
   "id": "7354464e",
   "metadata": {},
   "outputs": [
    {
     "name": "stdout",
     "output_type": "stream",
     "text": [
      "Hello, my name isAliceand I am30years old.\n"
     ]
    }
   ],
   "source": [
    "name = \"Alice\"\n",
    "age = 30\n",
    "\n",
    "# If I don't use f-string, troublesome and ugly af\n",
    "message = \"Hello, my name is\" + name + \"and I am\" + str(age) + \"years old.\"\n",
    "\n",
    "print(message)"
   ]
  },
  {
   "cell_type": "code",
   "execution_count": 59,
   "id": "21f3604a",
   "metadata": {},
   "outputs": [
    {
     "name": "stdout",
     "output_type": "stream",
     "text": [
      "The value of 10 cubed is 1000!\n"
     ]
    }
   ],
   "source": [
    "x = 10\n",
    "print(f\"The value of {x} cubed is {x**3}!\")"
   ]
  },
  {
   "cell_type": "code",
   "execution_count": 52,
   "id": "cf20ff72",
   "metadata": {},
   "outputs": [
    {
     "name": "stdout",
     "output_type": "stream",
     "text": [
      "Which number do you think can be square-rooted nicely? 3\n",
      "You suck at math bro try again\n",
      "Which number do you think can be square-rooted nicely? 12\n",
      "You suck at math bro try again\n",
      "Which number do you think can be square-rooted nicely? 81\n",
      "9\n",
      "Finally after 2 tries)\n"
     ]
    }
   ],
   "source": [
    "import numpy as np  \n",
    "\n",
    "count = 0\n",
    "suck = 0\n",
    "\n",
    "while count < 1:\n",
    "    \n",
    "    number = input('Which number do you think can be square-rooted nicely? ')\n",
    "\n",
    "    try:\n",
    "        number = float(number)\n",
    "        root = np.sqrt(number)\n",
    "\n",
    "        if root.is_integer():\n",
    "    \n",
    "            print(int(root))\n",
    "            count += 1\n",
    "\n",
    "            if suck < 1:\n",
    "            \n",
    "                print (\"Good Job\")\n",
    "            \n",
    "            else:\n",
    "            \n",
    "                print (f\"Finally after {suck} tries\") # Using f-string to create a formatted string reduces the need for concat (which was what i did previously)\n",
    "                \n",
    "        else:\n",
    "            print(\"You suck at math bro try again\")\n",
    "            suck += 1\n",
    "\n",
    "    except ValueError:\n",
    "    \n",
    "        print('Wtf I asked for a number right? Dumbass')\n",
    "        suck += 1\n"
   ]
  },
  {
   "cell_type": "code",
   "execution_count": 58,
   "id": "c2430d13",
   "metadata": {},
   "outputs": [
    {
     "name": "stdout",
     "output_type": "stream",
     "text": [
      "                                                                    Bruce Wayne is Batman.\n"
     ]
    }
   ],
   "source": [
    "text = 'Bruce Wayne is Batman.'\n",
    "print(f'{text:>90}')      # A block of 30 characters;\n",
    "                          # aligned right\n",
    "                          # why though"
   ]
  },
  {
   "cell_type": "code",
   "execution_count": 63,
   "id": "1e82bb17",
   "metadata": {},
   "outputs": [
    {
     "name": "stdout",
     "output_type": "stream",
     "text": [
      "The cube of pi to 6 decimal places is 31.0062766803\n"
     ]
    }
   ],
   "source": [
    "#{X:.ZW} where X: numer, Z: Number of decimal places, W: Specifies the type of variable (f:float, d:int,s:string)\n",
    "\n",
    "print(f'The cube of pi to 6 decimal places is {np.pi**3:.10f}') "
   ]
  },
  {
   "cell_type": "code",
   "execution_count": 65,
   "id": "c1f80a91",
   "metadata": {},
   "outputs": [
    {
     "name": "stdout",
     "output_type": "stream",
     "text": [
      "                         apple\n"
     ]
    }
   ],
   "source": [
    "#{X:>0Y.ZW} where X: string, : Number of decimal places, W: Specifies the type of variable (f:float, d:int,s:string)\n",
    "\n",
    "print(f'{\"apple\":>30}')"
   ]
  },
  {
   "cell_type": "markdown",
   "id": "c4a6aab5",
   "metadata": {},
   "source": [
    "# 7 Escape sequences"
   ]
  },
  {
   "cell_type": "markdown",
   "id": "3945f201",
   "metadata": {},
   "source": [
    "# 8 Computers read = from Right to Left!"
   ]
  },
  {
   "cell_type": "markdown",
   "id": "e7ad3dd0",
   "metadata": {},
   "source": [
    "# 9 Shorter and Cleaner Code"
   ]
  },
  {
   "cell_type": "markdown",
   "id": "e3e940cc",
   "metadata": {},
   "source": [
    "# 10 Python can be a prima-donna."
   ]
  },
  {
   "cell_type": "markdown",
   "id": "994c771b",
   "metadata": {},
   "source": [
    "# 11 Best Practices for Scientific Computing"
   ]
  },
  {
   "cell_type": "markdown",
   "id": "5454d0d6",
   "metadata": {},
   "source": [
    "# 12 Looking for help"
   ]
  },
  {
   "cell_type": "markdown",
   "id": "6bfee980",
   "metadata": {},
   "source": [
    "## References"
   ]
  },
  {
   "cell_type": "markdown",
   "id": "fe25ec9e",
   "metadata": {},
   "source": [
    "## Footnotes"
   ]
  }
 ],
 "metadata": {
  "kernelspec": {
   "display_name": "Python 3 (ipykernel)",
   "language": "python",
   "name": "python3"
  },
  "language_info": {
   "codemirror_mode": {
    "name": "ipython",
    "version": 3
   },
   "file_extension": ".py",
   "mimetype": "text/x-python",
   "name": "python",
   "nbconvert_exporter": "python",
   "pygments_lexer": "ipython3",
   "version": "3.11.5"
  },
  "toc": {
   "base_numbering": 1,
   "nav_menu": {},
   "number_sections": true,
   "sideBar": true,
   "skip_h1_title": false,
   "title_cell": "Table of Contents",
   "title_sidebar": "Contents",
   "toc_cell": false,
   "toc_position": {},
   "toc_section_display": true,
   "toc_window_display": false
  },
  "vscode": {
   "interpreter": {
    "hash": "31f2aee4e71d21fbe5cf8b01ff0e069b9275f58929596ceb00d14d90e3e16cd6"
   }
  }
 },
 "nbformat": 4,
 "nbformat_minor": 5
}
