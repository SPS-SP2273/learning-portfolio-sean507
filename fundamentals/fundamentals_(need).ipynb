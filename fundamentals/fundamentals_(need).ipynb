{
 "cells": [
  {
   "cell_type": "markdown",
   "id": "123456",
   "metadata": {},
   "source": [
    "<div style=\"text-align:left;font-size:2em\"><span style=\"font-weight:bolder;font-size:1.25em\">SP2273 | Learning Portfolio</span><br><br><span style=\"font-weight:bold;color:darkred\">Fundamentals (Need)</span></div>"
   ]
  },
  {
   "cell_type": "markdown",
   "id": "51405f53",
   "metadata": {},
   "source": [
    "# What to expect in this chapter"
   ]
  },
  {
   "cell_type": "markdown",
   "id": "3fd70195",
   "metadata": {},
   "source": [
    "# 1 Functions"
   ]
  },
  {
   "cell_type": "code",
   "execution_count": 5,
   "id": "7c29c696",
   "metadata": {},
   "outputs": [
    {
     "name": "stdout",
     "output_type": "stream",
     "text": [
      "Hello world!\n",
      "15\n"
     ]
    }
   ],
   "source": [
    "# A function is ‘something’ that executes a specific task.\n",
    "# We get to define our own function. that's pretty cool!\n",
    "#For examples, print() is a function. It prints whatever's in the brackets out. Its does not have to be a text, but a variable\n",
    "\n",
    "print('Hello world!')\n",
    "\n",
    "a = 5\n",
    "b = 3\n",
    "c = a * b \n",
    "\n",
    "print(c)"
   ]
  },
  {
   "cell_type": "markdown",
   "id": "d777d26d",
   "metadata": {},
   "source": [
    "# 2 Remember"
   ]
  },
  {
   "cell_type": "markdown",
   "id": "11f1c35e",
   "metadata": {},
   "source": [
    "# 3 Python is interpreted"
   ]
  },
  {
   "cell_type": "markdown",
   "id": "729182ff",
   "metadata": {},
   "source": [
    "# 4 Python is sensitive."
   ]
  },
  {
   "cell_type": "code",
   "execution_count": 6,
   "id": "1a45e475",
   "metadata": {},
   "outputs": [],
   "source": [
    "#Python is case-sensitive, so Print() is different from print().\n"
   ]
  },
  {
   "cell_type": "markdown",
   "id": "e80dc537",
   "metadata": {},
   "source": [
    "# 5 Remember"
   ]
  },
  {
   "cell_type": "markdown",
   "id": "079efbee",
   "metadata": {},
   "source": [
    "# 6 Comments"
   ]
  },
  {
   "cell_type": "markdown",
   "id": "1ef0d126",
   "metadata": {},
   "source": [
    "# 7 Remember"
   ]
  },
  {
   "cell_type": "markdown",
   "id": "4e4c31aa",
   "metadata": {},
   "source": [
    "# 8 = is not the same as =="
   ]
  },
  {
   "cell_type": "code",
   "execution_count": 7,
   "id": "97ee018c",
   "metadata": {},
   "outputs": [],
   "source": [
    "# = is not the same as ==.#\n",
    "# = is used to set something equal. E.G name = 'Bro' means you are associating variable name with the value \"Bro\"\n",
    "# is used to check if something is equal == asks a question. E.G name == 'Bro' is used to check if the variable name is equal to 'Bro'"
   ]
  },
  {
   "cell_type": "markdown",
   "id": "07274f4b",
   "metadata": {},
   "source": [
    "# 9 Remember"
   ]
  },
  {
   "cell_type": "markdown",
   "id": "f194786d",
   "metadata": {},
   "source": [
    "# 10 Use if to make decisions"
   ]
  },
  {
   "cell_type": "code",
   "execution_count": 16,
   "id": "80060c9e",
   "metadata": {},
   "outputs": [
    {
     "name": "stdout",
     "output_type": "stream",
     "text": [
      "Who are you?Batman\n",
      "Hello Hero | Batman!\n"
     ]
    }
   ],
   "source": [
    "name = input('Who are you?')\n",
    "\n",
    "if (name == 'Batman'):\n",
    "\n",
    "    print('Hello Hero | Batman!')\n",
    "\n",
    "else: \n",
    "\n",
    "    print('Hello World!')\n"
   ]
  },
  {
   "cell_type": "markdown",
   "id": "4146c5af",
   "metadata": {},
   "source": [
    "# 11 Remember"
   ]
  },
  {
   "cell_type": "markdown",
   "id": "18eb85aa",
   "metadata": {},
   "source": [
    "# 12 Indentations (spaces) are sooo IMPORTANT!"
   ]
  },
  {
   "cell_type": "code",
   "execution_count": null,
   "id": "ec124c78",
   "metadata": {},
   "outputs": [],
   "source": [
    "#Indentations play a crucial role in Python; do not use them indiscriminately. It makes people go insane.\n",
    "#: is used to designate a block of code. Will be more relevant later.\n",
    "#JUST USE TABS AND NOT SPACES"
   ]
  },
  {
   "cell_type": "markdown",
   "id": "734e85bc",
   "metadata": {},
   "source": [
    "# 13 Remember"
   ]
  },
  {
   "cell_type": "markdown",
   "id": "12cf5016",
   "metadata": {},
   "source": [
    "# 14 ‘age’ is English, age is a variable."
   ]
  },
  {
   "cell_type": "code",
   "execution_count": 1,
   "id": "07d98376",
   "metadata": {},
   "outputs": [
    {
     "name": "stdout",
     "output_type": "stream",
     "text": [
      "name\n",
      "Who are you?sean\n",
      "sean\n"
     ]
    }
   ],
   "source": [
    "#name is a variable that can be defined by the coder or the audience if you give it an input\n",
    "#'name' will be a term\n",
    "\n",
    "print(\"name\") #prints name\n",
    "\n",
    "name = input('Who are you?')\n",
    "\n",
    "print(name) #prints whatever input by the audience"
   ]
  },
  {
   "cell_type": "markdown",
   "id": "55ca320c",
   "metadata": {},
   "source": [
    "# 15 Brackets"
   ]
  },
  {
   "cell_type": "code",
   "execution_count": 2,
   "id": "573c4c1e",
   "metadata": {},
   "outputs": [],
   "source": [
    "#Parentheses (): \n",
    "#1. Used for grouping expressions. \n",
    "#2. Used to indicate a function call.[IMPORTANT] \n",
    "#3. Used in mathematical expressions to control the order of operations.\n",
    "\n",
    "#Square Brackets []:\n",
    "#1. Used to define lists in Python.\n",
    "#2. Used for indexing and slicing operations on lists, strings, and other sequence types.\n",
    "#3. Used in list comprehensions.\n",
    "\n",
    "#Curly Braces {}:\n",
    "#Used to define dictionaries (key-value pairs) in Python.\n",
    "#Used in sets, which are unordered collections of unique elements."
   ]
  },
  {
   "cell_type": "code",
   "execution_count": 6,
   "id": "c7a7ee8f",
   "metadata": {},
   "outputs": [
    {
     "name": "stdout",
     "output_type": "stream",
     "text": [
      "50\n",
      "What is your name?tony\n",
      "Fuck you, tony!\n"
     ]
    }
   ],
   "source": [
    "result = (5 + 5) * 5   # Parentheses for grouping\n",
    "print(result)          # Parentheses to indicate function call. Output: 50\n",
    "\n",
    "name = input('What is your name?')\n",
    "greeting = \"Fuck you, \" + (name + \"!\")\n",
    "print(greeting)        "
   ]
  },
  {
   "cell_type": "code",
   "execution_count": 11,
   "id": "21b21c05",
   "metadata": {},
   "outputs": [
    {
     "name": "stdout",
     "output_type": "stream",
     "text": [
      "orange\n",
      "['pear', 'orange']\n",
      "[0, 1, 4, 9, 16, 25]\n"
     ]
    }
   ],
   "source": [
    "my_list = ['apple', 'pear', 'orange', 'pineapple']\n",
    "print(my_list[2])       # define list\n",
    "\n",
    "sliced_list = my_list[1:3] #slicing, first item in list is labelled 0, then 1, then... \n",
    "                           #indicating [1:3] means it will slice the 2nd number to (n-1)th number\n",
    "print(sliced_list)     \n",
    "\n",
    "squares = [i**2 for i in range(6)] # List comprehension\n",
    "print(squares)          # Output: [0, 1, 4, 9, 16]\n"
   ]
  },
  {
   "cell_type": "code",
   "execution_count": 19,
   "id": "3c5266f8",
   "metadata": {},
   "outputs": [
    {
     "name": "stdout",
     "output_type": "stream",
     "text": [
      "What is your name?sean\n",
      "What is your age?22\n",
      "What is your gender?male\n",
      "What do you want to know?name\n",
      "sean\n"
     ]
    }
   ],
   "source": [
    "name = input('What is your name?')\n",
    "age = input('What is your age?')\n",
    "sex = input('What is your gender?')\n",
    "\n",
    "info = {\"name\":name,\"age\":age, \"sex\": sex}\n",
    "\n",
    "extract = input('What do you want to know?')\n",
    "print(info[extract])"
   ]
  },
  {
   "cell_type": "markdown",
   "id": "cec45fa5",
   "metadata": {},
   "source": [
    "# 16 Giving Python superpowers with Packages"
   ]
  },
  {
   "cell_type": "markdown",
   "id": "83c5e7dd",
   "metadata": {},
   "source": [
    "## 16.1 Some Context"
   ]
  },
  {
   "cell_type": "code",
   "execution_count": null,
   "id": "e0834d4c",
   "metadata": {},
   "outputs": [],
   "source": [
    "# If I want to square root a number, the function sqrt() will not be defined in the Basic Python\n",
    "\n",
    "sqrt(4)"
   ]
  },
  {
   "cell_type": "markdown",
   "id": "797600de",
   "metadata": {},
   "source": [
    "## 16.2 Importing the math package"
   ]
  },
  {
   "cell_type": "code",
   "execution_count": 64,
   "id": "4200458e",
   "metadata": {},
   "outputs": [
    {
     "name": "stdout",
     "output_type": "stream",
     "text": [
      "What number do you want to square root? 21\n",
      "4.58257569495584\n"
     ]
    }
   ],
   "source": [
    "import math         # To import 'math' from the python library of well-established package\n",
    "\n",
    "number = float(input('What number do you want to square root? ')) \n",
    "\n",
    "#user input is by default a string. Need to convert to a number by using 'float()'.\n",
    "\n",
    "print(math.sqrt(number))"
   ]
  },
  {
   "cell_type": "markdown",
   "id": "eae5461d",
   "metadata": {},
   "source": [
    "## 16.3 Importing the numpy package"
   ]
  },
  {
   "cell_type": "code",
   "execution_count": 77,
   "id": "9acf67a6",
   "metadata": {},
   "outputs": [
    {
     "name": "stdout",
     "output_type": "stream",
     "text": [
      "Which number do you think can be square-rooted nicely? 12\n",
      "You suck at math bro try again\n",
      "Which number do you think can be square-rooted nicely? 65\n",
      "You suck at math bro try again\n",
      "Which number do you think can be square-rooted nicely? 24\n",
      "You suck at math bro try again\n",
      "Which number do you think can be square-rooted nicely? 64\n",
      "8\n",
      "Finally after 3 tries\n"
     ]
    }
   ],
   "source": [
    "import numpy as np    # Importing Numpy and giving it an alias np \n",
    "\n",
    "count = 0\n",
    "suck = 0\n",
    "\n",
    "while count < 1:\n",
    "    \n",
    "    number = input('Which number do you think can be square-rooted nicely? ')\n",
    "\n",
    "    try:\n",
    "        number = float(number)\n",
    "        root = np.sqrt(number)\n",
    "\n",
    "        if root.is_integer():\n",
    "    \n",
    "            print(int(root))\n",
    "            count += 1\n",
    "\n",
    "            if suck < 1:\n",
    "            \n",
    "                print (\"Good Job\")\n",
    "            \n",
    "            else:\n",
    "            \n",
    "                print (\"Finally after \" + str(suck) + \" tries\")\n",
    "                \n",
    "        else:\n",
    "            print(\"You suck at math bro try again\")\n",
    "            suck += 1\n",
    "\n",
    "    except ValueError:\n",
    "    \n",
    "        print('Wtf I asked for a number right? Dumbass')\n",
    "        suck += 1\n"
   ]
  },
  {
   "cell_type": "markdown",
   "id": "9ecfb38e",
   "metadata": {},
   "source": [
    "## 16.4 Why so many packages?"
   ]
  },
  {
   "cell_type": "markdown",
   "id": "bd100c2c",
   "metadata": {},
   "source": [
    "# 17 Remember"
   ]
  },
  {
   "cell_type": "markdown",
   "id": "f7ad73b5",
   "metadata": {},
   "source": [
    "# 18 The dot (.)"
   ]
  },
  {
   "cell_type": "code",
   "execution_count": 67,
   "id": "237b664b",
   "metadata": {},
   "outputs": [
    {
     "name": "stdout",
     "output_type": "stream",
     "text": [
      "['I', 'am', 'Batman']\n",
      "I AM BATMAN\n",
      "10.0\n",
      "2.0\n"
     ]
    }
   ],
   "source": [
    "#Attribute Access: the dot is used to access attributes and methods of objects in Python.\n",
    "\n",
    "#methods since there's brackets\n",
    "\n",
    "print(\"I am Batman\".split())\n",
    "print(\"I am Batman\".upper())\n",
    "\n",
    "#attributes are properties\n",
    "\n",
    "x = 2j + 10 #complex equations\n",
    "print(x.real)\n",
    "print(x.imag)\n"
   ]
  },
  {
   "cell_type": "code",
   "execution_count": 57,
   "id": "5685b59c",
   "metadata": {},
   "outputs": [
    {
     "data": {
      "text/plain": [
       "2.0"
      ]
     },
     "execution_count": 57,
     "metadata": {},
     "output_type": "execute_result"
    }
   ],
   "source": [
    "#Module Access: the dot is used to access attributes and methods of objects in Python.\n",
    "\n",
    "np.sqrt(4) # the sqrt() function that belongs to NumPy."
   ]
  },
  {
   "cell_type": "markdown",
   "id": "addcb82f",
   "metadata": {},
   "source": [
    "# 19 Remember"
   ]
  },
  {
   "cell_type": "markdown",
   "id": "2f756ad2",
   "metadata": {},
   "source": [
    "## Footnotes"
   ]
  }
 ],
 "metadata": {
  "kernelspec": {
   "display_name": "Python 3 (ipykernel)",
   "language": "python",
   "name": "python3"
  },
  "language_info": {
   "codemirror_mode": {
    "name": "ipython",
    "version": 3
   },
   "file_extension": ".py",
   "mimetype": "text/x-python",
   "name": "python",
   "nbconvert_exporter": "python",
   "pygments_lexer": "ipython3",
   "version": "3.11.5"
  },
  "toc": {
   "base_numbering": 1,
   "nav_menu": {},
   "number_sections": true,
   "sideBar": true,
   "skip_h1_title": false,
   "title_cell": "Table of Contents",
   "title_sidebar": "Contents",
   "toc_cell": false,
   "toc_position": {},
   "toc_section_display": true,
   "toc_window_display": false
  },
  "vscode": {
   "interpreter": {
    "hash": "31f2aee4e71d21fbe5cf8b01ff0e069b9275f58929596ceb00d14d90e3e16cd6"
   }
  }
 },
 "nbformat": 4,
 "nbformat_minor": 5
}
