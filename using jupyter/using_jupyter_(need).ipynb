{
 "cells": [
  {
   "cell_type": "markdown",
   "id": "123456",
   "metadata": {},
   "source": [
    "<div style=\"text-align:left;font-size:2em\"><span style=\"font-weight:bolder;font-size:1.25em\">SP2273 | Learning Portfolio</span><br><br><span style=\"font-weight:bold;color:darkred\">Using Jupyter (Need)</span></div>\n",
    "\n",
    "\n"
   ]
  },
  {
   "cell_type": "code",
   "execution_count": 7,
   "id": "8358ca5d",
   "metadata": {},
   "outputs": [
    {
     "name": "stdout",
     "output_type": "stream",
     "text": [
      "7\n",
      "21\n",
      "Hello World\n"
     ]
    }
   ],
   "source": [
    "# This is code, I look forward to learning more code yay \n",
    "\n",
    "a = 4\n",
    "b = 3\n",
    "c = a + b\n",
    "d = c * b\n",
    "print(c)\n",
    "print(d)\n",
    "print(\"Hello World\")"
   ]
  },
  {
   "cell_type": "markdown",
   "id": "2845de0a",
   "metadata": {},
   "source": [
    "\n",
    "#### To insert a text, just convert code to markdown\n",
    "\n",
    "E.G The ships hung in the sky in much the same way that bricks don’t.\n"
   ]
  },
  {
   "cell_type": "markdown",
   "id": "f5c925cc",
   "metadata": {},
   "source": [
    "#### Some basic syntax\n",
    "\n",
    "- Bolding (**text**)\n",
    "\n",
    "Life is soup, I am **fork**\n",
    "\n",
    "\n",
    "- Italics (*text*)\n",
    "\n",
    "Life is soup, I am *fork*\n",
    "\n",
    "\n",
    "- Bold and Italics (***text***)\n",
    "\n",
    "Life is soup, I am ***fork***\n",
    "\n",
    "\n",
    "- Subscript and Superscript (<sub>text</sub> <sup>text</sup>))\n",
    "\n",
    "Life is soup, I am <sub>fork</sub>\n",
    "\n",
    "Life is soup, I am <sup>fork</sup>\n",
    "\n",
    "- Bring it all together! \n",
    "\n",
    "*Life* **is** ***soup***, I am <sub>fork</sub> <sup>1</sup>\n"
   ]
  },
  {
   "cell_type": "markdown",
   "id": "de31e3f9",
   "metadata": {},
   "source": [
    "#### Headings\n",
    "\n",
    "# ONE HASH\n",
    "\n",
    "## TWO HASH\n",
    "\n",
    "### THREE HASH\n",
    "\n",
    "#### FOUR HASH\n"
   ]
  },
  {
   "cell_type": "markdown",
   "id": "f0333207",
   "metadata": {},
   "source": [
    "#### Displaying code\n",
    "\n",
    "DOES THIS WORK? `print('Hello World')`\n",
    "\n",
    "When in doubt, ```kill('yourself')```"
   ]
  },
  {
   "cell_type": "markdown",
   "id": "309b5b44",
   "metadata": {},
   "source": [
    "#### Links and Images\n",
    "\n",
    "Click on this! [NOT CLICKBAIT](https://youtu.be/dQw4w9WgXcQ?si=gjwoauHGRFczc-EY)\n",
    "\n",
    "![what](https://variety.com/wp-content/uploads/2021/07/Rick-Astley-Never-Gonna-Give-You-Up.png?w=1024)\n"
   ]
  },
  {
   "cell_type": "markdown",
   "id": "80931a62",
   "metadata": {},
   "source": [
    "#### making tables\n",
    "\n",
    "| A    |  B   |    C |  D   |\n",
    "| :--- | :--: | :--: | ---: |     \n",
    "| a1   |  b1  |   c1 |  d1|\n",
    "| a2   |  b2  |   c2 |d2|\n",
    "| a3   |  b3  |   c3 |d3 |"
   ]
  },
  {
   "cell_type": "markdown",
   "id": "60026bba",
   "metadata": {},
   "source": [
    "#### making lists\n",
    "\n",
    "1. Master Yoda\n",
    "   1. Was a Jedi\n",
    "   1. Was a bit green\n",
    "   1. A bit dumb\n",
    "   \n",
    "   \n",
    "1. Luke Skywalker\n",
    "   1. Was a Jedi\n",
    "   1. Is Anakin's son.\n",
    "1. Anakin Skywalker\n",
    "   1. Was a Jedi then became a baddie\n",
    "   1. Is famous for saying _'Luke, I am your father'_\n",
    "   \n",
    " "
   ]
  },
  {
   "cell_type": "markdown",
   "id": "8965ac4d",
   "metadata": {},
   "source": [
    "\n",
    "\n",
    "1. Master Yoda\n",
    "   - Was a Jedi\n",
    "   - Was a bit green\n",
    "1. Luke Skywalker\n",
    "   - Was a Jedi\n",
    "   - Is Anakin's son.\n",
    "1. Anakin Skywalker\n",
    "   - Was a Jedi then, became a baddie. I love **baddies**\n",
    "   - Is famous for saying, *'Luke, I am your father'*.\n",
    "   "
   ]
  },
  {
   "cell_type": "markdown",
   "id": "eb596008",
   "metadata": {},
   "source": [
    "\n",
    "#### This is my attempt at creating some parts of the website page, hope you enjoy!\n",
    "\n",
    "![](http://bollwyvl.github.io/jupyter.github.io/images/jupyter-sq-text.svg)\n",
    "\n",
    "# 1 What to expect in this chapter\n",
    "\n",
    "Jupyter is an interactive environment that allows you to have a (sort of) conversation with Python. I will show you how to get this to work. I will also show you features like Markdown, allowing you to ‘add value’ to your code.\n",
    "\n",
    "Incidentally, Jupyter works so that you can ask it to do something, and it immediately shows you the result. In fact, the older name for Jupyter Notebooks was ‘**I**Python notebooks’, meaning ‘**interactive** Python notebooks’.\n",
    "\n",
    "# 2 Getting ready\n",
    "\n",
    "Use the terminal to navigate to the folder `Using Jupyter` in your Learning Portfolio.\n",
    "\n",
    "Start Jupyter notebooks through the terminal. Please refer to the previous chapter if you have forgotten how to do this.\n",
    "\n",
    "Use the button New to create a new `Python 3 (ipykernel)` notebook.\n",
    "\n",
    "Click the `Untitled` at the top (next to the Jupiter logo) and rename the file to `using-jupyter_need`.\n",
    "\n",
    "\n",
    "## 3.1 It is all about running cells\n",
    "\n",
    "The basic unit of a Jupyter Notebook is a **cell**. A cell can either accept Python code or text in a format called <span style=\"color:orange\">Markdown</span>.\n",
    "\n",
    "A cell ready to accept Python is called a **code cell**, while one ready for Markdown is called a **Markdown cell**. To ‘get things done’, we **Run** a cell by using the Run button or the keyboard shortcut `CTRL + ENTER` (or `CMD + ENTER`).\n",
    "\n",
    "![](https://problemsolvingwithpython.com/02-Jupyter-Notebooks/images/run_cell.png)\n",
    "\n",
    "Running a code cell invokes Python while running a Markdown cell **renders** (i.e., makes it look pretty) your Markdown text. You will see how all this works in a bit, so don’t worry if things sound a tad cryptic at the moment.\n"
   ]
  }
 ],
 "metadata": {
  "kernelspec": {
   "display_name": "Python 3 (ipykernel)",
   "language": "python",
   "name": "python3"
  },
  "language_info": {
   "codemirror_mode": {
    "name": "ipython",
    "version": 3
   },
   "file_extension": ".py",
   "mimetype": "text/x-python",
   "name": "python",
   "nbconvert_exporter": "python",
   "pygments_lexer": "ipython3",
   "version": "3.11.5"
  },
  "toc": {
   "base_numbering": 1,
   "nav_menu": {},
   "number_sections": true,
   "sideBar": true,
   "skip_h1_title": false,
   "title_cell": "Table of Contents",
   "title_sidebar": "Contents",
   "toc_cell": false,
   "toc_position": {},
   "toc_section_display": true,
   "toc_window_display": false
  },
  "vscode": {
   "interpreter": {
    "hash": "31f2aee4e71d21fbe5cf8b01ff0e069b9275f58929596ceb00d14d90e3e16cd6"
   }
  }
 },
 "nbformat": 4,
 "nbformat_minor": 5
}
