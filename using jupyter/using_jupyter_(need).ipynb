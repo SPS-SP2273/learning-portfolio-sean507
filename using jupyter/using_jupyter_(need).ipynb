{
 "cells": [
  {
   "cell_type": "markdown",
   "id": "123456",
   "metadata": {},
   "source": [
    "<div style=\"text-align:left;font-size:2em\"><span style=\"font-weight:bolder;font-size:1.25em\">SP2273 | Learning Portfolio</span><br><br><span style=\"font-weight:bold;color:darkred\">Using Jupyter (Need)</span></div>\n",
    "\n",
    "\n",
    "![](http://bollwyvl.github.io/jupyter.github.io/images/jupyter-sq-text.svg)"
   ]
  },
  {
   "cell_type": "markdown",
   "id": "7b689b31",
   "metadata": {},
   "source": [
    "# 1 What to expect in this chapter\n",
    "\n",
    "Jupyter is an interactive environment that allows you to have a (sort of) conversation with Python. I will show you how to get this to work. I will also show you features like Markdown, allowing you to ‘add value’ to your code.\n",
    "\n",
    "Incidentally, Jupyter works so that you can ask it to do something, and it immediately shows you the result. In fact, the older name for Jupyter Notebooks was ‘**I**Python notebooks’, meaning ‘**interactive** Python notebooks’."
   ]
  },
  {
   "cell_type": "markdown",
   "id": "89053dbc",
   "metadata": {},
   "source": [
    "# 2 Getting ready\n",
    "\n",
    "Use the terminal to navigate to the folder `Using Jupyter` in your Learning Portfolio.\n",
    "\n",
    "Start Jupyter notebooks through the terminal. Please refer to the previous chapter if you have forgotten how to do this.\n",
    "\n",
    "Use the button New to create a new `Python 3 (ipykernel)` notebook.\n",
    "\n",
    "Click the `Untitled` at the top (next to the Jupiter logo) and rename the file to `using-jupyter_need`."
   ]
  },
  {
   "cell_type": "markdown",
   "id": "122f7810",
   "metadata": {},
   "source": [
    "# 2.2 A Traditional Start"
   ]
  },
  {
   "cell_type": "code",
   "execution_count": 2,
   "id": "600be04c",
   "metadata": {},
   "outputs": [
    {
     "name": "stdout",
     "output_type": "stream",
     "text": [
      "7\n",
      "Hello World\n"
     ]
    }
   ],
   "source": [
    "a = 4\n",
    "b = 3\n",
    "c = a + b\n",
    "print(c)\n",
    "\n",
    "# Your code here\n",
    "\n",
    "print(\"Hello World\")"
   ]
  },
  {
   "cell_type": "markdown",
   "id": "5652128c",
   "metadata": {},
   "source": [
    "# 3 Getting started with Jupyter"
   ]
  },
  {
   "cell_type": "markdown",
   "id": "eb596008",
   "metadata": {},
   "source": [
    "## 3.1 It is all about running cells\n",
    "\n",
    "The basic unit of a Jupyter Notebook is a **cell**. A cell can either accept Python code or text in a format called <span style=\"color:orange\">Markdown</span>.\n",
    "\n",
    "A cell ready to accept Python is called a **code cell**, while one ready for Markdown is called a **Markdown cell**. To ‘get things done’, we **Run** a cell by using the Run button or the keyboard shortcut `CTRL + ENTER` (or `CMD + ENTER`).\n",
    "\n",
    "![](https://problemsolvingwithpython.com/02-Jupyter-Notebooks/images/run_cell.png)\n",
    "\n",
    "Running a code cell invokes Python while running a Markdown cell **renders** (i.e., makes it look pretty) your Markdown text. You will see how all this works in a bit, so don’t worry if things sound a tad cryptic at the moment.\n"
   ]
  },
  {
   "cell_type": "markdown",
   "id": "b5d4b555",
   "metadata": {},
   "source": [
    "\n",
    "\n",
    "\n",
    "To insert a text, just convert code to markdown\n",
    "\n",
    "E.G The ships hung in the sky in much the same way that bricks don’t.\n",
    "\n",
    "\n",
    "\n",
    "The ships *hung in the sky* in much the same way that **bricks don’t**<sup>1</sup><sub>QUOTE</sub>.\n",
    "\n",
    "# ONE HASH\n",
    "\n",
    "## TWO HASH\n",
    "\n",
    "### THREE HASH\n",
    "\n",
    "#### FOUR HASH\n",
    "\n",
    "Do i GET THIS? `print('Hello World')`\n",
    "\n",
    "Click on this! [NOT CLICKBAIT](https://youtu.be/dQw4w9WgXcQ?si=gjwoauHGRFczc-EY)\n",
    "\n",
    "eish\n",
    "\n",
    "![what](https://variety.com/wp-content/uploads/2021/07/Rick-Astley-Never-Gonna-Give-You-Up.png?w=1024)\n",
    "\n",
    "\n",
    "| A    |  B   |    C |  D   |\n",
    "| :--- | :--: | :--: | ---: |     \n",
    "| a1   |  b1  |   c1 |\n",
    "| a2   |  b2  |   c2 |\n",
    "| a3   |  b3  |   c3 |\n",
    "\n",
    "\n",
    "1. Master Yoda\n",
    "   1. Was a Jedi\n",
    "   1. Was a bit green\n",
    "1. Luke Skywalker\n",
    "   1. Was a Jedi\n",
    "   1. Is Anakin's son.\n",
    "1. Anakin Skywalker\n",
    "   1. Was a Jedi then became a baddie\n",
    "   1. Is famous for saying _'Luke, I am your father'_\n",
    "   \n",
    "   \n",
    "   \n",
    " \n",
    "\n",
    "1. Master Yoda\n",
    "   - Was a Jedi\n",
    "   - Was a bit green\n",
    "1. Luke Skywalker\n",
    "   - Was a Jedi\n",
    "   - Is Anakin's son.\n",
    "1. Anakin Skywalker\n",
    "   - Was a Jedi then, became a baddie\n",
    "   - Is famous for saying, *'Luke, I am your father'*."
   ]
  },
  {
   "cell_type": "code",
   "execution_count": 1,
   "id": "bf89a607",
   "metadata": {},
   "outputs": [
    {
     "name": "stdout",
     "output_type": "stream",
     "text": [
      "7\n",
      "Hello World\n"
     ]
    }
   ],
   "source": [
    "a = 4\n",
    "b = 3\n",
    "c = a + b\n",
    "print(c)\n",
    "\n",
    "# Your code here\n",
    "\n",
    "print(\"Hello World\")"
   ]
  },
  {
   "cell_type": "markdown",
   "id": "9863f5e8",
   "metadata": {},
   "source": [
    "# 4 All about Markdown"
   ]
  },
  {
   "cell_type": "markdown",
   "id": "37123788",
   "metadata": {},
   "source": [
    "## 4.1 Rendering Markdown cells"
   ]
  },
  {
   "cell_type": "markdown",
   "id": "89dfd115",
   "metadata": {},
   "source": [
    "## 4.2 Some basic syntax"
   ]
  },
  {
   "cell_type": "markdown",
   "id": "29ac9587",
   "metadata": {},
   "source": [
    "## 4.3 Headings"
   ]
  },
  {
   "cell_type": "markdown",
   "id": "0e850e77",
   "metadata": {},
   "source": [
    "## 4.4 Displaying Code"
   ]
  },
  {
   "cell_type": "markdown",
   "id": "95ceb87f",
   "metadata": {},
   "source": [
    "## 4.5 Links"
   ]
  },
  {
   "cell_type": "markdown",
   "id": "fe1a4f00",
   "metadata": {},
   "source": [
    "## 4.6 Images"
   ]
  },
  {
   "cell_type": "markdown",
   "id": "dd762ee0",
   "metadata": {},
   "source": [
    "## 4.7 Tables"
   ]
  },
  {
   "cell_type": "markdown",
   "id": "b1c21437",
   "metadata": {},
   "source": [
    "## 4.8 Lists"
   ]
  },
  {
   "cell_type": "markdown",
   "id": "bc6013e1",
   "metadata": {},
   "source": [
    "## 4.9 Equations"
   ]
  },
  {
   "cell_type": "markdown",
   "id": "7f5016fd",
   "metadata": {},
   "source": [
    "## Footnotes"
   ]
  }
 ],
 "metadata": {
  "kernelspec": {
   "display_name": "Python 3 (ipykernel)",
   "language": "python",
   "name": "python3"
  },
  "language_info": {
   "codemirror_mode": {
    "name": "ipython",
    "version": 3
   },
   "file_extension": ".py",
   "mimetype": "text/x-python",
   "name": "python",
   "nbconvert_exporter": "python",
   "pygments_lexer": "ipython3",
   "version": "3.11.5"
  },
  "toc": {
   "base_numbering": 1,
   "nav_menu": {},
   "number_sections": true,
   "sideBar": true,
   "skip_h1_title": false,
   "title_cell": "Table of Contents",
   "title_sidebar": "Contents",
   "toc_cell": false,
   "toc_position": {},
   "toc_section_display": true,
   "toc_window_display": false
  },
  "vscode": {
   "interpreter": {
    "hash": "31f2aee4e71d21fbe5cf8b01ff0e069b9275f58929596ceb00d14d90e3e16cd6"
   }
  }
 },
 "nbformat": 4,
 "nbformat_minor": 5
}
