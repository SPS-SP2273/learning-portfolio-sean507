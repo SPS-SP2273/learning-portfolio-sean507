{
 "cells": [
  {
   "cell_type": "markdown",
   "id": "123456",
   "metadata": {},
   "source": [
    "<div style=\"text-align:left;font-size:2em\"><span style=\"font-weight:bolder;font-size:1.25em\">SP2273 | Learning Portfolio</span><br><br><span style=\"font-weight:bold;color:darkred\">Functions (Need)</span></div>"
   ]
  },
  {
   "cell_type": "markdown",
   "id": "bcb4ed8a",
   "metadata": {},
   "source": [
    "# What to expect in this chapter"
   ]
  },
  {
   "cell_type": "markdown",
   "id": "7d034ef0",
   "metadata": {},
   "source": [
    "# 1 User-defined functions"
   ]
  },
  {
   "cell_type": "markdown",
   "id": "cb7153ca",
   "metadata": {},
   "source": [
    "## 1.1 Named Functions"
   ]
  },
  {
   "cell_type": "markdown",
   "id": "43af7ead",
   "metadata": {},
   "source": [
    "### Named functions that return"
   ]
  },
  {
   "cell_type": "code",
   "execution_count": 1,
   "id": "661679da",
   "metadata": {},
   "outputs": [],
   "source": [
    "def greeting(name): #defining greeting as a function\n",
    "                    #and name as an arugment\n",
    "    if name == 'Batman':\n",
    "        return 'Hello Batman! So, nice to meet you!'  \n",
    "    else:\n",
    "        return f'Hello {name}!'"
   ]
  },
  {
   "cell_type": "code",
   "execution_count": 2,
   "id": "9e85e28f",
   "metadata": {},
   "outputs": [
    {
     "data": {
      "text/plain": [
       "'Hello Super Man!'"
      ]
     },
     "execution_count": 2,
     "metadata": {},
     "output_type": "execute_result"
    }
   ],
   "source": [
    "greeting(\"Super Man\") "
   ]
  },
  {
   "cell_type": "code",
   "execution_count": 3,
   "id": "9761a35b",
   "metadata": {},
   "outputs": [
    {
     "data": {
      "text/plain": [
       "'Hello Batman! So, nice to meet you!'"
      ]
     },
     "execution_count": 3,
     "metadata": {},
     "output_type": "execute_result"
    }
   ],
   "source": [
    "greeting(\"Batman\") "
   ]
  },
  {
   "cell_type": "code",
   "execution_count": 4,
   "id": "4e2f2e87",
   "metadata": {},
   "outputs": [
    {
     "data": {
      "text/plain": [
       "'Hello Super Man!'"
      ]
     },
     "execution_count": 4,
     "metadata": {},
     "output_type": "execute_result"
    }
   ],
   "source": [
    "greeting(name=\"Super Man\")"
   ]
  },
  {
   "cell_type": "code",
   "execution_count": 8,
   "id": "90990d2a",
   "metadata": {},
   "outputs": [
    {
     "name": "stdout",
     "output_type": "stream",
     "text": [
      "Hello Super Man!\n"
     ]
    }
   ],
   "source": [
    "greet=greeting(name='Super Man')\n",
    "print(greet)"
   ]
  },
  {
   "cell_type": "code",
   "execution_count": 15,
   "id": "f40e861e",
   "metadata": {},
   "outputs": [],
   "source": [
    "import numpy as np\n",
    "\n",
    "def basic_stats(numbers):\n",
    "    np_numbers = np.array(numbers)\n",
    "    my_min = np_numbers.min()\n",
    "    my_max = np_numbers.max()\n",
    "    my_mean = np_numbers.mean()\n",
    "    \n",
    "    return my_min, my_max, my_mean"
   ]
  },
  {
   "cell_type": "code",
   "execution_count": 16,
   "id": "c5fd7a48",
   "metadata": {},
   "outputs": [
    {
     "data": {
      "text/plain": [
       "(12, 4055, 1651.5)"
      ]
     },
     "execution_count": 16,
     "metadata": {},
     "output_type": "execute_result"
    }
   ],
   "source": [
    "basic_stats([1304,1235,4055,12])"
   ]
  },
  {
   "cell_type": "code",
   "execution_count": 17,
   "id": "0dfe416a",
   "metadata": {},
   "outputs": [],
   "source": [
    "list_min, list_max, list_mean = basic_stats([1, 2, 3, 4, 5])"
   ]
  },
  {
   "cell_type": "code",
   "execution_count": 18,
   "id": "dfd687b2",
   "metadata": {},
   "outputs": [
    {
     "data": {
      "text/plain": [
       "1"
      ]
     },
     "execution_count": 18,
     "metadata": {},
     "output_type": "execute_result"
    }
   ],
   "source": [
    "list_min"
   ]
  },
  {
   "cell_type": "markdown",
   "id": "c220a4f9",
   "metadata": {},
   "source": [
    "#### Difference between print and return:\n",
    "\n",
    "1. Print statement:\n",
    "\n",
    " - The print statement is used to display information to the console or terminal.\n",
    " - It does not affect the flow of the program, and the value is simply displayed on the console.\n",
    " - Does not store the output"
   ]
  },
  {
   "cell_type": "code",
   "execution_count": 17,
   "id": "fb3938ad",
   "metadata": {},
   "outputs": [
    {
     "name": "stdout",
     "output_type": "stream",
     "text": [
      "Inside the function\n",
      "The value is: 42\n"
     ]
    }
   ],
   "source": [
    "def print_example(value):\n",
    "    print(\"Inside the function\")\n",
    "    print(\"The value is:\", value)\n",
    "\n",
    "result = print_example(42)"
   ]
  },
  {
   "cell_type": "code",
   "execution_count": 18,
   "id": "0d55fdcd",
   "metadata": {},
   "outputs": [],
   "source": [
    "result #returns nothing"
   ]
  },
  {
   "cell_type": "code",
   "execution_count": 8,
   "id": "f69a3f4f",
   "metadata": {},
   "outputs": [
    {
     "data": {
      "text/plain": [
       "NoneType"
      ]
     },
     "execution_count": 8,
     "metadata": {},
     "output_type": "execute_result"
    }
   ],
   "source": [
    "type(result)"
   ]
  },
  {
   "cell_type": "markdown",
   "id": "d478a8f8",
   "metadata": {},
   "source": [
    "2. Return statement:\n",
    "\n",
    "- The return statement is used to send a value back from the function to the caller.\n",
    "- It is used when you want to compute a value inside a function and pass it to the rest of the program.\n",
    "- The function stops executing as soon as it encounters a return statement, and the value is passed to the caller."
   ]
  },
  {
   "cell_type": "code",
   "execution_count": 20,
   "id": "d8c6f803",
   "metadata": {},
   "outputs": [],
   "source": [
    "def print_example(value):\n",
    "    return f\"Inside the function, the value is: {value}\"\n",
    "\n",
    "result = print_example(42)"
   ]
  },
  {
   "cell_type": "code",
   "execution_count": 21,
   "id": "1dd4b7ae",
   "metadata": {},
   "outputs": [
    {
     "data": {
      "text/plain": [
       "'Inside the function, the value is: 42'"
      ]
     },
     "execution_count": 21,
     "metadata": {},
     "output_type": "execute_result"
    }
   ],
   "source": [
    "result"
   ]
  },
  {
   "cell_type": "code",
   "execution_count": 15,
   "id": "1fce7620",
   "metadata": {},
   "outputs": [
    {
     "data": {
      "text/plain": [
       "str"
      ]
     },
     "execution_count": 15,
     "metadata": {},
     "output_type": "execute_result"
    }
   ],
   "source": [
    "type(result)"
   ]
  },
  {
   "cell_type": "markdown",
   "id": "5aaefb1f",
   "metadata": {},
   "source": [
    "### Named functions that don’t return"
   ]
  },
  {
   "cell_type": "markdown",
   "id": "1c5ac57f",
   "metadata": {},
   "source": [
    "A function does not have to return anything. A good example is print(), which does something but does not return a value. You will often also need functions like these, for instance, to save data to a file. \n",
    "\n",
    "Example:\n",
    "\n",
    "\n",
    "\n"
   ]
  },
  {
   "cell_type": "code",
   "execution_count": 22,
   "id": "319f4008",
   "metadata": {},
   "outputs": [
    {
     "name": "stdout",
     "output_type": "stream",
     "text": [
      "Hello, Alice!\n",
      "Returned value: None\n"
     ]
    }
   ],
   "source": [
    "def print_greeting(name):\n",
    "    print(\"Hello, \" + name + \"!\")\n",
    "\n",
    "result = print_greeting(\"Alice\")\n",
    "print(\"Returned value:\", result)\n"
   ]
  },
  {
   "cell_type": "code",
   "execution_count": 24,
   "id": "c3a26c9c",
   "metadata": {},
   "outputs": [
    {
     "name": "stdout",
     "output_type": "stream",
     "text": [
      "Returned value: Hello, Alice!\n"
     ]
    }
   ],
   "source": [
    "def print_greeting(name):\n",
    "    return f\"Hello, {name}!\"\n",
    "\n",
    "result = print_greeting(\"Alice\")\n",
    "print(\"Returned value:\", result)\n",
    "\n",
    "#again, showing the difference between print and return"
   ]
  },
  {
   "cell_type": "markdown",
   "id": "09d15ea5",
   "metadata": {},
   "source": [
    "## 1.2 Anonymous functions"
   ]
  },
  {
   "cell_type": "markdown",
   "id": "e0f05cfe",
   "metadata": {},
   "source": [
    "A lambda function in Python is a small, anonymous function defined using the lambda keyword. It is also known as an \"anonymous function\" because it doesn't have a name like a regular function defined with the def keyword.\n",
    "\n",
    "The syntax for a lambda function is:\n",
    "\n",
    "\n",
    "**lambda arguments: expression**\n",
    "\n",
    "Examples:\n"
   ]
  },
  {
   "cell_type": "code",
   "execution_count": 26,
   "id": "544caf86",
   "metadata": {},
   "outputs": [
    {
     "name": "stdout",
     "output_type": "stream",
     "text": [
      "8\n"
     ]
    }
   ],
   "source": [
    "add = lambda x, y: x + y\n",
    "result = add(3, 5)\n",
    "print(result)  "
   ]
  },
  {
   "cell_type": "code",
   "execution_count": 19,
   "id": "c70cdaf4",
   "metadata": {},
   "outputs": [],
   "source": [
    "my_short_function = lambda name: f\"Hello {name}!\""
   ]
  },
  {
   "cell_type": "code",
   "execution_count": 20,
   "id": "e0fed477",
   "metadata": {},
   "outputs": [
    {
     "data": {
      "text/plain": [
       "'Hello mario!'"
      ]
     },
     "execution_count": 20,
     "metadata": {},
     "output_type": "execute_result"
    }
   ],
   "source": [
    "my_short_function(name = \"mario\")"
   ]
  },
  {
   "cell_type": "code",
   "execution_count": 21,
   "id": "2f7448fb",
   "metadata": {},
   "outputs": [],
   "source": [
    "numbers=[[9, 0, -10],\n",
    "         [8, 1, -11],\n",
    "         [7, 2, -12],\n",
    "         [6, 3, -13],\n",
    "         [5, 4, -14],\n",
    "         [4, 5, -15],\n",
    "         [3, 6, -16],\n",
    "         [2, 7, -17],\n",
    "         [1, 8, -18],\n",
    "         [0, 9, -19]]"
   ]
  },
  {
   "cell_type": "code",
   "execution_count": 22,
   "id": "baff2cae",
   "metadata": {},
   "outputs": [
    {
     "data": {
      "text/plain": [
       "[[0, 9, -19],\n",
       " [1, 8, -18],\n",
       " [2, 7, -17],\n",
       " [3, 6, -16],\n",
       " [4, 5, -15],\n",
       " [5, 4, -14],\n",
       " [6, 3, -13],\n",
       " [7, 2, -12],\n",
       " [8, 1, -11],\n",
       " [9, 0, -10]]"
      ]
     },
     "execution_count": 22,
     "metadata": {},
     "output_type": "execute_result"
    }
   ],
   "source": [
    "sorted(numbers) #compares the first element in each nested list\n",
    "                #and sorts from smallest to largest"
   ]
  },
  {
   "cell_type": "code",
   "execution_count": 24,
   "id": "e180245c",
   "metadata": {},
   "outputs": [
    {
     "data": {
      "text/plain": [
       "[[9, 0, -10],\n",
       " [8, 1, -11],\n",
       " [7, 2, -12],\n",
       " [6, 3, -13],\n",
       " [5, 4, -14],\n",
       " [4, 5, -15],\n",
       " [3, 6, -16],\n",
       " [2, 7, -17],\n",
       " [1, 8, -18],\n",
       " [0, 9, -19]]"
      ]
     },
     "execution_count": 24,
     "metadata": {},
     "output_type": "execute_result"
    }
   ],
   "source": [
    "sorted(numbers, key=lambda x: x[1]) \n",
    "\n",
    "#[1] means 2nd element of each nested list. \n",
    "#sorts 2nd element from smallest to largest"
   ]
  },
  {
   "cell_type": "code",
   "execution_count": 26,
   "id": "071a7583",
   "metadata": {},
   "outputs": [
    {
     "data": {
      "text/plain": [
       "[[0, 9, -19],\n",
       " [1, 8, -18],\n",
       " [2, 7, -17],\n",
       " [3, 6, -16],\n",
       " [4, 5, -15],\n",
       " [5, 4, -14],\n",
       " [6, 3, -13],\n",
       " [7, 2, -12],\n",
       " [8, 1, -11],\n",
       " [9, 0, -10]]"
      ]
     },
     "execution_count": 26,
     "metadata": {},
     "output_type": "execute_result"
    }
   ],
   "source": [
    "sorted(numbers, key=lambda x: sum(x)) \n",
    "\n",
    "#sum the elements in each nested list \n",
    "#sorts lists from smallest to largest sum"
   ]
  },
  {
   "cell_type": "markdown",
   "id": "636e8317",
   "metadata": {},
   "source": [
    "## 1.3 Optional arguments"
   ]
  },
  {
   "cell_type": "markdown",
   "id": "f507ed28",
   "metadata": {},
   "source": [
    "In Python, you can define optional arguments in a function by providing default values for those arguments. When you call the function, you can choose to omit values for optional parameters, and the default values will be used. \n",
    "\n",
    "Examples:\n",
    "\n"
   ]
  },
  {
   "cell_type": "code",
   "execution_count": 29,
   "id": "d1979f89",
   "metadata": {},
   "outputs": [],
   "source": [
    "def greeting(name='dickhead'): #default value if no arugment written\n",
    "    if name == 'Batman':\n",
    "        return 'Hello Batman! So, nice to meet you!'\n",
    "    else:\n",
    "        return f'Hello {name}!'\n",
    "    "
   ]
  },
  {
   "cell_type": "code",
   "execution_count": 31,
   "id": "b05e6be7",
   "metadata": {},
   "outputs": [
    {
     "data": {
      "text/plain": [
       "'Hello Batman! So, nice to meet you!'"
      ]
     },
     "execution_count": 31,
     "metadata": {},
     "output_type": "execute_result"
    }
   ],
   "source": [
    "greeting('Batman')"
   ]
  },
  {
   "cell_type": "code",
   "execution_count": 32,
   "id": "74344b6c",
   "metadata": {},
   "outputs": [
    {
     "data": {
      "text/plain": [
       "'Hello wario!'"
      ]
     },
     "execution_count": 32,
     "metadata": {},
     "output_type": "execute_result"
    }
   ],
   "source": [
    "greeting('wario')"
   ]
  },
  {
   "cell_type": "code",
   "execution_count": 30,
   "id": "5e725ced",
   "metadata": {},
   "outputs": [
    {
     "data": {
      "text/plain": [
       "'Hello dickhead!'"
      ]
     },
     "execution_count": 30,
     "metadata": {},
     "output_type": "execute_result"
    }
   ],
   "source": [
    "greeting()"
   ]
  },
  {
   "cell_type": "code",
   "execution_count": 40,
   "id": "b4aa2c89",
   "metadata": {},
   "outputs": [
    {
     "name": "stdout",
     "output_type": "stream",
     "text": [
      "Hello, Alice!\n",
      "Hi, Bob!\n",
      "Hello, Cow!\n"
     ]
    }
   ],
   "source": [
    "def greet(name=\"Cow\", greeting=\"Hello\"):\n",
    "    print(f\"{greeting}, {name}!\")\n",
    "\n",
    "# Calling the function without specifying the optional argument greeting\n",
    "greet(\"Alice\") \n",
    "\n",
    "# Calling the function with a custom greeting\n",
    "greet(\"Bob\", \"Hi\")  \n",
    "\n",
    "# Calling the function with no custom greeting\n",
    "greet() "
   ]
  },
  {
   "cell_type": "markdown",
   "id": "242b0236",
   "metadata": {},
   "source": [
    "## 1.4 The importance of functions?"
   ]
  },
  {
   "cell_type": "markdown",
   "id": "7ff47abb",
   "metadata": {},
   "source": [
    "### An argument for functions"
   ]
  },
  {
   "cell_type": "markdown",
   "id": "6fcd89eb",
   "metadata": {},
   "source": [
    "First, it makes thinking about complex problems easier by **breaking them into smaller, more manageable parts**. This process is called **abstraction**, where you focus on the big picture without getting bogged down by unnecessary details.\n",
    "\n",
    "Think of it like driving a car. You don't need to understand every detail of the engine; you just know how to use it. Similarly, functions allow you to use code without worrying about all the inner workings.\n",
    "\n",
    "Secondly, functions help make your code more efficient. When you group a set of instructions into a function, you can **easily reuse that code** instead of copying it to different places. This makes your code shorter and easier to handle.\n",
    "\n",
    "Additionally, **maintaining and updating your code becomes simpler with functions**. You only need to make changes in one place — the function definition — rather than searching through the entire code. In essence, functions make coding more straightforward, like using different features in a car without understanding the engine's intricacies."
   ]
  },
  {
   "cell_type": "markdown",
   "id": "d580535b",
   "metadata": {},
   "source": [
    "### A word of caution"
   ]
  },
  {
   "cell_type": "code",
   "execution_count": null,
   "id": "bef0e638",
   "metadata": {},
   "outputs": [],
   "source": [
    "\n",
    "# Your code here\n"
   ]
  }
 ],
 "metadata": {
  "kernelspec": {
   "display_name": "Python 3 (ipykernel)",
   "language": "python",
   "name": "python3"
  },
  "language_info": {
   "codemirror_mode": {
    "name": "ipython",
    "version": 3
   },
   "file_extension": ".py",
   "mimetype": "text/x-python",
   "name": "python",
   "nbconvert_exporter": "python",
   "pygments_lexer": "ipython3",
   "version": "3.11.5"
  },
  "toc": {
   "base_numbering": 1,
   "nav_menu": {},
   "number_sections": true,
   "sideBar": true,
   "skip_h1_title": false,
   "title_cell": "Table of Contents",
   "title_sidebar": "Contents",
   "toc_cell": false,
   "toc_position": {},
   "toc_section_display": true,
   "toc_window_display": false
  },
  "vscode": {
   "interpreter": {
    "hash": "31f2aee4e71d21fbe5cf8b01ff0e069b9275f58929596ceb00d14d90e3e16cd6"
   }
  }
 },
 "nbformat": 4,
 "nbformat_minor": 5
}
