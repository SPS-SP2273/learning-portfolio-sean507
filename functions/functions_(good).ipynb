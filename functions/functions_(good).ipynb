{
 "cells": [
  {
   "cell_type": "markdown",
   "id": "123456",
   "metadata": {},
   "source": [
    "<div style=\"text-align:left;font-size:2em\"><span style=\"font-weight:bolder;font-size:1.25em\">SP2273 | Learning Portfolio</span><br><br><span style=\"font-weight:bold;color:darkred\">Functions (Good)</span></div>"
   ]
  },
  {
   "cell_type": "markdown",
   "id": "6436a2e9",
   "metadata": {},
   "source": [
    "# What to expect in this chapter"
   ]
  },
  {
   "cell_type": "markdown",
   "id": "545f90c8",
   "metadata": {},
   "source": [
    "# 1 Checks, balances, and contingencies"
   ]
  },
  {
   "cell_type": "markdown",
   "id": "f121da51",
   "metadata": {},
   "source": [
    "## 1.1 assert"
   ]
  },
  {
   "cell_type": "markdown",
   "id": "dbafa311",
   "metadata": {},
   "source": [
    "Python has a command called *assert* that can check a condition and halt execution if necessary. It also gives the option of printing a message.\n",
    "\n",
    "The basic syntax is as follows:\n",
    "\n",
    "**assert condition-to-check, message**\n",
    "\n",
    "assert stops the flow if the condition fails. Here is an example.\n",
    "\n"
   ]
  },
  {
   "cell_type": "code",
   "execution_count": 5,
   "id": "a0735e50",
   "metadata": {},
   "outputs": [],
   "source": [
    "x = 1 #The following will run without a problem.\n",
    "assert x >= 0, \"x is becoming negative!\""
   ]
  },
  {
   "cell_type": "code",
   "execution_count": 8,
   "id": "05d3ab43",
   "metadata": {},
   "outputs": [
    {
     "ename": "AssertionError",
     "evalue": "y is becoming negative!",
     "output_type": "error",
     "traceback": [
      "\u001b[0;31m---------------------------------------------------------------------------\u001b[0m",
      "\u001b[0;31mAssertionError\u001b[0m                            Traceback (most recent call last)",
      "Cell \u001b[0;32mIn[8], line 2\u001b[0m\n\u001b[1;32m      1\u001b[0m y \u001b[38;5;241m=\u001b[39m \u001b[38;5;241m-\u001b[39m\u001b[38;5;241m1\u001b[39m \u001b[38;5;66;03m#The following will run without a problem.\u001b[39;00m\n\u001b[0;32m----> 2\u001b[0m \u001b[38;5;28;01massert\u001b[39;00m y \u001b[38;5;241m>\u001b[39m\u001b[38;5;241m=\u001b[39m \u001b[38;5;241m0\u001b[39m, \u001b[38;5;124m\"\u001b[39m\u001b[38;5;124my is becoming negative!\u001b[39m\u001b[38;5;124m\"\u001b[39m\n",
      "\u001b[0;31mAssertionError\u001b[0m: y is becoming negative!"
     ]
    }
   ],
   "source": [
    "y = -1 #The following will run without a problem.\n",
    "assert y >= 0, \"y is becoming negative!\"\n",
    "\n",
    "#If it fails, then an AssertationError is raised, and the program stops running!"
   ]
  },
  {
   "cell_type": "markdown",
   "id": "c9f1ae01",
   "metadata": {},
   "source": [
    "## 1.2 try-except"
   ]
  },
  {
   "cell_type": "code",
   "execution_count": 1,
   "id": "a34e2b0d",
   "metadata": {},
   "outputs": [
    {
     "name": "stdout",
     "output_type": "stream",
     "text": [
      "Give me a number and I will calculate its square.12\n",
      "The square of 12 is 144!\n"
     ]
    }
   ],
   "source": [
    "#what if the user inputs a string instead of number?\n",
    "\n",
    "number=input(\"Give me a number and I will calculate its square.\")\n",
    "square=int(number)**2              # Convert English to number\n",
    "print(f'The square of {number} is {square}!')"
   ]
  },
  {
   "cell_type": "code",
   "execution_count": 6,
   "id": "2d1ebae4",
   "metadata": {},
   "outputs": [
    {
     "name": "stdout",
     "output_type": "stream",
     "text": [
      "Give me a number and I will calculate its square.err\n",
      "Oh oh! I cannot square err!\n",
      "Give me a number and I will calculate its square.iik\n",
      "Oh oh! I cannot square iik!\n",
      "Give me a number and I will calculate its square.145\n",
      "The square of 145 is 21025!\n"
     ]
    }
   ],
   "source": [
    "#simple solution: try-except\n",
    "\n",
    "while True: \n",
    "    \n",
    "    try:\n",
    "        number=input(\"Give me a number and I will calculate its square.\")\n",
    "        square=int(number)**2\n",
    "        print(f'The square of {number} is {square}!')\n",
    "        break \n",
    "        \n",
    "    except:\n",
    "        print(f\"Oh oh! I cannot square {number}!\")"
   ]
  },
  {
   "cell_type": "markdown",
   "id": "010ff551",
   "metadata": {},
   "source": [
    "## 1.3 A simple suggestion"
   ]
  },
  {
   "cell_type": "code",
   "execution_count": 8,
   "id": "70f3a6a3",
   "metadata": {},
   "outputs": [
    {
     "name": "stdout",
     "output_type": "stream",
     "text": [
      "i am adding 0 to your list\n",
      "i am adding 1000 to your list\n",
      "i am adding 2000 to your list\n",
      "i am adding 3000 to your list\n",
      "i am adding 4000 to your list\n",
      "i am adding 5000 to your list\n",
      "i am adding 6000 to your list\n",
      "i am adding 7000 to your list\n",
      "i am adding 8000 to your list\n",
      "i am adding 9000 to your list\n"
     ]
    }
   ],
   "source": [
    "numbers = []\n",
    "\n",
    "for i in range(10000):\n",
    "    if i%1000 == 0:\n",
    "        print(f'i am adding {i} to your list')\n",
    "    numbers.append(i)\n"
   ]
  },
  {
   "cell_type": "markdown",
   "id": "ba458ab4",
   "metadata": {},
   "source": [
    "# 2 Some loose ends"
   ]
  },
  {
   "cell_type": "markdown",
   "id": "1863dcea",
   "metadata": {},
   "source": [
    "## 2.1 Positional, keyword and default arguments"
   ]
  },
  {
   "cell_type": "code",
   "execution_count": 2,
   "id": "30ba53e8",
   "metadata": {},
   "outputs": [],
   "source": [
    "def side_by_side(a, b, c=42): #c is an optional argument\n",
    "    return f'{a: 2d}|{b: 2d}|{c: 2d}' #2d is space x2?"
   ]
  },
  {
   "cell_type": "code",
   "execution_count": 3,
   "id": "d5abaf17",
   "metadata": {},
   "outputs": [
    {
     "data": {
      "text/plain": [
       "' 1| 2| 3'"
      ]
     },
     "execution_count": 3,
     "metadata": {},
     "output_type": "execute_result"
    }
   ],
   "source": [
    "side_by_side(1, 2, 3)\n",
    "\n",
    "#telling Python to assign 1, 2, 3 to a, b, c using the positional order of the arguments."
   ]
  },
  {
   "cell_type": "code",
   "execution_count": 4,
   "id": "90814a5e",
   "metadata": {},
   "outputs": [
    {
     "data": {
      "text/plain": [
       "' 2| 1| 3'"
      ]
     },
     "execution_count": 4,
     "metadata": {},
     "output_type": "execute_result"
    }
   ],
   "source": [
    "side_by_side(c=3, b=1, a=2)\n",
    "\n",
    "#value of c is reassigned to 3\n",
    "#Explicitly specify the keyword to assign the values to each of a, b, c. \n",
    "#the order does not matter"
   ]
  },
  {
   "cell_type": "code",
   "execution_count": 5,
   "id": "ae130935",
   "metadata": {},
   "outputs": [
    {
     "data": {
      "text/plain": [
       "' 1| 2| 42'"
      ]
     },
     "execution_count": 5,
     "metadata": {},
     "output_type": "execute_result"
    }
   ],
   "source": [
    "side_by_side(1, b=2) #c is an optional argument"
   ]
  },
  {
   "cell_type": "code",
   "execution_count": 9,
   "id": "316140a2",
   "metadata": {},
   "outputs": [
    {
     "ename": "TypeError",
     "evalue": "side_by_side() missing 1 required positional argument: 'b'",
     "output_type": "error",
     "traceback": [
      "\u001b[0;31m---------------------------------------------------------------------------\u001b[0m",
      "\u001b[0;31mTypeError\u001b[0m                                 Traceback (most recent call last)",
      "Cell \u001b[0;32mIn[9], line 1\u001b[0m\n\u001b[0;32m----> 1\u001b[0m side_by_side(\u001b[38;5;241m1\u001b[39m,)\n",
      "\u001b[0;31mTypeError\u001b[0m: side_by_side() missing 1 required positional argument: 'b'"
     ]
    }
   ],
   "source": [
    "side_by_side(1,) #b is necessary argument"
   ]
  },
  {
   "cell_type": "markdown",
   "id": "72654d9a",
   "metadata": {},
   "source": [
    "## 2.2 Docstrings"
   ]
  },
  {
   "cell_type": "markdown",
   "id": "7c73b548",
   "metadata": {},
   "source": [
    "Python has a docstring feature that allows us to document what a function does inside the function. This documentation (i.e., the docstring) is displayed when we ask Python to show us the help info using help().\n",
    "\n"
   ]
  },
  {
   "cell_type": "code",
   "execution_count": 23,
   "id": "50e694ff",
   "metadata": {},
   "outputs": [],
   "source": [
    "def side_by_side(a, b, c=42):\n",
    "    \n",
    "    '''\n",
    "    A test function to demonstrate how \n",
    "    positional, keyword and default arguments \n",
    "    work.    #essentially # but if you want to write multiline comments\n",
    "    '''\n",
    "    return f'{a: 2d}|{b: 2d}|{c: 2d}'"
   ]
  },
  {
   "cell_type": "code",
   "execution_count": 24,
   "id": "4ffc8a49",
   "metadata": {},
   "outputs": [
    {
     "name": "stdout",
     "output_type": "stream",
     "text": [
      "Help on function side_by_side in module __main__:\n",
      "\n",
      "side_by_side(a, b, c=42)\n",
      "    A test function to demonstrate how \n",
      "    positional, keyword and default arguments \n",
      "    work.    #essentially # but if you want to write multiline comments\n",
      "\n"
     ]
    }
   ],
   "source": [
    "help(side_by_side)"
   ]
  },
  {
   "cell_type": "markdown",
   "id": "f4a0edd5",
   "metadata": {},
   "source": [
    "## 2.3 Function are first-class citizens"
   ]
  },
  {
   "cell_type": "code",
   "execution_count": 18,
   "id": "9d58018b",
   "metadata": {},
   "outputs": [
    {
     "data": {
      "text/plain": [
       "1.0"
      ]
     },
     "execution_count": 18,
     "metadata": {},
     "output_type": "execute_result"
    }
   ],
   "source": [
    "import numpy as np\n",
    "\n",
    "def my_function(angle, trig_function):\n",
    "        return trig_function(angle) \n",
    "\n",
    "# Let's use the function\n",
    "my_function(np.pi/2, np.sin) # sin(pi/2); a function can be pass as an argument  \n",
    "## 1.0"
   ]
  },
  {
   "cell_type": "code",
   "execution_count": 20,
   "id": "3336e725",
   "metadata": {},
   "outputs": [
    {
     "data": {
      "text/plain": [
       "6.123233995736766e-17"
      ]
     },
     "execution_count": 20,
     "metadata": {},
     "output_type": "execute_result"
    }
   ],
   "source": [
    "my_function(np.pi/2, np.cos)        \n",
    "## 6.123233995736766e-17"
   ]
  },
  {
   "cell_type": "code",
   "execution_count": 21,
   "id": "3e196e6c",
   "metadata": {},
   "outputs": [
    {
     "data": {
      "text/plain": [
       "-1.0"
      ]
     },
     "execution_count": 21,
     "metadata": {},
     "output_type": "execute_result"
    }
   ],
   "source": [
    "my_function(np.pi/2, lambda x: np.cos(2*x))  \n",
    "## -1.0"
   ]
  },
  {
   "cell_type": "code",
   "execution_count": 22,
   "id": "fd48fa1d",
   "metadata": {},
   "outputs": [
    {
     "data": {
      "text/plain": [
       "1.0"
      ]
     },
     "execution_count": 22,
     "metadata": {},
     "output_type": "execute_result"
    }
   ],
   "source": [
    "import numpy as np\n",
    "\n",
    "def my_function(a, b): #does not matter how I name my arugments\n",
    "        return b(a)\n",
    "\n",
    "# Let's use the function\n",
    "my_function(np.pi/2, np.sin)        \n",
    "## 1.0"
   ]
  },
  {
   "cell_type": "markdown",
   "id": "106b1929",
   "metadata": {},
   "source": [
    "## 2.4 More about unpacking"
   ]
  },
  {
   "cell_type": "code",
   "execution_count": 25,
   "id": "510aa3ad",
   "metadata": {},
   "outputs": [
    {
     "data": {
      "text/plain": [
       "(1, [2, 3, 4], 5)"
      ]
     },
     "execution_count": 25,
     "metadata": {},
     "output_type": "execute_result"
    }
   ],
   "source": [
    "x, *y, z = np.array([1, 2, 3, 4, 5])\n",
    "x, y, z"
   ]
  },
  {
   "cell_type": "code",
   "execution_count": 27,
   "id": "ada4c9e6",
   "metadata": {},
   "outputs": [
    {
     "data": {
      "text/plain": [
       "(1, 2, [3, 4], 5)"
      ]
     },
     "execution_count": 27,
     "metadata": {},
     "output_type": "execute_result"
    }
   ],
   "source": [
    "w, x, *y, z = np.array([1, 2, 3, 4, 5])\n",
    "w, x, y, z"
   ]
  },
  {
   "cell_type": "code",
   "execution_count": 28,
   "id": "d0b08d19",
   "metadata": {},
   "outputs": [
    {
     "data": {
      "text/plain": [
       "(1, 2, 3, [4], 5)"
      ]
     },
     "execution_count": 28,
     "metadata": {},
     "output_type": "execute_result"
    }
   ],
   "source": [
    "v, w, x, *y, z = np.array([1, 2, 3, 4, 5])\n",
    "v, w, x, y, z"
   ]
  },
  {
   "cell_type": "code",
   "execution_count": 26,
   "id": "562f11a2",
   "metadata": {},
   "outputs": [
    {
     "data": {
      "text/plain": [
       "(1, 5)"
      ]
     },
     "execution_count": 26,
     "metadata": {},
     "output_type": "execute_result"
    }
   ],
   "source": [
    "x, *_, y = [1, 2, 3, 4, 5]\n",
    "x, y"
   ]
  },
  {
   "cell_type": "code",
   "execution_count": null,
   "id": "4b703ce7",
   "metadata": {},
   "outputs": [],
   "source": []
  }
 ],
 "metadata": {
  "kernelspec": {
   "display_name": "Python 3 (ipykernel)",
   "language": "python",
   "name": "python3"
  },
  "language_info": {
   "codemirror_mode": {
    "name": "ipython",
    "version": 3
   },
   "file_extension": ".py",
   "mimetype": "text/x-python",
   "name": "python",
   "nbconvert_exporter": "python",
   "pygments_lexer": "ipython3",
   "version": "3.11.5"
  },
  "toc": {
   "base_numbering": 1,
   "nav_menu": {},
   "number_sections": true,
   "sideBar": true,
   "skip_h1_title": false,
   "title_cell": "Table of Contents",
   "title_sidebar": "Contents",
   "toc_cell": false,
   "toc_position": {},
   "toc_section_display": true,
   "toc_window_display": false
  },
  "vscode": {
   "interpreter": {
    "hash": "31f2aee4e71d21fbe5cf8b01ff0e069b9275f58929596ceb00d14d90e3e16cd6"
   }
  }
 },
 "nbformat": 4,
 "nbformat_minor": 5
}
