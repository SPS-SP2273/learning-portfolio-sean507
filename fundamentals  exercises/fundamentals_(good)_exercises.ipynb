{
 "cells": [
  {
   "cell_type": "markdown",
   "id": "123456",
   "metadata": {},
   "source": [
    "<div style=\"text-align:left;font-size:2em\"><span style=\"font-weight:bolder;font-size:1.25em\">SP2273 | Learning Portfolio</span><br><br><span style=\"font-weight:bold;color:darkred\">Fundamentals (Good) Exercises</span></div>"
   ]
  },
  {
   "cell_type": "code",
   "execution_count": 2,
   "id": "74a560da",
   "metadata": {},
   "outputs": [
    {
     "name": "stdout",
     "output_type": "stream",
     "text": [
      "Give me a number?12\n",
      "You entered 12\n"
     ]
    }
   ],
   "source": [
    "user_input = input('Give me a number?')\n",
    "print(f'You entered {user_input}')"
   ]
  },
  {
   "cell_type": "code",
   "execution_count": 12,
   "id": "e5431f7b",
   "metadata": {},
   "outputs": [
    {
     "name": "stdout",
     "output_type": "stream",
     "text": [
      "Enter the student's score:999\n",
      "Input is invalid. Try Again\n",
      "Enter the student's score:234\n",
      "Input is invalid. Try Again\n",
      "Enter the student's score:29102\n",
      "Input is invalid. Try Again\n",
      "Enter the student's score:12\n",
      "The student failed boohoo\n"
     ]
    }
   ],
   "source": [
    "count = 0\n",
    "\n",
    "while count < 1:\n",
    "    \n",
    "    grade = (input('Enter the student\\'s score:'))\n",
    "    \n",
    "    try:\n",
    "        grade = float(grade) #check if input is a float, or can be converted into a float\n",
    "        \n",
    "        if (grade > 100  or grade < 0):\n",
    "            \n",
    "            print('Input is invalid. Try Again') #check if input is a valid number, if not while loop stays true and repeats prompt to input to user\n",
    "\n",
    "        elif (grade >= 70  and grade <= 100):\n",
    "\n",
    "            print('The student\\'s letter grade is: A')\n",
    "            count += 1\n",
    "\n",
    "        elif (grade >= 50  and grade <= 69):\n",
    "\n",
    "            print('The student\\'s letter grade is: B')\n",
    "            count += 1\n",
    "\n",
    "        elif (grade >= 35  and grade <= 49):\n",
    "            print('The student\\'s letter grade is: C')\n",
    "            count += 1\n",
    "\n",
    "        else:\n",
    "            print('The student failed boohoo')\n",
    "            count += 1\n",
    "\n",
    "    except ValueError:  #if user inputs a string, value error occurs\n",
    "                        #while loop stays true and repeats prompt to input to user\n",
    "        \n",
    "        print('Input is not a number. Try Again')"
   ]
  },
  {
   "cell_type": "code",
   "execution_count": 16,
   "id": "d173e51a",
   "metadata": {},
   "outputs": [
    {
     "name": "stdout",
     "output_type": "stream",
     "text": [
      "Enter number of scores to check:2\n",
      "Enter the student's score:13\n",
      "The student failed boohoo.1 more papers to go!\n",
      "Enter the student's score:20\n",
      "The student failed boohoo.0 more papers to go!\n",
      "You are done!\n"
     ]
    }
   ],
   "source": [
    "#including more functions for teachers to check scores haha\n",
    "\n",
    "count = int(input('Enter number of scores to check:'))\n",
    "\n",
    "while count > 0:\n",
    "    \n",
    "    grade = (input('Enter the student\\'s score:'))\n",
    "    \n",
    "    try:\n",
    "        grade = float(grade) #\n",
    "        \n",
    "        if (grade > 100  or grade < 0):\n",
    "            \n",
    "            print('Input is invalid. Try Again') \n",
    "\n",
    "        elif (grade >= 70  and grade <= 100):\n",
    "            \n",
    "            count -= 1\n",
    "            print(f'The student\\'s letter grade is: A. {count} more papers to go!')\n",
    "\n",
    "        elif (grade >= 50  and grade <= 69):\n",
    "            \n",
    "            count -= 1\n",
    "            print(f'The student\\'s letter grade is: B. {count} more papers to go!')\n",
    "\n",
    "        elif (grade >= 35  and grade <= 49):\n",
    "            \n",
    "            count -= 1\n",
    "            print(f'The student\\'s letter grade is: C. {count} more papers to go!')\n",
    "\n",
    "        else:\n",
    "            \n",
    "            count -= 1\n",
    "            print(f'The student failed boohoo.{count} more papers to go!')\n",
    "\n",
    "    except ValueError:  \n",
    "        \n",
    "        print('Input is not a number. Try Again')\n",
    "\n",
    "print(\"You are done!\")"
   ]
  }
 ],
 "metadata": {
  "kernelspec": {
   "display_name": "Python 3 (ipykernel)",
   "language": "python",
   "name": "python3"
  },
  "language_info": {
   "codemirror_mode": {
    "name": "ipython",
    "version": 3
   },
   "file_extension": ".py",
   "mimetype": "text/x-python",
   "name": "python",
   "nbconvert_exporter": "python",
   "pygments_lexer": "ipython3",
   "version": "3.11.5"
  },
  "toc": {
   "base_numbering": 1,
   "nav_menu": {},
   "number_sections": true,
   "sideBar": true,
   "skip_h1_title": false,
   "title_cell": "Table of Contents",
   "title_sidebar": "Contents",
   "toc_cell": false,
   "toc_position": {},
   "toc_section_display": true,
   "toc_window_display": false
  },
  "vscode": {
   "interpreter": {
    "hash": "31f2aee4e71d21fbe5cf8b01ff0e069b9275f58929596ceb00d14d90e3e16cd6"
   }
  }
 },
 "nbformat": 4,
 "nbformat_minor": 5
}
