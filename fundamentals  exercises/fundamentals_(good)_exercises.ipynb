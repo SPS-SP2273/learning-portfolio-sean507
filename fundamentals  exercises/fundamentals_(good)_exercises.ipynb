{
 "cells": [
  {
   "cell_type": "markdown",
   "id": "123456",
   "metadata": {},
   "source": [
    "<div style=\"text-align:left;font-size:2em\"><span style=\"font-weight:bolder;font-size:1.25em\">SP2273 | Learning Portfolio</span><br><br><span style=\"font-weight:bold;color:darkred\">Fundamentals (Good) Exercises</span></div>"
   ]
  },
  {
   "cell_type": "code",
   "execution_count": 2,
   "id": "74a560da",
   "metadata": {},
   "outputs": [
    {
     "name": "stdout",
     "output_type": "stream",
     "text": [
      "Give me a number?12\n",
      "You entered 12\n"
     ]
    }
   ],
   "source": [
    "user_input = input('Give me a number?')\n",
    "print(f'You entered {user_input}')"
   ]
  },
  {
   "cell_type": "code",
   "execution_count": 4,
   "id": "e5431f7b",
   "metadata": {},
   "outputs": [
    {
     "name": "stdout",
     "output_type": "stream",
     "text": [
      "Enter the student's score:69.3\n",
      "The student's letter grade is: B\n"
     ]
    }
   ],
   "source": [
    "count = 0\n",
    "\n",
    "while count < 1:\n",
    "    \n",
    "    grade = (input('Enter the student\\'s score:'))\n",
    "    \n",
    "    try:\n",
    "        grade = float(grade) #check if input is a float, or can be converted into a float\n",
    "        \n",
    "        if (grade > 100  or grade < 0):\n",
    "            \n",
    "            print('Input is invalid. Try Again') #check if input is a valid number, if not while loop stays true and repeats prompt to input to user\n",
    "\n",
    "        elif (grade >= 70  and grade <= 100):\n",
    "\n",
    "            print('The student\\'s letter grade is: A')\n",
    "            count += 1\n",
    "\n",
    "        elif (grade >= 50  and grade < 70):\n",
    "\n",
    "            print('The student\\'s letter grade is: B')\n",
    "            count += 1\n",
    "\n",
    "        elif (grade >= 35  and grade < 50):\n",
    "            print('The student\\'s letter grade is: C')\n",
    "            count += 1\n",
    "\n",
    "        else:\n",
    "            print('The student failed boohoo')\n",
    "            count += 1\n",
    "\n",
    "    except ValueError:  #if user inputs a string, value error occurs\n",
    "                        #while loop stays true and repeats prompt to input to user\n",
    "        \n",
    "        print('Input is not a number. Try Again')"
   ]
  },
  {
   "cell_type": "code",
   "execution_count": 7,
   "id": "d173e51a",
   "metadata": {},
   "outputs": [
    {
     "ename": "KeyboardInterrupt",
     "evalue": "Interrupted by user",
     "output_type": "error",
     "traceback": [
      "\u001b[0;31m---------------------------------------------------------------------------\u001b[0m",
      "\u001b[0;31mKeyboardInterrupt\u001b[0m                         Traceback (most recent call last)",
      "Cell \u001b[0;32mIn[7], line 3\u001b[0m\n\u001b[1;32m      1\u001b[0m \u001b[38;5;66;03m#including more functions for teachers to check scores haha\u001b[39;00m\n\u001b[0;32m----> 3\u001b[0m count \u001b[38;5;241m=\u001b[39m \u001b[38;5;28mint\u001b[39m(\u001b[38;5;28minput\u001b[39m(\u001b[38;5;124m'\u001b[39m\u001b[38;5;124mEnter number of scores to check:\u001b[39m\u001b[38;5;124m'\u001b[39m))\n\u001b[1;32m      5\u001b[0m \u001b[38;5;28;01mwhile\u001b[39;00m count \u001b[38;5;241m>\u001b[39m \u001b[38;5;241m0\u001b[39m:\n\u001b[1;32m      7\u001b[0m     grade \u001b[38;5;241m=\u001b[39m (\u001b[38;5;28minput\u001b[39m(\u001b[38;5;124m'\u001b[39m\u001b[38;5;124mEnter the student\u001b[39m\u001b[38;5;130;01m\\'\u001b[39;00m\u001b[38;5;124ms score:\u001b[39m\u001b[38;5;124m'\u001b[39m))\n",
      "File \u001b[0;32m~/anaconda3/lib/python3.11/site-packages/ipykernel/kernelbase.py:1202\u001b[0m, in \u001b[0;36mKernel.raw_input\u001b[0;34m(self, prompt)\u001b[0m\n\u001b[1;32m   1200\u001b[0m     msg \u001b[38;5;241m=\u001b[39m \u001b[38;5;124m\"\u001b[39m\u001b[38;5;124mraw_input was called, but this frontend does not support input requests.\u001b[39m\u001b[38;5;124m\"\u001b[39m\n\u001b[1;32m   1201\u001b[0m     \u001b[38;5;28;01mraise\u001b[39;00m StdinNotImplementedError(msg)\n\u001b[0;32m-> 1202\u001b[0m \u001b[38;5;28;01mreturn\u001b[39;00m \u001b[38;5;28mself\u001b[39m\u001b[38;5;241m.\u001b[39m_input_request(\n\u001b[1;32m   1203\u001b[0m     \u001b[38;5;28mstr\u001b[39m(prompt),\n\u001b[1;32m   1204\u001b[0m     \u001b[38;5;28mself\u001b[39m\u001b[38;5;241m.\u001b[39m_parent_ident[\u001b[38;5;124m\"\u001b[39m\u001b[38;5;124mshell\u001b[39m\u001b[38;5;124m\"\u001b[39m],\n\u001b[1;32m   1205\u001b[0m     \u001b[38;5;28mself\u001b[39m\u001b[38;5;241m.\u001b[39mget_parent(\u001b[38;5;124m\"\u001b[39m\u001b[38;5;124mshell\u001b[39m\u001b[38;5;124m\"\u001b[39m),\n\u001b[1;32m   1206\u001b[0m     password\u001b[38;5;241m=\u001b[39m\u001b[38;5;28;01mFalse\u001b[39;00m,\n\u001b[1;32m   1207\u001b[0m )\n",
      "File \u001b[0;32m~/anaconda3/lib/python3.11/site-packages/ipykernel/kernelbase.py:1245\u001b[0m, in \u001b[0;36mKernel._input_request\u001b[0;34m(self, prompt, ident, parent, password)\u001b[0m\n\u001b[1;32m   1242\u001b[0m \u001b[38;5;28;01mexcept\u001b[39;00m \u001b[38;5;167;01mKeyboardInterrupt\u001b[39;00m:\n\u001b[1;32m   1243\u001b[0m     \u001b[38;5;66;03m# re-raise KeyboardInterrupt, to truncate traceback\u001b[39;00m\n\u001b[1;32m   1244\u001b[0m     msg \u001b[38;5;241m=\u001b[39m \u001b[38;5;124m\"\u001b[39m\u001b[38;5;124mInterrupted by user\u001b[39m\u001b[38;5;124m\"\u001b[39m\n\u001b[0;32m-> 1245\u001b[0m     \u001b[38;5;28;01mraise\u001b[39;00m \u001b[38;5;167;01mKeyboardInterrupt\u001b[39;00m(msg) \u001b[38;5;28;01mfrom\u001b[39;00m \u001b[38;5;28;01mNone\u001b[39;00m\n\u001b[1;32m   1246\u001b[0m \u001b[38;5;28;01mexcept\u001b[39;00m \u001b[38;5;167;01mException\u001b[39;00m:\n\u001b[1;32m   1247\u001b[0m     \u001b[38;5;28mself\u001b[39m\u001b[38;5;241m.\u001b[39mlog\u001b[38;5;241m.\u001b[39mwarning(\u001b[38;5;124m\"\u001b[39m\u001b[38;5;124mInvalid Message:\u001b[39m\u001b[38;5;124m\"\u001b[39m, exc_info\u001b[38;5;241m=\u001b[39m\u001b[38;5;28;01mTrue\u001b[39;00m)\n",
      "\u001b[0;31mKeyboardInterrupt\u001b[0m: Interrupted by user"
     ]
    }
   ],
   "source": [
    "#including more functions for teachers to check scores haha\n",
    "\n",
    "count = int(input('Enter number of scores to check:'))\n",
    "\n",
    "while count > 0:\n",
    "    \n",
    "    grade = (input('Enter the student\\'s score:'))\n",
    "    \n",
    "    try:\n",
    "        grade = float(grade) #\n",
    "        \n",
    "        if (grade > 100  or grade < 0):\n",
    "            \n",
    "            print('Input is invalid. Try Again') \n",
    "\n",
    "        elif (grade >= 70  and grade <= 100):\n",
    "            \n",
    "            count -= 1\n",
    "            print(f'The student\\'s letter grade is: A. {count} more papers to go!')\n",
    "\n",
    "        elif (grade >= 50  and grade <= 69):\n",
    "            \n",
    "            count -= 1\n",
    "            print(f'The student\\'s letter grade is: B. {count} more papers to go!')\n",
    "\n",
    "        elif (grade >= 35  and grade <= 49):\n",
    "            \n",
    "            count -= 1\n",
    "            print(f'The student\\'s letter grade is: C. {count} more papers to go!')\n",
    "\n",
    "        else:\n",
    "            \n",
    "            count -= 1\n",
    "            print(f'The student failed boohoo.{count} more papers to go!')\n",
    "\n",
    "    except ValueError:  \n",
    "        \n",
    "        print('Input is not a number. Try Again')\n",
    "\n",
    "print(\"You are done!\")"
   ]
  },
  {
   "cell_type": "code",
   "execution_count": 19,
   "id": "22cd04a9",
   "metadata": {},
   "outputs": [
    {
     "name": "stdout",
     "output_type": "stream",
     "text": [
      "Enter the student's score:2344\n",
      "Enter the student's score:12\n",
      "Enter the student's score:56\n",
      "Enter the student's score:79\n",
      "Enter the student's score:\n",
      "['2344', '12', '56', '79']\n",
      "Input is invalid for Student 1. Try Again\n",
      "Student 1 scored a B\n",
      "Student 2 scored a F\n",
      "Student 3 scored a B\n",
      "Student 4 scored a A\n"
     ]
    }
   ],
   "source": [
    "lst = []\n",
    "\n",
    "while True:\n",
    "    \n",
    "    score = input('Enter the student\\'s score:')\n",
    "    \n",
    "    if score == \"\":\n",
    "        break\n",
    "\n",
    "    lst.append(score)\n",
    "\n",
    "print(lst)\n",
    "\n",
    "for i in range(len(lst)):\n",
    "    \n",
    "    grade = int(lst[i])\n",
    "    \n",
    "    if (grade >= 70  and grade <= 100):\n",
    "            \n",
    "        result = \"A\"\n",
    "\n",
    "    elif (grade >= 50  and grade <= 69):\n",
    "        \n",
    "        result = \"B\"\n",
    "\n",
    "    elif (grade >= 35  and grade <= 49):\n",
    "        \n",
    "        result = \"C\"   \n",
    "            \n",
    "    elif(grade >= 0  and grade <= 35):\n",
    "        \n",
    "        result = \"F\"   \n",
    "     \n",
    "    else:\n",
    "            \n",
    "        print(f'Input is invalid for Student {i+1}. Try Again') \n",
    "\n",
    "    print(f'Student {i+1} scored a {result}')\n",
    "\n",
    "    "
   ]
  },
  {
   "cell_type": "code",
   "execution_count": null,
   "id": "81bf0aa4",
   "metadata": {},
   "outputs": [],
   "source": []
  }
 ],
 "metadata": {
  "kernelspec": {
   "display_name": "Python 3 (ipykernel)",
   "language": "python",
   "name": "python3"
  },
  "language_info": {
   "codemirror_mode": {
    "name": "ipython",
    "version": 3
   },
   "file_extension": ".py",
   "mimetype": "text/x-python",
   "name": "python",
   "nbconvert_exporter": "python",
   "pygments_lexer": "ipython3",
   "version": "3.11.5"
  },
  "toc": {
   "base_numbering": 1,
   "nav_menu": {},
   "number_sections": true,
   "sideBar": true,
   "skip_h1_title": false,
   "title_cell": "Table of Contents",
   "title_sidebar": "Contents",
   "toc_cell": false,
   "toc_position": {},
   "toc_section_display": true,
   "toc_window_display": false
  },
  "vscode": {
   "interpreter": {
    "hash": "31f2aee4e71d21fbe5cf8b01ff0e069b9275f58929596ceb00d14d90e3e16cd6"
   }
  }
 },
 "nbformat": 4,
 "nbformat_minor": 5
}
