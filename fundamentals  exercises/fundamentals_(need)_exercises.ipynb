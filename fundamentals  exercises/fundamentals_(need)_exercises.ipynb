{
 "cells": [
  {
   "cell_type": "markdown",
   "id": "123456",
   "metadata": {},
   "source": [
    "<div style=\"text-align:left;font-size:2em\"><span style=\"font-weight:bolder;font-size:1.25em\">SP2273 | Learning Portfolio</span><br><br><span style=\"font-weight:bold;color:darkred\">Fundamentals (Need) Exercises</span></div>"
   ]
  },
  {
   "cell_type": "markdown",
   "id": "288d725c",
   "metadata": {},
   "source": [
    "### Features of Python\n",
    "\n",
    "1. Python is interpreted\n",
    "1. Python is sensitive. EG print() vs Print()\n",
    "1. Indentations are important in Python. EG If else statements need to have a \":\" that follows. Inserting a tab after if or else is important as well\n",
    "1. We need to know the differences between english and variables in Python. EG name is a variable, \"name\" is a string.\n",
    "1. You can import packages from the library to use their functions. EG. import math will grant you the ability to use the square root function which basic Python does not offer\n",
    "1. Using \".\" is to indicate ownership of which module the function belongs to. EG numpy.sqrt() means that you are using the square root function from the numpy package\n",
    "1. \".\" also gives access to functions and attributes. EG. \"I am your father\".upper() converts every letter in the string to capital\n",
    "1. There is a difference between using \"[ ]\", \"()\" and \"{}\". \"()\" is to carry out functions. \"[]\" is to create lists. \"{}\" is to store data just like a dictionary.\n",
    "\n",
    "1. *= is not the same as ==*\n",
    "1. *use # to insert comments that will not be interpreted by Python when you run the cell*\n",
    "1. *A function is ‘something’ that executes a specific task.*\n",
    "1. *Use if to make decisions*"
   ]
  },
  {
   "cell_type": "code",
   "execution_count": 7,
   "id": "a44312a9",
   "metadata": {},
   "outputs": [
    {
     "name": "stdout",
     "output_type": "stream",
     "text": [
      "3 4 5\n"
     ]
    }
   ],
   "source": [
    "import math \n",
    "x, y = 3, 4\n",
    "z = int(math.sqrt(x**2 + y**2))\n",
    "print(x,y,z)"
   ]
  },
  {
   "cell_type": "markdown",
   "id": "98914b7d",
   "metadata": {},
   "source": [
    "| #   |  Term   |   Description   | Example |\n",
    "| :--- | :--: |  :--: | ---: |      \n",
    "| 1   |  Function  |   A function is something that executes a specific task. | print() prints whatever is in the bracket |\n",
    "| 2   |  Argument  |   An argument is an input into function's brackets | print(name) prints the value that the variable name is assigned to |\n",
    "| 3   |  Comment | A note-to-self when you are coding which will not be interpreted by Python | #this is fun |\n",
    "| 4   |  Indentations | Formatting in code which Python takes seriously | if you do not tab the line after you write a if statement, an error will occur | \n",
    "| 5   | Packages | Functions in the Python library that you can easily import and use  | import math will grant you the ability to use the square root function which basic Python does not offer |\n",
    "| 6   | . | To indicate ownership of which module the function belongs to. | numpy.sqrt() means that you are using the square root function from the numpy package|\n",
    "| 7 | : | To indicate the start of a new block of code such as a loop, function or conditional statement. | if x == 2: .... | \n",
    "| 8| [] | To create a list | name = [\"sean\", \"an\",\"yeting\"] |\n",
    "| 9| [[[]]] | A list within a list within a list | ??? |\n",
    "| 10 | {} | To define dictionaries | info = {\"name\" : \"sean\" , \"class\" : \"2273\" |"
   ]
  },
  {
   "cell_type": "code",
   "execution_count": 7,
   "id": "b5ca780e",
   "metadata": {},
   "outputs": [
    {
     "data": {
      "text/plain": [
       "1"
      ]
     },
     "execution_count": 7,
     "metadata": {},
     "output_type": "execute_result"
    }
   ],
   "source": [
    "5/2 #divides the first number by then second number and returns a float (with decimal place)\n",
    "5//2 #divides the first number by then second number and returns an integer (just the first digit)\n",
    "5%2 #divides the first number by then second number and returns the remainder"
   ]
  }
 ],
 "metadata": {
  "kernelspec": {
   "display_name": "Python 3 (ipykernel)",
   "language": "python",
   "name": "python3"
  },
  "language_info": {
   "codemirror_mode": {
    "name": "ipython",
    "version": 3
   },
   "file_extension": ".py",
   "mimetype": "text/x-python",
   "name": "python",
   "nbconvert_exporter": "python",
   "pygments_lexer": "ipython3",
   "version": "3.11.5"
  },
  "toc": {
   "base_numbering": 1,
   "nav_menu": {},
   "number_sections": true,
   "sideBar": true,
   "skip_h1_title": false,
   "title_cell": "Table of Contents",
   "title_sidebar": "Contents",
   "toc_cell": false,
   "toc_position": {},
   "toc_section_display": true,
   "toc_window_display": false
  },
  "vscode": {
   "interpreter": {
    "hash": "31f2aee4e71d21fbe5cf8b01ff0e069b9275f58929596ceb00d14d90e3e16cd6"
   }
  }
 },
 "nbformat": 4,
 "nbformat_minor": 5
}
