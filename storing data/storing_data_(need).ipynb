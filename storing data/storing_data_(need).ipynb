{
 "cells": [
  {
   "cell_type": "markdown",
   "id": "123456",
   "metadata": {},
   "source": [
    "<div style=\"text-align:left;font-size:2em\"><span style=\"font-weight:bolder;font-size:1.25em\">SP2273 | Learning Portfolio</span><br><br><span style=\"font-weight:bold;color:darkred\">Storing Data (Need)</span></div>"
   ]
  },
  {
   "cell_type": "markdown",
   "id": "bc3c8389",
   "metadata": {},
   "source": [
    "# What to expect in this chapter"
   ]
  },
  {
   "cell_type": "markdown",
   "id": "c614764b",
   "metadata": {},
   "source": [
    "# 1 Lists, Arrays & Dictionaries"
   ]
  },
  {
   "cell_type": "markdown",
   "id": "ebeb8ea2",
   "metadata": {},
   "source": [
    "## 1.1 Let’s compare"
   ]
  },
  {
   "cell_type": "code",
   "execution_count": 1,
   "id": "67178800",
   "metadata": {},
   "outputs": [],
   "source": [
    "import numpy as np\n",
    "\n",
    "#list\n",
    "py_super_names = [\"Black Widow\", \"Iron Man\", \"Doctor Strange\"]\n",
    "py_real_names = [\"Natasha Romanoff\", \"Tony Stark\", \"Stephen Strange\"]\n",
    "\n",
    "#array\n",
    "np_super_names = np.array([\"Black Widow\", \"Iron Man\", \"Doctor Strange\"])\n",
    "np_real_names = np.array([\"Natasha Romanoff\", \"Tony Stark\", \"Stephen Strange\"])\n",
    "\n",
    "#dictionary\n",
    "\n",
    "superhero_info = {\n",
    "    \"Natasha Romanoff\": \"Black Widow\",\n",
    "    \"Tony Stark\": \"Iron Man\",\n",
    "    \"Stephen Strange\": \"Doctor Strange\"\n",
    "}"
   ]
  },
  {
   "cell_type": "markdown",
   "id": "3a7b17b8",
   "metadata": {},
   "source": [
    "## 1.2 Accessing data from a list (or array)"
   ]
  },
  {
   "cell_type": "code",
   "execution_count": 4,
   "id": "93b47cff",
   "metadata": {},
   "outputs": [
    {
     "name": "stdout",
     "output_type": "stream",
     "text": [
      "Natasha Romanoff\n",
      "Black Widow\n",
      "Tony Stark\n",
      "Iron Man\n"
     ]
    }
   ],
   "source": [
    "#Python is a zero-indexed language, meaning it starts counting at 0. \n",
    "\n",
    "print(py_real_names[0])\n",
    "print(py_super_names[0])\n",
    "print(py_real_names[1])\n",
    "print(py_super_names[1])"
   ]
  },
  {
   "cell_type": "code",
   "execution_count": 5,
   "id": "3ae4c7e4",
   "metadata": {},
   "outputs": [
    {
     "name": "stdout",
     "output_type": "stream",
     "text": [
      "Stephen Strange\n",
      "Doctor Strange\n",
      "Tony Stark\n",
      "Iron Man\n"
     ]
    }
   ],
   "source": [
    "#Using a negative index allows us to count from the back of the list. \n",
    "#For instance, using the index -1 will give the last element. \n",
    "#This is super useful because we can easily access the last element without knowing the list size.\n",
    "\n",
    "print(py_real_names[-1])\n",
    "print(py_super_names[-1])\n",
    "print(py_real_names[-2])\n",
    "print(py_super_names[-2])"
   ]
  },
  {
   "cell_type": "markdown",
   "id": "705b9798",
   "metadata": {},
   "source": [
    "## 1.3 Accessing data from a dictionary"
   ]
  },
  {
   "cell_type": "code",
   "execution_count": 6,
   "id": "2d6246fb",
   "metadata": {},
   "outputs": [
    {
     "data": {
      "text/plain": [
       "'Doctor Strange'"
      ]
     },
     "execution_count": 6,
     "metadata": {},
     "output_type": "execute_result"
    }
   ],
   "source": [
    "#dictionaries hold values paired with a key. \n",
    "\n",
    "superhero_info[py_real_names[-1]] #Key in this case is the real name."
   ]
  },
  {
   "cell_type": "code",
   "execution_count": 7,
   "id": "170c076f",
   "metadata": {},
   "outputs": [
    {
     "ename": "KeyError",
     "evalue": "'Doctor Strange'",
     "output_type": "error",
     "traceback": [
      "\u001b[0;31m---------------------------------------------------------------------------\u001b[0m",
      "\u001b[0;31mKeyError\u001b[0m                                  Traceback (most recent call last)",
      "Cell \u001b[0;32mIn[7], line 1\u001b[0m\n\u001b[0;32m----> 1\u001b[0m superhero_info[py_super_names[\u001b[38;5;241m-\u001b[39m\u001b[38;5;241m1\u001b[39m]]\n",
      "\u001b[0;31mKeyError\u001b[0m: 'Doctor Strange'"
     ]
    }
   ],
   "source": [
    "#Note: you can't use a value to find a key\n",
    "\n",
    "superhero_info[py_super_names[-1]]"
   ]
  },
  {
   "cell_type": "code",
   "execution_count": 9,
   "id": "28d6fcba",
   "metadata": {},
   "outputs": [
    {
     "data": {
      "text/plain": [
       "dict_keys(['Natasha Romanoff', 'Tony Stark', 'Stephen Strange'])"
      ]
     },
     "execution_count": 9,
     "metadata": {},
     "output_type": "execute_result"
    }
   ],
   "source": [
    "superhero_info.keys()"
   ]
  },
  {
   "cell_type": "code",
   "execution_count": 10,
   "id": "ff52fb33",
   "metadata": {},
   "outputs": [
    {
     "data": {
      "text/plain": [
       "dict_values(['Black Widow', 'Iron Man', 'Doctor Strange'])"
      ]
     },
     "execution_count": 10,
     "metadata": {},
     "output_type": "execute_result"
    }
   ],
   "source": [
    "superhero_info.values()"
   ]
  },
  {
   "cell_type": "markdown",
   "id": "c4c6f94e",
   "metadata": {},
   "source": [
    "## 1.4 Higher dimensional lists"
   ]
  },
  {
   "cell_type": "code",
   "execution_count": 17,
   "id": "be3357ff",
   "metadata": {},
   "outputs": [],
   "source": [
    "#Unlike with a dictionary, we needed two lists to store the corresponding real and superhero names. \n",
    "#An obvious way around the need to have two lists is to have a 2D list (or array) as follows.\n",
    "\n",
    "py_superhero_info = [['Natasha Romanoff', 'Black Widow',\"dead\"],\n",
    "                     ['Tony Stark', 'Iron Man',\"dead\"],\n",
    "                     ['Stephen Strange', 'Doctor Strange',\"alive\"]]\n",
    "\n",
    "np_superhero_info = np.array(py_superhero_info) # Reusing the Python list \n",
    "                                                # to create a NEW\n",
    "                                                # NumPy array"
   ]
  },
  {
   "cell_type": "markdown",
   "id": "2c6635d3",
   "metadata": {},
   "source": [
    "# 2 Lists vs. Arrays"
   ]
  },
  {
   "cell_type": "markdown",
   "id": "8d5256a8",
   "metadata": {},
   "source": [
    "## 2.1 Size"
   ]
  },
  {
   "cell_type": "code",
   "execution_count": 12,
   "id": "82397b68",
   "metadata": {},
   "outputs": [
    {
     "data": {
      "text/plain": [
       "3"
      ]
     },
     "execution_count": 12,
     "metadata": {},
     "output_type": "execute_result"
    }
   ],
   "source": [
    "len(py_superhero_info)"
   ]
  },
  {
   "cell_type": "code",
   "execution_count": 14,
   "id": "536b762a",
   "metadata": {},
   "outputs": [
    {
     "data": {
      "text/plain": [
       "3"
      ]
     },
     "execution_count": 14,
     "metadata": {},
     "output_type": "execute_result"
    }
   ],
   "source": [
    "len(np_superhero_info)"
   ]
  },
  {
   "cell_type": "code",
   "execution_count": 18,
   "id": "a29c4899",
   "metadata": {},
   "outputs": [
    {
     "data": {
      "text/plain": [
       "(3, 3)"
      ]
     },
     "execution_count": 18,
     "metadata": {},
     "output_type": "execute_result"
    }
   ],
   "source": [
    "np_superhero_info.shape #shape is not a function but an attribute of the array\n",
    "                        #returns in the form of (length,number of items in each internal list)"
   ]
  },
  {
   "cell_type": "code",
   "execution_count": 16,
   "id": "f169e969",
   "metadata": {},
   "outputs": [
    {
     "ename": "ValueError",
     "evalue": "setting an array element with a sequence. The requested array has an inhomogeneous shape after 1 dimensions. The detected shape was (10,) + inhomogeneous part.",
     "output_type": "error",
     "traceback": [
      "\u001b[0;31m---------------------------------------------------------------------------\u001b[0m",
      "\u001b[0;31mValueError\u001b[0m                                Traceback (most recent call last)",
      "Cell \u001b[0;32mIn[16], line 5\u001b[0m\n\u001b[1;32m      1\u001b[0m py_list_2d \u001b[38;5;241m=\u001b[39m [[\u001b[38;5;241m1\u001b[39m, \u001b[38;5;124m\"\u001b[39m\u001b[38;5;124mA\u001b[39m\u001b[38;5;124m\"\u001b[39m, \u001b[38;5;124m\"\u001b[39m\u001b[38;5;124mmeh\u001b[39m\u001b[38;5;124m\"\u001b[39m], [\u001b[38;5;241m2\u001b[39m, \u001b[38;5;124m\"\u001b[39m\u001b[38;5;124mB\u001b[39m\u001b[38;5;124m\"\u001b[39m], [\u001b[38;5;241m3\u001b[39m, \u001b[38;5;124m\"\u001b[39m\u001b[38;5;124mC\u001b[39m\u001b[38;5;124m\"\u001b[39m], [\u001b[38;5;241m4\u001b[39m, \u001b[38;5;124m\"\u001b[39m\u001b[38;5;124mD\u001b[39m\u001b[38;5;124m\"\u001b[39m],\n\u001b[1;32m      2\u001b[0m               [\u001b[38;5;241m5\u001b[39m, \u001b[38;5;124m\"\u001b[39m\u001b[38;5;124mE\u001b[39m\u001b[38;5;124m\"\u001b[39m], [\u001b[38;5;241m6\u001b[39m, \u001b[38;5;124m\"\u001b[39m\u001b[38;5;124mF\u001b[39m\u001b[38;5;124m\"\u001b[39m], [\u001b[38;5;241m7\u001b[39m, \u001b[38;5;124m\"\u001b[39m\u001b[38;5;124mG\u001b[39m\u001b[38;5;124m\"\u001b[39m], [\u001b[38;5;241m8\u001b[39m, \u001b[38;5;124m\"\u001b[39m\u001b[38;5;124mH\u001b[39m\u001b[38;5;124m\"\u001b[39m],\n\u001b[1;32m      3\u001b[0m               [\u001b[38;5;241m9\u001b[39m, \u001b[38;5;124m\"\u001b[39m\u001b[38;5;124mI\u001b[39m\u001b[38;5;124m\"\u001b[39m], [\u001b[38;5;241m10\u001b[39m, \u001b[38;5;124m\"\u001b[39m\u001b[38;5;124mJ\u001b[39m\u001b[38;5;124m\"\u001b[39m]]\n\u001b[0;32m----> 5\u001b[0m np_array_2d \u001b[38;5;241m=\u001b[39m np\u001b[38;5;241m.\u001b[39marray(py_list_2d)      \u001b[38;5;66;03m# Reusing the Python list \u001b[39;00m\n\u001b[1;32m      6\u001b[0m                                         \u001b[38;5;66;03m# to create a NEW\u001b[39;00m\n\u001b[1;32m      7\u001b[0m                                         \u001b[38;5;66;03m# NumPy array\u001b[39;00m\n\u001b[1;32m      8\u001b[0m np_array_2d\u001b[38;5;241m.\u001b[39mshape\n",
      "\u001b[0;31mValueError\u001b[0m: setting an array element with a sequence. The requested array has an inhomogeneous shape after 1 dimensions. The detected shape was (10,) + inhomogeneous part."
     ]
    }
   ],
   "source": [
    "py_list_2d = [[1, \"A\", \"meh\"], [2, \"B\"], [3, \"C\"], [4, \"D\"],\n",
    "              [5, \"E\"], [6, \"F\"], [7, \"G\"], [8, \"H\"],\n",
    "              [9, \"I\"], [10, \"J\"]]\n",
    "\n",
    "np_array_2d = np.array(py_list_2d)      # Reusing the Python list to create a NEW NumPy array\n",
    "                                        \n",
    "np_array_2d.shape #Note: array needs to have homogeneous shape. Same number of elements within each list."
   ]
  },
  {
   "cell_type": "markdown",
   "id": "c4a25f33",
   "metadata": {},
   "source": [
    "## 2.2 Arrays are fussy about type"
   ]
  },
  {
   "cell_type": "code",
   "execution_count": 28,
   "id": "ed319134",
   "metadata": {},
   "outputs": [],
   "source": [
    "#arrays are very particular about having 1 data type for the elements in the list. Lists are more accommodating. \n",
    "\n",
    "py_list = [1, 1.5, 'A']\n",
    "np_array = np.array(py_list)\n",
    "\n",
    "py_list[0] = \"Banana\" #replace elements"
   ]
  },
  {
   "cell_type": "code",
   "execution_count": 29,
   "id": "26ef69ac",
   "metadata": {},
   "outputs": [
    {
     "data": {
      "text/plain": [
       "['Banana', 1.5, 'A']"
      ]
     },
     "execution_count": 29,
     "metadata": {},
     "output_type": "execute_result"
    }
   ],
   "source": [
    "py_list"
   ]
  },
  {
   "cell_type": "code",
   "execution_count": 30,
   "id": "6ae7dcc6",
   "metadata": {},
   "outputs": [
    {
     "data": {
      "text/plain": [
       "array(['1', '1.5', 'A'], dtype='<U32')"
      ]
     },
     "execution_count": 30,
     "metadata": {},
     "output_type": "execute_result"
    }
   ],
   "source": [
    "np_array"
   ]
  },
  {
   "cell_type": "markdown",
   "id": "688e2825",
   "metadata": {},
   "source": [
    "## 2.3 Adding a number"
   ]
  },
  {
   "cell_type": "code",
   "execution_count": 34,
   "id": "2d29c0c5",
   "metadata": {},
   "outputs": [],
   "source": [
    "py_list2 = [1, 2, 3, 4, 5]\n",
    "np_array2 = np.array(py_list2)         "
   ]
  },
  {
   "cell_type": "code",
   "execution_count": 35,
   "id": "4405db96",
   "metadata": {},
   "outputs": [
    {
     "ename": "TypeError",
     "evalue": "can only concatenate list (not \"int\") to list",
     "output_type": "error",
     "traceback": [
      "\u001b[0;31m---------------------------------------------------------------------------\u001b[0m",
      "\u001b[0;31mTypeError\u001b[0m                                 Traceback (most recent call last)",
      "Cell \u001b[0;32mIn[35], line 1\u001b[0m\n\u001b[0;32m----> 1\u001b[0m py_list2 \u001b[38;5;241m+\u001b[39m \u001b[38;5;241m25\u001b[39m\n",
      "\u001b[0;31mTypeError\u001b[0m: can only concatenate list (not \"int\") to list"
     ]
    }
   ],
   "source": [
    "py_list2 + 25    "
   ]
  },
  {
   "cell_type": "code",
   "execution_count": 36,
   "id": "3082ca54",
   "metadata": {},
   "outputs": [
    {
     "data": {
      "text/plain": [
       "array([26, 27, 28, 29, 30])"
      ]
     },
     "execution_count": 36,
     "metadata": {},
     "output_type": "execute_result"
    }
   ],
   "source": [
    "np_array2 + 25"
   ]
  },
  {
   "cell_type": "markdown",
   "id": "fe5cc344",
   "metadata": {},
   "source": [
    "## 2.4 Adding another list"
   ]
  },
  {
   "cell_type": "code",
   "execution_count": 38,
   "id": "32b039d2",
   "metadata": {},
   "outputs": [],
   "source": [
    "py_list_1 = [1, 2, 3, 4, 5]\n",
    "py_list_2 = [10, 20, 30, 40, 50]\n",
    "\n",
    "np_array_1 = np.array(py_list_1)\n",
    "np_array_2 = np.array(py_list_2)"
   ]
  },
  {
   "cell_type": "code",
   "execution_count": 39,
   "id": "7001ba77",
   "metadata": {},
   "outputs": [
    {
     "data": {
      "text/plain": [
       "[1, 2, 3, 4, 5, 10, 20, 30, 40, 50]"
      ]
     },
     "execution_count": 39,
     "metadata": {},
     "output_type": "execute_result"
    }
   ],
   "source": [
    "py_list_1 + py_list_2 #list concats"
   ]
  },
  {
   "cell_type": "code",
   "execution_count": 40,
   "id": "8810cb1d",
   "metadata": {},
   "outputs": [
    {
     "data": {
      "text/plain": [
       "array([11, 22, 33, 44, 55])"
      ]
     },
     "execution_count": 40,
     "metadata": {},
     "output_type": "execute_result"
    }
   ],
   "source": [
    "np_array_1 + np_array_2 #arrays operates like a matrix"
   ]
  },
  {
   "cell_type": "code",
   "execution_count": 41,
   "id": "50bce79c",
   "metadata": {},
   "outputs": [],
   "source": [
    "py_list_3 = [\"sean\",\"an\", \"jerry\", \"siyou\", \"lexuan\", \"yeting\"]\n",
    "py_list_4 = [10, 20, 30, 40, 50]\n",
    "\n",
    "np_array_3 = np.array(py_list_3)\n",
    "np_array_4 = np.array(py_list_4)"
   ]
  },
  {
   "cell_type": "code",
   "execution_count": 48,
   "id": "f89e5023",
   "metadata": {},
   "outputs": [
    {
     "name": "stdout",
     "output_type": "stream",
     "text": [
      "['sean', 'an', 'jerry', 'siyou', 'lexuan', 'yeting', [10, 20, 30, 40, 50], 23]\n",
      "['sean', 'an', 'jerry', 'siyou', 'lexuan', 'yeting', [[10, 20, 30, 40, 50], 23]]\n"
     ]
    }
   ],
   "source": [
    "py_list_3 = [\"sean\",\"an\", \"jerry\", \"siyou\", \"lexuan\", \"yeting\"]\n",
    "py_list_4 = [[10, 20, 30, 40, 50],23]\n",
    "cop = py_list_3.copy()\n",
    "py_list_3.append(py_list_4) #append essentially concats \n",
    "cop.extend(py_list_4) #extend treats the second list as an element on its own\n",
    "print(cop)\n",
    "print(py_list_3)"
   ]
  },
  {
   "cell_type": "markdown",
   "id": "bf05b507",
   "metadata": {},
   "source": [
    "## 2.5 Multiplying by a Number"
   ]
  },
  {
   "cell_type": "code",
   "execution_count": 50,
   "id": "449d01be",
   "metadata": {},
   "outputs": [],
   "source": [
    "yes = [1, 2, 3, 4, 5]\n",
    "np_yes = np.array(yes)         "
   ]
  },
  {
   "cell_type": "code",
   "execution_count": 52,
   "id": "3023a7c1",
   "metadata": {},
   "outputs": [
    {
     "data": {
      "text/plain": [
       "[1, 2, 3, 4, 5, 1, 2, 3, 4, 5, 1, 2, 3, 4, 5]"
      ]
     },
     "execution_count": 52,
     "metadata": {},
     "output_type": "execute_result"
    }
   ],
   "source": [
    "yes*3 #list combines the list itself n number of times."
   ]
  },
  {
   "cell_type": "code",
   "execution_count": 53,
   "id": "fa397c97",
   "metadata": {},
   "outputs": [
    {
     "data": {
      "text/plain": [
       "array([ 3,  6,  9, 12, 15])"
      ]
     },
     "execution_count": 53,
     "metadata": {},
     "output_type": "execute_result"
    }
   ],
   "source": [
    "np_yes*3 #array multiplies the elements within the list by n times."
   ]
  },
  {
   "cell_type": "markdown",
   "id": "11240833",
   "metadata": {},
   "source": [
    "## 2.6 Squaring"
   ]
  },
  {
   "cell_type": "code",
   "execution_count": 56,
   "id": "858edd92",
   "metadata": {},
   "outputs": [],
   "source": [
    "no = [1, 2, 3, 4, 5]\n",
    "no_array = np.array(no)"
   ]
  },
  {
   "cell_type": "code",
   "execution_count": 55,
   "id": "b958b3cf",
   "metadata": {},
   "outputs": [
    {
     "ename": "TypeError",
     "evalue": "unsupported operand type(s) for ** or pow(): 'list' and 'int'",
     "output_type": "error",
     "traceback": [
      "\u001b[0;31m---------------------------------------------------------------------------\u001b[0m",
      "\u001b[0;31mTypeError\u001b[0m                                 Traceback (most recent call last)",
      "Cell \u001b[0;32mIn[55], line 1\u001b[0m\n\u001b[0;32m----> 1\u001b[0m no\u001b[38;5;241m*\u001b[39m\u001b[38;5;241m*\u001b[39m\u001b[38;5;241m3\u001b[39m\n",
      "\u001b[0;31mTypeError\u001b[0m: unsupported operand type(s) for ** or pow(): 'list' and 'int'"
     ]
    }
   ],
   "source": [
    "no**3"
   ]
  },
  {
   "cell_type": "code",
   "execution_count": 58,
   "id": "5c86bd09",
   "metadata": {},
   "outputs": [
    {
     "data": {
      "text/plain": [
       "array([  1,   8,  27,  64, 125])"
      ]
     },
     "execution_count": 58,
     "metadata": {},
     "output_type": "execute_result"
    }
   ],
   "source": [
    "no_array**3 #array raise the power of the elements by n times."
   ]
  },
  {
   "cell_type": "markdown",
   "id": "698f5cbd",
   "metadata": {},
   "source": [
    "## 2.7 Asking questions"
   ]
  },
  {
   "cell_type": "code",
   "execution_count": 65,
   "id": "76b818b2",
   "metadata": {},
   "outputs": [],
   "source": [
    "ligma = [1, 2, 3, 4, 5, 6]\n",
    "sigma = np.array(ligma)         "
   ]
  },
  {
   "cell_type": "code",
   "execution_count": 69,
   "id": "1e1544ed",
   "metadata": {},
   "outputs": [
    {
     "data": {
      "text/plain": [
       "False"
      ]
     },
     "execution_count": 69,
     "metadata": {},
     "output_type": "execute_result"
    }
   ],
   "source": [
    "ligma == 3 #asking if the variable ligma is the same value as 3"
   ]
  },
  {
   "cell_type": "code",
   "execution_count": 70,
   "id": "032b52bc",
   "metadata": {},
   "outputs": [
    {
     "data": {
      "text/plain": [
       "True"
      ]
     },
     "execution_count": 70,
     "metadata": {},
     "output_type": "execute_result"
    }
   ],
   "source": [
    "ligma == [1, 2, 3, 4, 5, 6] "
   ]
  },
  {
   "cell_type": "code",
   "execution_count": 71,
   "id": "c97a7c0d",
   "metadata": {},
   "outputs": [
    {
     "data": {
      "text/plain": [
       "array([False, False,  True, False, False, False])"
      ]
     },
     "execution_count": 71,
     "metadata": {},
     "output_type": "execute_result"
    }
   ],
   "source": [
    "sigma == 3"
   ]
  },
  {
   "cell_type": "code",
   "execution_count": 72,
   "id": "99ba0df0",
   "metadata": {},
   "outputs": [
    {
     "data": {
      "text/plain": [
       "array([False, False, False,  True,  True,  True])"
      ]
     },
     "execution_count": 72,
     "metadata": {},
     "output_type": "execute_result"
    }
   ],
   "source": [
    "sigma > 3"
   ]
  },
  {
   "cell_type": "markdown",
   "id": "9c7c8137",
   "metadata": {},
   "source": [
    "## 2.8 Mathematics"
   ]
  },
  {
   "cell_type": "code",
   "execution_count": 73,
   "id": "ec2cef39",
   "metadata": {},
   "outputs": [],
   "source": [
    "mary = [1, 2, 3, 4, 5]\n",
    "lamb = np.array(mary)         "
   ]
  },
  {
   "cell_type": "code",
   "execution_count": 74,
   "id": "b228420d",
   "metadata": {},
   "outputs": [
    {
     "data": {
      "text/plain": [
       "15"
      ]
     },
     "execution_count": 74,
     "metadata": {},
     "output_type": "execute_result"
    }
   ],
   "source": [
    "sum(mary)"
   ]
  },
  {
   "cell_type": "code",
   "execution_count": 77,
   "id": "5f64e247",
   "metadata": {},
   "outputs": [
    {
     "data": {
      "text/plain": [
       "5"
      ]
     },
     "execution_count": 77,
     "metadata": {},
     "output_type": "execute_result"
    }
   ],
   "source": [
    "max(mary)"
   ]
  },
  {
   "cell_type": "code",
   "execution_count": 78,
   "id": "e30c8f0b",
   "metadata": {},
   "outputs": [
    {
     "data": {
      "text/plain": [
       "1"
      ]
     },
     "execution_count": 78,
     "metadata": {},
     "output_type": "execute_result"
    }
   ],
   "source": [
    "min(mary)"
   ]
  },
  {
   "cell_type": "code",
   "execution_count": 79,
   "id": "c464114e",
   "metadata": {},
   "outputs": [
    {
     "data": {
      "text/plain": [
       "5"
      ]
     },
     "execution_count": 79,
     "metadata": {},
     "output_type": "execute_result"
    }
   ],
   "source": [
    "lamb.max()"
   ]
  },
  {
   "cell_type": "code",
   "execution_count": 80,
   "id": "f9fbfe6c",
   "metadata": {},
   "outputs": [
    {
     "data": {
      "text/plain": [
       "3.0"
      ]
     },
     "execution_count": 80,
     "metadata": {},
     "output_type": "execute_result"
    }
   ],
   "source": [
    "lamb.mean()"
   ]
  },
  {
   "cell_type": "code",
   "execution_count": 81,
   "id": "2dc75950",
   "metadata": {},
   "outputs": [
    {
     "data": {
      "text/plain": [
       "1.4142135623730951"
      ]
     },
     "execution_count": 81,
     "metadata": {},
     "output_type": "execute_result"
    }
   ],
   "source": [
    "lamb.std()"
   ]
  },
  {
   "cell_type": "markdown",
   "id": "7ba73bbd",
   "metadata": {},
   "source": [
    "# Exercises & Self-Assessment"
   ]
  },
  {
   "cell_type": "code",
   "execution_count": null,
   "id": "cdb634cf",
   "metadata": {},
   "outputs": [],
   "source": [
    "\n",
    "\n",
    "\n",
    "# Your solution here\n",
    "\n",
    "\n"
   ]
  },
  {
   "cell_type": "markdown",
   "id": "85238174",
   "metadata": {},
   "source": [
    "## Footnotes"
   ]
  }
 ],
 "metadata": {
  "kernelspec": {
   "display_name": "Python 3 (ipykernel)",
   "language": "python",
   "name": "python3"
  },
  "language_info": {
   "codemirror_mode": {
    "name": "ipython",
    "version": 3
   },
   "file_extension": ".py",
   "mimetype": "text/x-python",
   "name": "python",
   "nbconvert_exporter": "python",
   "pygments_lexer": "ipython3",
   "version": "3.11.5"
  },
  "toc": {
   "base_numbering": 1,
   "nav_menu": {},
   "number_sections": true,
   "sideBar": true,
   "skip_h1_title": false,
   "title_cell": "Table of Contents",
   "title_sidebar": "Contents",
   "toc_cell": false,
   "toc_position": {},
   "toc_section_display": true,
   "toc_window_display": false
  },
  "vscode": {
   "interpreter": {
    "hash": "31f2aee4e71d21fbe5cf8b01ff0e069b9275f58929596ceb00d14d90e3e16cd6"
   }
  }
 },
 "nbformat": 4,
 "nbformat_minor": 5
}
