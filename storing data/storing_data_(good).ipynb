{
 "cells": [
  {
   "cell_type": "markdown",
   "id": "123456",
   "metadata": {},
   "source": [
    "<div style=\"text-align:left;font-size:2em\"><span style=\"font-weight:bolder;font-size:1.25em\">SP2273 | Learning Portfolio</span><br><br><span style=\"font-weight:bold;color:darkred\">Storing Data (Good)</span></div>"
   ]
  },
  {
   "cell_type": "markdown",
   "id": "7b767c0e",
   "metadata": {},
   "source": [
    "# What to expect in this chapter"
   ]
  },
  {
   "cell_type": "markdown",
   "id": "37e272b8",
   "metadata": {},
   "source": [
    "# 1 Subsetting: Indexing and Slicing"
   ]
  },
  {
   "cell_type": "markdown",
   "id": "0822af3b",
   "metadata": {},
   "source": [
    "## 1.1 Lists & Arrays in 1D | Subsetting & Indexing"
   ]
  },
  {
   "cell_type": "code",
   "execution_count": 2,
   "id": "c9fd3895",
   "metadata": {},
   "outputs": [
    {
     "data": {
      "text/plain": [
       "'a1'"
      ]
     },
     "execution_count": 2,
     "metadata": {},
     "output_type": "execute_result"
    }
   ],
   "source": [
    "import numpy as np\n",
    "py_list=[\"a1\", \"b2\", \"c3\", \"d4\", \"e5\",\n",
    "         \"f6\", \"g7\", \"h8\", \"i9\", \"j10\"]\n",
    "np_array=np.array(py_list)\n",
    "\n",
    "x = py_list  \n",
    "\n",
    "x[0]   #indexing refers to selecting 1 element\n"
   ]
  },
  {
   "cell_type": "code",
   "execution_count": 3,
   "id": "532758fc",
   "metadata": {},
   "outputs": [
    {
     "data": {
      "text/plain": [
       "['a1', 'b2', 'c3']"
      ]
     },
     "execution_count": 3,
     "metadata": {},
     "output_type": "execute_result"
    }
   ],
   "source": [
    "x[0:3]  #slicing refers to selecting a range of elements.\n",
    "        #from index 0 (1st element) to index 3-1 = 2 (3rd element)"
   ]
  },
  {
   "cell_type": "code",
   "execution_count": 4,
   "id": "ff2d389f",
   "metadata": {},
   "outputs": [
    {
     "data": {
      "text/plain": [
       "['c3', 'd4', 'e5', 'f6']"
      ]
     },
     "execution_count": 4,
     "metadata": {},
     "output_type": "execute_result"
    }
   ],
   "source": [
    "x[2:6] #from index 2 (3rd element) to index 6-1 = 5 (6th element)"
   ]
  },
  {
   "cell_type": "code",
   "execution_count": 11,
   "id": "3b815f2e",
   "metadata": {},
   "outputs": [
    {
     "data": {
      "text/plain": [
       "['b2', 'd4', 'f6']"
      ]
     },
     "execution_count": 11,
     "metadata": {},
     "output_type": "execute_result"
    }
   ],
   "source": [
    "x[1:6:2]  #from index 1 (2nd element) to index 6-1 = 5 (6th element)\n",
    "          #skipping at intervals of 2"
   ]
  },
  {
   "cell_type": "code",
   "execution_count": 8,
   "id": "3a30068d",
   "metadata": {},
   "outputs": [
    {
     "data": {
      "text/plain": [
       "['b2', 'e5', 'h8']"
      ]
     },
     "execution_count": 8,
     "metadata": {},
     "output_type": "execute_result"
    }
   ],
   "source": [
    "x[1:9:3] #from index 1 (2nd element) to index 9-1 = 8 (9th element)\n",
    "         #skipping at intervals of 3"
   ]
  },
  {
   "cell_type": "code",
   "execution_count": 9,
   "id": "4ebd0847",
   "metadata": {},
   "outputs": [
    {
     "data": {
      "text/plain": [
       "['f6', 'g7', 'h8', 'i9', 'j10']"
      ]
     },
     "execution_count": 9,
     "metadata": {},
     "output_type": "execute_result"
    }
   ],
   "source": [
    "x[5:] #from 6th element to the end"
   ]
  },
  {
   "cell_type": "code",
   "execution_count": 10,
   "id": "49e4a464",
   "metadata": {},
   "outputs": [
    {
     "data": {
      "text/plain": [
       "['a1', 'b2', 'c3', 'd4', 'e5']"
      ]
     },
     "execution_count": 10,
     "metadata": {},
     "output_type": "execute_result"
    }
   ],
   "source": [
    "x[:5] #from 1st element to the index 5-1 = 4 (5th element)"
   ]
  },
  {
   "cell_type": "code",
   "execution_count": 12,
   "id": "8441fc08",
   "metadata": {},
   "outputs": [
    {
     "data": {
      "text/plain": [
       "['f6', 'e5', 'd4']"
      ]
     },
     "execution_count": 12,
     "metadata": {},
     "output_type": "execute_result"
    }
   ],
   "source": [
    "x[5:2:-1] #from index 5 (6th element) to the index 2+1 = 3 (4th element)"
   ]
  },
  {
   "cell_type": "code",
   "execution_count": 14,
   "id": "d1f61f1b",
   "metadata": {},
   "outputs": [
    {
     "data": {
      "text/plain": [
       "[]"
      ]
     },
     "execution_count": 14,
     "metadata": {},
     "output_type": "execute_result"
    }
   ],
   "source": [
    "x[5:2]"
   ]
  },
  {
   "cell_type": "code",
   "execution_count": 18,
   "id": "f55a2124",
   "metadata": {},
   "outputs": [
    {
     "data": {
      "text/plain": [
       "['j10', 'i9', 'h8', 'g7', 'f6', 'e5', 'd4', 'c3', 'b2', 'a1']"
      ]
     },
     "execution_count": 18,
     "metadata": {},
     "output_type": "execute_result"
    }
   ],
   "source": [
    "x[::-1] #reverses the list"
   ]
  },
  {
   "cell_type": "code",
   "execution_count": 19,
   "id": "40d3e74e",
   "metadata": {},
   "outputs": [
    {
     "data": {
      "text/plain": [
       "['j10', 'h8', 'f6', 'd4', 'b2']"
      ]
     },
     "execution_count": 19,
     "metadata": {},
     "output_type": "execute_result"
    }
   ],
   "source": [
    "x[::-2] #reverses the list, skipping intervals of 2"
   ]
  },
  {
   "cell_type": "markdown",
   "id": "83a2db9e",
   "metadata": {},
   "source": [
    "## 1.2 Arrays only | Subsetting by masking"
   ]
  },
  {
   "cell_type": "code",
   "execution_count": 21,
   "id": "d0391018",
   "metadata": {},
   "outputs": [
    {
     "data": {
      "text/plain": [
       "array([ 3,  4,  5,  6,  7,  8,  9, 10])"
      ]
     },
     "execution_count": 21,
     "metadata": {},
     "output_type": "execute_result"
    }
   ],
   "source": [
    "np_array = np.array([1, 2, 3, 4, 5, 6, 7, 8, 9, 10])\n",
    "my_mask = np_array >= 3 \n",
    "\n",
    "np_array[my_mask] #only show elements that is True to my question\n",
    "                  #subsetting by masking only works with NumPy arrays.\n"
   ]
  },
  {
   "cell_type": "code",
   "execution_count": 24,
   "id": "8f7b3936",
   "metadata": {},
   "outputs": [
    {
     "data": {
      "text/plain": [
       "array([ 3,  4,  5,  6,  7,  8,  9, 10])"
      ]
     },
     "execution_count": 24,
     "metadata": {},
     "output_type": "execute_result"
    }
   ],
   "source": [
    "np_array[np_array >= 3] #cleaner, don't need to create new variable"
   ]
  },
  {
   "cell_type": "code",
   "execution_count": 27,
   "id": "22e3f53b",
   "metadata": {},
   "outputs": [
    {
     "data": {
      "text/plain": [
       "array([1, 2])"
      ]
     },
     "execution_count": 27,
     "metadata": {},
     "output_type": "execute_result"
    }
   ],
   "source": [
    "np_array[~(np_array >= 3)] # '~' means 'NOT'"
   ]
  },
  {
   "cell_type": "code",
   "execution_count": 29,
   "id": "1c88a8c5",
   "metadata": {},
   "outputs": [
    {
     "data": {
      "text/plain": [
       "array([3, 4, 5, 6, 7])"
      ]
     },
     "execution_count": 29,
     "metadata": {},
     "output_type": "execute_result"
    }
   ],
   "source": [
    "np_array[(np_array >= 3) & (np_array < 8)] # '~' means '&'"
   ]
  },
  {
   "cell_type": "code",
   "execution_count": 30,
   "id": "4c8ae624",
   "metadata": {},
   "outputs": [
    {
     "data": {
      "text/plain": [
       "array([ 1,  2,  9, 10])"
      ]
     },
     "execution_count": 30,
     "metadata": {},
     "output_type": "execute_result"
    }
   ],
   "source": [
    "np_array[(np_array < 3) | (np_array > 8)] # '|' means 'OR'"
   ]
  },
  {
   "cell_type": "markdown",
   "id": "25a83e84",
   "metadata": {},
   "source": [
    "## 1.3 Lists & Arrays in 2D | Indexing & Slicing"
   ]
  },
  {
   "cell_type": "code",
   "execution_count": 56,
   "id": "f5c2f6c9",
   "metadata": {},
   "outputs": [],
   "source": [
    "y = [[1, \"A\"], [2, \"B\"], [3, \"C\"], [4, \"D\"],\n",
    "              [5, \"E\"], [6, \"F\"], [7, \"G\"], [8, \"H\"],\n",
    "              [9, \"I\"], [10, \"J\"]]\n",
    "\n",
    "x = np.array(y)"
   ]
  },
  {
   "cell_type": "code",
   "execution_count": 33,
   "id": "252b4736",
   "metadata": {},
   "outputs": [
    {
     "data": {
      "text/plain": [
       "[10, 'J']"
      ]
     },
     "execution_count": 33,
     "metadata": {},
     "output_type": "execute_result"
    }
   ],
   "source": [
    "y[-1] #nested list in last index"
   ]
  },
  {
   "cell_type": "code",
   "execution_count": 34,
   "id": "8da42f23",
   "metadata": {},
   "outputs": [
    {
     "data": {
      "text/plain": [
       "array(['10', 'J'], dtype='<U21')"
      ]
     },
     "execution_count": 34,
     "metadata": {},
     "output_type": "execute_result"
    }
   ],
   "source": [
    "x[-1] #array is fussy about different types"
   ]
  },
  {
   "cell_type": "code",
   "execution_count": 38,
   "id": "7a7b873a",
   "metadata": {},
   "outputs": [
    {
     "data": {
      "text/plain": [
       "4"
      ]
     },
     "execution_count": 38,
     "metadata": {},
     "output_type": "execute_result"
    }
   ],
   "source": [
    "y[3][0] #first element within index 3 (4th element)"
   ]
  },
  {
   "cell_type": "code",
   "execution_count": 39,
   "id": "1b388129",
   "metadata": {},
   "outputs": [
    {
     "data": {
      "text/plain": [
       "'4'"
      ]
     },
     "execution_count": 39,
     "metadata": {},
     "output_type": "execute_result"
    }
   ],
   "source": [
    "x[3,0]  #first element within index 3 (4th element)"
   ]
  },
  {
   "cell_type": "code",
   "execution_count": 41,
   "id": "ba7c2194",
   "metadata": {},
   "outputs": [
    {
     "data": {
      "text/plain": [
       "[[1, 'A'], [2, 'B'], [3, 'C']]"
      ]
     },
     "execution_count": 41,
     "metadata": {},
     "output_type": "execute_result"
    }
   ],
   "source": [
    "y[:3] #1st element to index 3-1 = 2 (3rd element)"
   ]
  },
  {
   "cell_type": "code",
   "execution_count": 44,
   "id": "c90c2e0a",
   "metadata": {},
   "outputs": [
    {
     "data": {
      "text/plain": [
       "[1, 'A']"
      ]
     },
     "execution_count": 44,
     "metadata": {},
     "output_type": "execute_result"
    }
   ],
   "source": [
    "y[:3][0] #list slices 1st element to index 3-1 = 2 (3rd element)\n",
    "         #but only picks element at index 0 (1st element)"
   ]
  },
  {
   "cell_type": "code",
   "execution_count": 49,
   "id": "1f34eba1",
   "metadata": {},
   "outputs": [
    {
     "data": {
      "text/plain": [
       "array(['1', '2', '3'], dtype='<U21')"
      ]
     },
     "execution_count": 49,
     "metadata": {},
     "output_type": "execute_result"
    }
   ],
   "source": [
    "x[:3,0] #array slices 1st element to index 3-1 = 2 (3rd element)\n",
    "        #but only picks element at index 0 (1st element) of each nested list"
   ]
  },
  {
   "cell_type": "code",
   "execution_count": 57,
   "id": "4ddad697",
   "metadata": {},
   "outputs": [
    {
     "data": {
      "text/plain": [
       "[4, 'D']"
      ]
     },
     "execution_count": 57,
     "metadata": {},
     "output_type": "execute_result"
    }
   ],
   "source": [
    "y[3:6][0] #list slices 3rd element to index 6-1 = 5 (6th element)\n",
    "          #but only picks element at index 0 of the slice (3rd element)"
   ]
  },
  {
   "cell_type": "code",
   "execution_count": 59,
   "id": "218fad52",
   "metadata": {},
   "outputs": [
    {
     "data": {
      "text/plain": [
       "array(['4', '5', '6'], dtype='<U21')"
      ]
     },
     "execution_count": 59,
     "metadata": {},
     "output_type": "execute_result"
    }
   ],
   "source": [
    "x[3:6,0] #array slices 3rd element to index 6-1 = 5 (6th element)\n",
    "         #but only picks element at index 0 (1st element) of each nested list"
   ]
  },
  {
   "cell_type": "markdown",
   "id": "dbdbeaaf",
   "metadata": {},
   "source": [
    "## 1.4 Growing lists"
   ]
  },
  {
   "cell_type": "code",
   "execution_count": 50,
   "id": "20544c6c",
   "metadata": {},
   "outputs": [
    {
     "data": {
      "text/plain": [
       "[1, 2, 1, 2, 1, 2, 1, 2, 1, 2]"
      ]
     },
     "execution_count": 50,
     "metadata": {},
     "output_type": "execute_result"
    }
   ],
   "source": [
    "w=[1, 2]*5 #list repeats itself n times\n",
    "w"
   ]
  },
  {
   "cell_type": "code",
   "execution_count": 58,
   "id": "a4b21265",
   "metadata": {},
   "outputs": [
    {
     "data": {
      "text/plain": [
       "[1, 2, 3, 5]"
      ]
     },
     "execution_count": 58,
     "metadata": {},
     "output_type": "execute_result"
    }
   ],
   "source": [
    "z=[1]\n",
    "z.append(2)\n",
    "z.append(3)\n",
    "z.append(5)\n",
    "z"
   ]
  },
  {
   "cell_type": "code",
   "execution_count": 63,
   "id": "a490678c",
   "metadata": {},
   "outputs": [
    {
     "data": {
      "text/plain": [
       "[1, 2, 3, 4, 5, 6]"
      ]
     },
     "execution_count": 63,
     "metadata": {},
     "output_type": "execute_result"
    }
   ],
   "source": [
    "a = [1,2,3]\n",
    "a.extend([4,5,6]) #extend concats the lists\n",
    "a"
   ]
  },
  {
   "cell_type": "code",
   "execution_count": 65,
   "id": "df22e19b",
   "metadata": {},
   "outputs": [
    {
     "data": {
      "text/plain": [
       "[1, 2, 3, [4, 5, 6]]"
      ]
     },
     "execution_count": 65,
     "metadata": {},
     "output_type": "execute_result"
    }
   ],
   "source": [
    "b = [1,2,3]\n",
    "b.append([4,5,6]) #append incorpoates the new list as an element\n",
    "b "
   ]
  },
  {
   "cell_type": "markdown",
   "id": "cc7a9618",
   "metadata": {},
   "source": [
    "# Some loose ends"
   ]
  },
  {
   "cell_type": "markdown",
   "id": "36dfc3c1",
   "metadata": {},
   "source": [
    "## 1.5 Tuples"
   ]
  },
  {
   "cell_type": "code",
   "execution_count": 70,
   "id": "a775ebd7",
   "metadata": {},
   "outputs": [
    {
     "name": "stdout",
     "output_type": "stream",
     "text": [
      "2\n"
     ]
    }
   ],
   "source": [
    "d=(1, 2, 3)     #tuple are similar to lists, except they use ( )\n",
    "                #cannot be changed after creation \n",
    "                #(i.e., they are immutable).\n",
    "print(d[1])"
   ]
  },
  {
   "cell_type": "code",
   "execution_count": 71,
   "id": "7bd4ddd6",
   "metadata": {},
   "outputs": [
    {
     "ename": "TypeError",
     "evalue": "'tuple' object does not support item assignment",
     "output_type": "error",
     "traceback": [
      "\u001b[0;31m---------------------------------------------------------------------------\u001b[0m",
      "\u001b[0;31mTypeError\u001b[0m                                 Traceback (most recent call last)",
      "Cell \u001b[0;32mIn[71], line 2\u001b[0m\n\u001b[1;32m      1\u001b[0m \u001b[38;5;66;03m# The following will NOT work \u001b[39;00m\n\u001b[0;32m----> 2\u001b[0m d[\u001b[38;5;241m0\u001b[39m]\u001b[38;5;241m=\u001b[39m\u001b[38;5;241m-\u001b[39m\u001b[38;5;241m1\u001b[39m\n\u001b[1;32m      3\u001b[0m d[\u001b[38;5;241m0\u001b[39m]\u001b[38;5;241m+\u001b[39m\u001b[38;5;241m=\u001b[39m [\u001b[38;5;241m10\u001b[39m]\n",
      "\u001b[0;31mTypeError\u001b[0m: 'tuple' object does not support item assignment"
     ]
    }
   ],
   "source": [
    "# The following will NOT work \n",
    "d[0]=-1\n",
    "d[0]+= [10]"
   ]
  },
  {
   "cell_type": "code",
   "execution_count": 73,
   "id": "ed3782f1",
   "metadata": {},
   "outputs": [
    {
     "name": "stdout",
     "output_type": "stream",
     "text": [
      "-1\n"
     ]
    }
   ],
   "source": [
    "e = [1,2,3]\n",
    "e[0] = -1\n",
    "print(e[0])"
   ]
  },
  {
   "cell_type": "markdown",
   "id": "09c6b0ff",
   "metadata": {},
   "source": [
    "## 1.6 Be VERY careful when copying"
   ]
  },
  {
   "cell_type": "code",
   "execution_count": 80,
   "id": "7a407a09",
   "metadata": {},
   "outputs": [
    {
     "name": "stdout",
     "output_type": "stream",
     "text": [
      "4660527552,4660527552,4660527552\n"
     ]
    }
   ],
   "source": [
    "x=[1, 2, 3] #wrong way to copy\n",
    "y=x\n",
    "z=x\n",
    "\n",
    "print(f'{id(x)},{id(y)},{id(z)}') #x, y, z have the same id"
   ]
  },
  {
   "cell_type": "code",
   "execution_count": 81,
   "id": "6fc16109",
   "metadata": {},
   "outputs": [
    {
     "name": "stdout",
     "output_type": "stream",
     "text": [
      "[1, 2, 3, [4, 5, 6]]\n",
      "[1, 2, 3, 4, 5, 6]\n",
      "4661066432,4661058496,4661040320\n"
     ]
    }
   ],
   "source": [
    "x=[1, 2, 3] #right way to copy\n",
    "y=x.copy()\n",
    "z=x.copy()\n",
    "\n",
    "y.append([4,5,6])\n",
    "z.extend([4,5,6])\n",
    "print(y)\n",
    "print(z)\n",
    "\n",
    "print(f'{id(x)},{id(y)},{id(z)}') #x, y, z have the different id"
   ]
  },
  {
   "cell_type": "markdown",
   "id": "ef155761",
   "metadata": {},
   "source": [
    "# Exercises & Self-Assessment"
   ]
  },
  {
   "cell_type": "code",
   "execution_count": null,
   "id": "ca46d451",
   "metadata": {},
   "outputs": [],
   "source": [
    "\n",
    "\n",
    "\n",
    "# Your solution here\n",
    "\n",
    "\n"
   ]
  },
  {
   "cell_type": "markdown",
   "id": "526d1b8c",
   "metadata": {},
   "source": [
    "## Footnotes"
   ]
  }
 ],
 "metadata": {
  "kernelspec": {
   "display_name": "Python 3 (ipykernel)",
   "language": "python",
   "name": "python3"
  },
  "language_info": {
   "codemirror_mode": {
    "name": "ipython",
    "version": 3
   },
   "file_extension": ".py",
   "mimetype": "text/x-python",
   "name": "python",
   "nbconvert_exporter": "python",
   "pygments_lexer": "ipython3",
   "version": "3.11.5"
  },
  "toc": {
   "base_numbering": 1,
   "nav_menu": {},
   "number_sections": true,
   "sideBar": true,
   "skip_h1_title": false,
   "title_cell": "Table of Contents",
   "title_sidebar": "Contents",
   "toc_cell": false,
   "toc_position": {},
   "toc_section_display": true,
   "toc_window_display": false
  },
  "vscode": {
   "interpreter": {
    "hash": "31f2aee4e71d21fbe5cf8b01ff0e069b9275f58929596ceb00d14d90e3e16cd6"
   }
  }
 },
 "nbformat": 4,
 "nbformat_minor": 5
}
